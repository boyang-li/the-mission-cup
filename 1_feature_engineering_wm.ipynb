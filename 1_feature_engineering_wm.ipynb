{
 "cells": [
  {
   "cell_type": "code",
   "execution_count": 1,
   "metadata": {},
   "outputs": [
    {
     "name": "stderr",
     "output_type": "stream",
     "text": [
      "/Users/Meng/opt/anaconda3/lib/python3.7/site-packages/sklearn/externals/joblib/__init__.py:15: DeprecationWarning: sklearn.externals.joblib is deprecated in 0.21 and will be removed in 0.23. Please import this functionality directly from joblib, which can be installed with: pip install joblib. If this warning is raised when loading pickled models, you may need to re-serialize those models with scikit-learn 0.21+.\n",
      "  warnings.warn(msg, category=DeprecationWarning)\n"
     ]
    }
   ],
   "source": [
    "%config ZMQInteractiveShell.ast_node_interactivity='all'\n",
    "%matplotlib inline\n",
    "import warnings;warnings.filterwarnings('ignore')\n",
    "import os\n",
    "import numpy as np\n",
    "import pandas as pd\n",
    "import matplotlib.pyplot as plt\n",
    "\n",
    "from sklearn import metrics\n",
    "from sklearn.base import BaseEstimator, ClassifierMixin, TransformerMixin, clone\n",
    "from sklearn.preprocessing import Imputer, LabelEncoder\n",
    "from sklearn.model_selection import KFold, StratifiedKFold, RandomizedSearchCV\n",
    "from sklearn.externals import joblib"
   ]
  },
  {
   "cell_type": "code",
   "execution_count": 2,
   "metadata": {},
   "outputs": [],
   "source": [
    "target = '标签'\n",
    "uid = '申请编号'"
   ]
  },
  {
   "cell_type": "code",
   "execution_count": 4,
   "metadata": {},
   "outputs": [
    {
     "data": {
      "text/plain": [
       "(140000, 331)"
      ]
     },
     "execution_count": 4,
     "metadata": {},
     "output_type": "execute_result"
    },
    {
     "data": {
      "text/html": [
       "<div>\n",
       "<style scoped>\n",
       "    .dataframe tbody tr th:only-of-type {\n",
       "        vertical-align: middle;\n",
       "    }\n",
       "\n",
       "    .dataframe tbody tr th {\n",
       "        vertical-align: top;\n",
       "    }\n",
       "\n",
       "    .dataframe thead th {\n",
       "        text-align: right;\n",
       "    }\n",
       "</style>\n",
       "<table border=\"1\" class=\"dataframe\">\n",
       "  <thead>\n",
       "    <tr style=\"text-align: right;\">\n",
       "      <th></th>\n",
       "      <th>申请编号</th>\n",
       "      <th>标签</th>\n",
       "      <th>贷款类型</th>\n",
       "      <th>信用额度</th>\n",
       "      <th>贷款年金</th>\n",
       "      <th>商品价格</th>\n",
       "      <th>陪同申请人</th>\n",
       "      <th>出生日期距申请日期天数</th>\n",
       "      <th>工作日期距申请日期天数</th>\n",
       "      <th>注册日期距申请日期天数</th>\n",
       "      <th>...</th>\n",
       "      <th>申请时点_6sum</th>\n",
       "      <th>申请时点_6mean</th>\n",
       "      <th>申请时点_7sum</th>\n",
       "      <th>申请时点_7mean</th>\n",
       "      <th>申请时点_8sum</th>\n",
       "      <th>申请时点_8mean</th>\n",
       "      <th>申请时点_9sum</th>\n",
       "      <th>申请时点_9mean</th>\n",
       "      <th>申请时点_othersum</th>\n",
       "      <th>申请时点_othermean</th>\n",
       "    </tr>\n",
       "  </thead>\n",
       "  <tbody>\n",
       "    <tr>\n",
       "      <td>0</td>\n",
       "      <td>0</td>\n",
       "      <td>1</td>\n",
       "      <td>0</td>\n",
       "      <td>460190.889355</td>\n",
       "      <td>17463.042019</td>\n",
       "      <td>419951.511045</td>\n",
       "      <td>7.0</td>\n",
       "      <td>-10107.0</td>\n",
       "      <td>-342.0</td>\n",
       "      <td>-5421.0</td>\n",
       "      <td>...</td>\n",
       "      <td>0.0</td>\n",
       "      <td>0.0</td>\n",
       "      <td>0.0</td>\n",
       "      <td>0.0</td>\n",
       "      <td>0.0</td>\n",
       "      <td>0.0</td>\n",
       "      <td>1.0</td>\n",
       "      <td>1.0</td>\n",
       "      <td>0.0</td>\n",
       "      <td>0.0</td>\n",
       "    </tr>\n",
       "    <tr>\n",
       "      <td>1</td>\n",
       "      <td>1</td>\n",
       "      <td>0</td>\n",
       "      <td>0</td>\n",
       "      <td>424370.659603</td>\n",
       "      <td>15585.046388</td>\n",
       "      <td>384597.975692</td>\n",
       "      <td>7.0</td>\n",
       "      <td>-13980.0</td>\n",
       "      <td>-1110.0</td>\n",
       "      <td>-3387.0</td>\n",
       "      <td>...</td>\n",
       "      <td>0.0</td>\n",
       "      <td>0.0</td>\n",
       "      <td>0.0</td>\n",
       "      <td>0.0</td>\n",
       "      <td>0.0</td>\n",
       "      <td>0.0</td>\n",
       "      <td>0.0</td>\n",
       "      <td>0.0</td>\n",
       "      <td>2.0</td>\n",
       "      <td>1.0</td>\n",
       "    </tr>\n",
       "    <tr>\n",
       "      <td>2</td>\n",
       "      <td>2</td>\n",
       "      <td>0</td>\n",
       "      <td>0</td>\n",
       "      <td>469330.587153</td>\n",
       "      <td>18837.558252</td>\n",
       "      <td>419951.511045</td>\n",
       "      <td>1.0</td>\n",
       "      <td>-13331.0</td>\n",
       "      <td>-2246.0</td>\n",
       "      <td>-3870.0</td>\n",
       "      <td>...</td>\n",
       "      <td>1.0</td>\n",
       "      <td>0.1</td>\n",
       "      <td>7.0</td>\n",
       "      <td>0.7</td>\n",
       "      <td>1.0</td>\n",
       "      <td>0.1</td>\n",
       "      <td>1.0</td>\n",
       "      <td>0.1</td>\n",
       "      <td>0.0</td>\n",
       "      <td>0.0</td>\n",
       "    </tr>\n",
       "    <tr>\n",
       "      <td>3</td>\n",
       "      <td>3</td>\n",
       "      <td>0</td>\n",
       "      <td>0</td>\n",
       "      <td>464188.353140</td>\n",
       "      <td>16754.587069</td>\n",
       "      <td>409850.500944</td>\n",
       "      <td>7.0</td>\n",
       "      <td>-16540.0</td>\n",
       "      <td>NaN</td>\n",
       "      <td>-970.0</td>\n",
       "      <td>...</td>\n",
       "      <td>0.0</td>\n",
       "      <td>0.0</td>\n",
       "      <td>0.0</td>\n",
       "      <td>0.0</td>\n",
       "      <td>0.0</td>\n",
       "      <td>0.0</td>\n",
       "      <td>0.0</td>\n",
       "      <td>0.0</td>\n",
       "      <td>0.0</td>\n",
       "      <td>0.0</td>\n",
       "    </tr>\n",
       "    <tr>\n",
       "      <td>4</td>\n",
       "      <td>5</td>\n",
       "      <td>0</td>\n",
       "      <td>0</td>\n",
       "      <td>434196.988738</td>\n",
       "      <td>16165.009200</td>\n",
       "      <td>394698.985793</td>\n",
       "      <td>7.0</td>\n",
       "      <td>-17919.0</td>\n",
       "      <td>-11037.0</td>\n",
       "      <td>-9350.0</td>\n",
       "      <td>...</td>\n",
       "      <td>1.0</td>\n",
       "      <td>0.2</td>\n",
       "      <td>0.0</td>\n",
       "      <td>0.0</td>\n",
       "      <td>2.0</td>\n",
       "      <td>0.4</td>\n",
       "      <td>1.0</td>\n",
       "      <td>0.2</td>\n",
       "      <td>0.0</td>\n",
       "      <td>0.0</td>\n",
       "    </tr>\n",
       "  </tbody>\n",
       "</table>\n",
       "<p>5 rows × 331 columns</p>\n",
       "</div>"
      ],
      "text/plain": [
       "   申请编号  标签  贷款类型           信用额度          贷款年金           商品价格  陪同申请人  \\\n",
       "0     0   1     0  460190.889355  17463.042019  419951.511045    7.0   \n",
       "1     1   0     0  424370.659603  15585.046388  384597.975692    7.0   \n",
       "2     2   0     0  469330.587153  18837.558252  419951.511045    1.0   \n",
       "3     3   0     0  464188.353140  16754.587069  409850.500944    7.0   \n",
       "4     5   0     0  434196.988738  16165.009200  394698.985793    7.0   \n",
       "\n",
       "   出生日期距申请日期天数  工作日期距申请日期天数  注册日期距申请日期天数  ...  申请时点_6sum  申请时点_6mean  \\\n",
       "0     -10107.0       -342.0      -5421.0  ...        0.0         0.0   \n",
       "1     -13980.0      -1110.0      -3387.0  ...        0.0         0.0   \n",
       "2     -13331.0      -2246.0      -3870.0  ...        1.0         0.1   \n",
       "3     -16540.0          NaN       -970.0  ...        0.0         0.0   \n",
       "4     -17919.0     -11037.0      -9350.0  ...        1.0         0.2   \n",
       "\n",
       "   申请时点_7sum  申请时点_7mean  申请时点_8sum  申请时点_8mean  申请时点_9sum  申请时点_9mean  \\\n",
       "0        0.0         0.0        0.0         0.0        1.0         1.0   \n",
       "1        0.0         0.0        0.0         0.0        0.0         0.0   \n",
       "2        7.0         0.7        1.0         0.1        1.0         0.1   \n",
       "3        0.0         0.0        0.0         0.0        0.0         0.0   \n",
       "4        0.0         0.0        2.0         0.4        1.0         0.2   \n",
       "\n",
       "   申请时点_othersum  申请时点_othermean  \n",
       "0            0.0             0.0  \n",
       "1            2.0             1.0  \n",
       "2            0.0             0.0  \n",
       "3            0.0             0.0  \n",
       "4            0.0             0.0  \n",
       "\n",
       "[5 rows x 331 columns]"
      ]
     },
     "execution_count": 4,
     "metadata": {},
     "output_type": "execute_result"
    }
   ],
   "source": [
    "############## Load\n",
    "\n",
    "data_ori= pd.read_csv('./tmp/d12_d30.csv', header=0, index_col=0)\n",
    "data_ori.shape\n",
    "data_ori.head()"
   ]
  },
  {
   "cell_type": "code",
   "execution_count": 6,
   "metadata": {},
   "outputs": [
    {
     "name": "stderr",
     "output_type": "stream",
     "text": [
      "/Users/Meng/opt/anaconda3/lib/python3.7/site-packages/sklearn/utils/deprecation.py:66: DeprecationWarning: Class Imputer is deprecated; Imputer was deprecated in version 0.20 and will be removed in 0.22. Import impute.SimpleImputer from sklearn instead.\n",
      "  warnings.warn(msg, category=DeprecationWarning)\n"
     ]
    },
    {
     "data": {
      "text/plain": [
       "140000"
      ]
     },
     "execution_count": 6,
     "metadata": {},
     "output_type": "execute_result"
    },
    {
     "data": {
      "text/plain": [
       "331"
      ]
     },
     "execution_count": 6,
     "metadata": {},
     "output_type": "execute_result"
    }
   ],
   "source": [
    "############## Fill Null\n",
    "\n",
    "# Fill Null\n",
    "imp =Imputer(missing_values=np.NaN, strategy=\"mean\", axis=0)\n",
    "data = imp.fit_transform(data_ori)\n",
    "len(data)\n",
    "len(data[0])"
   ]
  },
  {
   "cell_type": "code",
   "execution_count": 11,
   "metadata": {},
   "outputs": [
    {
     "data": {
      "text/plain": [
       "' y '"
      ]
     },
     "execution_count": 11,
     "metadata": {},
     "output_type": "execute_result"
    },
    {
     "data": {
      "text/plain": [
       "140000"
      ]
     },
     "execution_count": 11,
     "metadata": {},
     "output_type": "execute_result"
    },
    {
     "data": {
      "text/plain": [
       "array([1., 0., 0., 0., 0., 0., 0., 0., 0., 0.])"
      ]
     },
     "execution_count": 11,
     "metadata": {},
     "output_type": "execute_result"
    },
    {
     "data": {
      "text/plain": [
       "' X '"
      ]
     },
     "execution_count": 11,
     "metadata": {},
     "output_type": "execute_result"
    },
    {
     "data": {
      "text/plain": [
       "140000"
      ]
     },
     "execution_count": 11,
     "metadata": {},
     "output_type": "execute_result"
    },
    {
     "data": {
      "text/plain": [
       "329"
      ]
     },
     "execution_count": 11,
     "metadata": {},
     "output_type": "execute_result"
    },
    {
     "data": {
      "text/plain": [
       "array([ 0.00000000e+00,  4.60190889e+05,  1.74630420e+04,  4.19951511e+05,\n",
       "        7.00000000e+00, -1.01070000e+04, -3.42000000e+02, -5.42100000e+03,\n",
       "       -3.29200000e+03,  1.00000000e+00])"
      ]
     },
     "execution_count": 11,
     "metadata": {},
     "output_type": "execute_result"
    }
   ],
   "source": [
    "############## X, y\n",
    "\n",
    "''' y '''\n",
    "y = data[:, 1]\n",
    "len(y)\n",
    "y[:10]\n",
    "\n",
    "''' X '''\n",
    "X = data[:, 2:]\n",
    "len(X)\n",
    "len(X[0])\n",
    "X[0][:10]\n",
    "\n",
    "pd.DataFrame(y).to_csv('./tmp/1_y.csv')\n",
    "pd.DataFrame(X).to_csv('./tmp/1_X.csv')"
   ]
  },
  {
   "cell_type": "code",
   "execution_count": 34,
   "metadata": {},
   "outputs": [
    {
     "data": {
      "text/plain": [
       "' y '"
      ]
     },
     "execution_count": 34,
     "metadata": {},
     "output_type": "execute_result"
    },
    {
     "data": {
      "text/plain": [
       "140000"
      ]
     },
     "execution_count": 34,
     "metadata": {},
     "output_type": "execute_result"
    },
    {
     "data": {
      "text/plain": [
       "140000"
      ]
     },
     "execution_count": 34,
     "metadata": {},
     "output_type": "execute_result"
    },
    {
     "data": {
      "text/plain": [
       "140000"
      ]
     },
     "execution_count": 34,
     "metadata": {},
     "output_type": "execute_result"
    },
    {
     "data": {
      "text/plain": [
       "' X '"
      ]
     },
     "execution_count": 34,
     "metadata": {},
     "output_type": "execute_result"
    },
    {
     "data": {
      "text/plain": [
       "140000"
      ]
     },
     "execution_count": 34,
     "metadata": {},
     "output_type": "execute_result"
    },
    {
     "data": {
      "text/plain": [
       "329"
      ]
     },
     "execution_count": 34,
     "metadata": {},
     "output_type": "execute_result"
    },
    {
     "data": {
      "text/plain": [
       "140000"
      ]
     },
     "execution_count": 34,
     "metadata": {},
     "output_type": "execute_result"
    },
    {
     "data": {
      "text/plain": [
       "329"
      ]
     },
     "execution_count": 34,
     "metadata": {},
     "output_type": "execute_result"
    },
    {
     "data": {
      "text/plain": [
       "array([325, 327, 328, ..., 325, 327, 328])"
      ]
     },
     "execution_count": 34,
     "metadata": {},
     "output_type": "execute_result"
    },
    {
     "data": {
      "text/plain": [
       "46060000"
      ]
     },
     "execution_count": 34,
     "metadata": {},
     "output_type": "execute_result"
    }
   ],
   "source": [
    "############## Check\n",
    "\n",
    "X1 = pd.read_csv('./tmp/1_X.csv', header=0, index_col=0)\n",
    "X1.shape\n",
    "X1.head()\n",
    "\n",
    "y1 = pd.read_csv('./tmp/1_y.csv', header=0, index_col=0)\n",
    "y1.shape\n",
    "y1.head()\n",
    "\n",
    "''' y '''\n",
    "len(y)\n",
    "y2 = y1['0'].values\n",
    "len(y2)\n",
    "(y == y2).sum()\n",
    "\n",
    "''' X '''\n",
    "len(X)\n",
    "len(X[0])\n",
    "X2 = X1.values\n",
    "len(X2)\n",
    "len(X2[0])\n",
    "(X == X2).sum(axis=1)\n",
    "140000 * 329"
   ]
  },
  {
   "cell_type": "code",
   "execution_count": 18,
   "metadata": {},
   "outputs": [
    {
     "data": {
      "text/plain": [
       "1.0"
      ]
     },
     "execution_count": 18,
     "metadata": {},
     "output_type": "execute_result"
    },
    {
     "data": {
      "text/plain": [
       "array([1.])"
      ]
     },
     "execution_count": 18,
     "metadata": {},
     "output_type": "execute_result"
    }
   ],
   "source": [
    "n=0\n",
    "y[n]\n",
    "y2[n]"
   ]
  }
 ],
 "metadata": {
  "kernelspec": {
   "display_name": "Python 3",
   "language": "python",
   "name": "python3"
  },
  "language_info": {
   "codemirror_mode": {
    "name": "ipython",
    "version": 3
   },
   "file_extension": ".py",
   "mimetype": "text/x-python",
   "name": "python",
   "nbconvert_exporter": "python",
   "pygments_lexer": "ipython3",
   "version": "3.7.4"
  }
 },
 "nbformat": 4,
 "nbformat_minor": 2
}
