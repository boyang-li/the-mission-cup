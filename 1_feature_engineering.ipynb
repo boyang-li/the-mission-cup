{
 "cells": [
  {
   "cell_type": "code",
   "execution_count": 1,
   "metadata": {},
   "outputs": [],
   "source": [
    "%config ZMQInteractiveShell.ast_node_interactivity='all'\n",
    "%matplotlib inline\n",
    "import warnings;warnings.filterwarnings('ignore')\n",
    "import numpy as np\n",
    "import pandas as pd\n",
    "from sklearn.preprocessing import Imputer, LabelEncoder\n",
    "from sklearn import metrics\n",
    "import os"
   ]
  },
  {
   "cell_type": "code",
   "execution_count": 2,
   "metadata": {},
   "outputs": [],
   "source": [
    "#### load data files ###\n",
    "\n",
    "# Change file name prefix here and you are good to go:D\n",
    "# prefix = \"train_\"\n",
    "# prefix = \"A_\"\n",
    "\n",
    "# Generate data file name list\n",
    "file_names = [\"Application.csv\",\"Personas.csv\",\"History_Application.csv\",\"History_Payment.csv\"]\n",
    "# for idx, val in enumerate(file_names):\n",
    "#     file_names[idx] = prefix + val  \n",
    "\n",
    "# load data files\n",
    "prefix = \"train_\"\n",
    "d01 = pd.read_csv(f'./data/{prefix}{file_names[0]}')\n",
    "d02 = pd.read_csv(f'./data/{prefix}{file_names[1]}')\n",
    "d03 = pd.read_csv(f'./data/{prefix}{file_names[2]}')\n",
    "d04 = pd.read_csv(f'./data/{prefix}{file_names[3]}')\n",
    "prefix = \"A_\"\n",
    "# load data files\n",
    "d05 = pd.read_csv(f'./data/{prefix}{file_names[0]}')\n",
    "d06 = pd.read_csv(f'./data/{prefix}{file_names[1]}')\n",
    "d07 = pd.read_csv(f'./data/{prefix}{file_names[2]}')\n",
    "d08 = pd.read_csv(f'./data/{prefix}{file_names[3]}')\n",
    "\n",
    "# Concat\n",
    "d1 = pd.concat([d01, d05], axis=0)\n",
    "d2 = pd.concat([d02, d06], axis=0)\n",
    "d3 = pd.concat([d03, d07], axis=0)\n",
    "d4 = pd.concat([d04, d08], axis=0)"
   ]
  },
  {
   "cell_type": "code",
   "execution_count": 3,
   "metadata": {},
   "outputs": [],
   "source": [
    "### Functions\n",
    "\n",
    "# 取一个列的众数\n",
    "def get_mode(df, col):\n",
    "    return pd.Series(df[col]).mode()[0]\n",
    "\n",
    "# 置多个列的空值为所属列的平均数\n",
    "def fill_mean(df, cols):\n",
    "    dict = {}\n",
    "    for col in cols:\n",
    "        dict[col] = df[col].mean()\n",
    "    return df.fillna(dict)\n",
    "\n",
    "# 置多个列的空值为所属列的众数\n",
    "def fill_mode(df, cols):\n",
    "    dict = {}\n",
    "    for col in cols:\n",
    "        dict[col] = get_mode(df, col)\n",
    "    return df.fillna(dict)\n",
    "\n",
    "# 把多个离散型的列转化为one-hot编码列\n",
    "def dummy_catgorical(df, cols, keep_n_cats):\n",
    "    print('initial num of cols: ' + str(len(df.columns.to_list())))\n",
    "    for col in cols:\n",
    "#         # 保存众数\n",
    "#         mode = pd.Series(df[col]).mode()[0]\n",
    "        # 离散变量太多的，低频的值归一类\n",
    "        \n",
    "        idx_list = df[col].value_counts().index.to_list()\n",
    "        print(col+'has'+str(len(idx_list)))\n",
    "        if (len(idx_list) > keep_n_cats):\n",
    "            print(' col含有过多值, skipping')\n",
    "#             # 把n后面的先置空,实际上归为一类，但dummy_na=1\n",
    "#             for val in idx_list[keep_n_cats:]:\n",
    "#                 print(' 置空低频值: ' + str(val))\n",
    "#                 df_dum.loc[(df_dum[col]==val), col] = np.NaN\n",
    "#             # 生成one-hot编码列\n",
    "#             df_dum = pd.get_dummies(df_dum,dummy_na=True,columns=[col])\n",
    "#             # 把全部是空值的行的众数dummy列置1\n",
    "#             df_dum.loc[(df_dum[(col + '_nan')]==1), (col + '_' + str(mode))] = 1\n",
    "        else:\n",
    "            # 生成one-hot编码列\n",
    "            #  print(col+' is in df_dum.columns?'+str(col in df_dum.columns))\n",
    "            # print(df_dum.columns.to_list())\n",
    "            df = pd.get_dummies(df, columns=[col])\n",
    "    return df\n",
    "\n",
    "# 打印一个df的na值\n",
    "def print_na(df):\n",
    "    # 检查d12 nan值\n",
    "    df_na = df.isna().sum()\n",
    "    for idx in df_na.index.to_list():\n",
    "        if (df_na[idx]!=0):\n",
    "            print(str(idx)+' '+str(df_na[idx]))\n"
   ]
  },
  {
   "cell_type": "code",
   "execution_count": 4,
   "metadata": {},
   "outputs": [],
   "source": [
    "### intersection\n",
    "# ''' d01&d02 '''\n",
    "# id_train = set(d01['申请编号'])\n",
    "# len(id_train)\n",
    "# id_test = set(d02['申请编号'])\n",
    "# len(id_test)\n",
    "# inter = id_train.intersection(id_test)\n",
    "# len(inter)"
   ]
  },
  {
   "cell_type": "code",
   "execution_count": 5,
   "metadata": {},
   "outputs": [],
   "source": [
    "### 过滤\n",
    "\n",
    "# 删除特征'是否为最后一次申请记录'\n",
    "if ('是否为最后一次申请记录' in d3.columns):\n",
    "    d3.drop(columns='是否为最后一次申请记录',inplace=True)\n",
    "\n",
    "# 过滤合同状态为'拒绝'的样本\n",
    "d3 = d3[d3['合同状态']!=2]"
   ]
  },
  {
   "cell_type": "code",
   "execution_count": 6,
   "metadata": {},
   "outputs": [
    {
     "data": {
      "text/plain": [
       "(161511, 62)"
      ]
     },
     "execution_count": 6,
     "metadata": {},
     "output_type": "execute_result"
    }
   ],
   "source": [
    "### Merge d1 d2 ###\n",
    "uid = '申请编号'\n",
    "d12 = pd.merge(d1, d2, how='inner', on=uid)\n",
    "d12.shape"
   ]
  },
  {
   "cell_type": "code",
   "execution_count": 7,
   "metadata": {},
   "outputs": [
    {
     "data": {
      "text/plain": [
       "(61, 2)"
      ]
     },
     "execution_count": 7,
     "metadata": {},
     "output_type": "execute_result"
    },
    {
     "data": {
      "text/html": [
       "<div>\n",
       "<style scoped>\n",
       "    .dataframe tbody tr th:only-of-type {\n",
       "        vertical-align: middle;\n",
       "    }\n",
       "\n",
       "    .dataframe tbody tr th {\n",
       "        vertical-align: top;\n",
       "    }\n",
       "\n",
       "    .dataframe thead th {\n",
       "        text-align: right;\n",
       "    }\n",
       "</style>\n",
       "<table border=\"1\" class=\"dataframe\">\n",
       "  <thead>\n",
       "    <tr style=\"text-align: right;\">\n",
       "      <th></th>\n",
       "      <th>min</th>\n",
       "      <th>max</th>\n",
       "    </tr>\n",
       "  </thead>\n",
       "  <tbody>\n",
       "    <tr>\n",
       "      <td>地址是否一致标志1</td>\n",
       "      <td>0</td>\n",
       "      <td>1</td>\n",
       "    </tr>\n",
       "    <tr>\n",
       "      <td>地址是否一致标志2</td>\n",
       "      <td>0</td>\n",
       "      <td>1</td>\n",
       "    </tr>\n",
       "    <tr>\n",
       "      <td>地址是否一致标志3</td>\n",
       "      <td>0</td>\n",
       "      <td>1</td>\n",
       "    </tr>\n",
       "    <tr>\n",
       "      <td>地址是否一致标志4</td>\n",
       "      <td>0</td>\n",
       "      <td>1</td>\n",
       "    </tr>\n",
       "    <tr>\n",
       "      <td>地址是否一致标志5</td>\n",
       "      <td>0</td>\n",
       "      <td>1</td>\n",
       "    </tr>\n",
       "  </tbody>\n",
       "</table>\n",
       "</div>"
      ],
      "text/plain": [
       "           min  max\n",
       "地址是否一致标志1    0    1\n",
       "地址是否一致标志2    0    1\n",
       "地址是否一致标志3    0    1\n",
       "地址是否一致标志4    0    1\n",
       "地址是否一致标志5    0    1"
      ]
     },
     "execution_count": 7,
     "metadata": {},
     "output_type": "execute_result"
    }
   ],
   "source": [
    "### d12 异常值处理\n",
    "\n",
    "d12.loc[\n",
    "    (d12['孩子个数'] == -1), '孩子个数'] = get_mode(d12, '孩子个数')\n",
    "\n",
    "# 距申请日期>0, 置平均值\n",
    "d12_cols = {}\n",
    "d12_cols['_dt'] = [\n",
    "    '最近一次换手机号码距申请日天数',\n",
    "    '出生日期距申请日期天数',\n",
    "    '工作日期距申请日期天数',\n",
    "    '注册日期距申请日期天数',\n",
    "    '身份认证日期距申请日期天数']\n",
    "\n",
    "for col in d12_cols['_dt']:\n",
    "    mean = d12[col].mean()\n",
    "    d12.loc[d12[col] > 0, col] = mean\n",
    "\n",
    "### Outlier：Get ###\n",
    "low = .01\n",
    "high = .99\n",
    "quant_df = d12.drop([uid], axis=1).quantile([low, high]).T\n",
    "quant_df.to_csv('./tmp/1_d12_outlier.csv')\n",
    "\n",
    "### Outlier：Apply ###\n",
    "\n",
    "outliers = pd.read_csv('./tmp/0_outlier1.csv', index_col=0)\n",
    "outliers.shape\n",
    "outliers.head()\n",
    "\n",
    "def set_outlier(col):\n",
    "    if col < col_min:\n",
    "        col = col_min\n",
    "    elif col > col_max:\n",
    "        col = col_max\n",
    "    return col\n",
    "\n",
    "# def set_outlier(col):\n",
    "#     if col < col_min or col > col_max:\n",
    "#         col = np.NaN\n",
    "#     return col\n",
    "    \n",
    "for col in outliers.index:\n",
    "# for col in '出生日期距申请日期天数', '社交圈违约信息1_2':\n",
    "    col_min = outliers.loc[col, 'min']\n",
    "    col_max = outliers.loc[col, 'max']\n",
    "    d12[col] = d12[col].apply(set_outlier)\n",
    "    \n",
    "# d12.to_csv(f'./tmp/2_eda_outlier.csv')"
   ]
  },
  {
   "cell_type": "code",
   "execution_count": 8,
   "metadata": {},
   "outputs": [
    {
     "data": {
      "text/plain": [
       "'d12 nan值'"
      ]
     },
     "execution_count": 8,
     "metadata": {},
     "output_type": "execute_result"
    },
    {
     "name": "stdout",
     "output_type": "stream",
     "text": [
      "贷款年金 8\n",
      "商品价格 140\n",
      "陪同申请人 675\n",
      "外部评分 90682\n",
      "贷款申请前1小时内征信查询次数 22217\n",
      "贷款申请前1天内征信查询次数 22217\n",
      "贷款申请前1周内征信查询次数 22217\n",
      "贷款申请前1个月内征信查询次数 22217\n",
      "贷款申请前1个季度内征信查询次数 22217\n",
      "贷款申请前1年内征信查询次数 22217\n",
      "有车时间 106448\n",
      "职业 48412\n",
      "家庭成员数 1\n",
      "居住信息1 107830\n",
      "居住信息2 113207\n",
      "居住信息3 81643\n",
      "居住信息4 78587\n",
      "社交圈违约信息2_2 516\n",
      "社交圈违约信息2_1 516\n",
      "社交圈违约信息1_2 516\n",
      "社交圈违约信息1_1 516\n"
     ]
    }
   ],
   "source": [
    "# 检查d12 nan值\n",
    "'''d12 nan值'''\n",
    "print_na(d12)\n",
    "\n",
    "# d12['收入类型'].value_counts(dropna=False)\n",
    "# d12_dum.columns.to_list()"
   ]
  },
  {
   "cell_type": "code",
   "execution_count": 9,
   "metadata": {},
   "outputs": [
    {
     "data": {
      "text/plain": [
       "'d12 nan值'"
      ]
     },
     "execution_count": 9,
     "metadata": {},
     "output_type": "execute_result"
    }
   ],
   "source": [
    "### d12 数据空值处理 ###\n",
    "\n",
    "# 插补平均值\n",
    "nan_to_mean = [\n",
    "    '贷款年金',\n",
    "    '商品价格',\n",
    "    '外部评分',\n",
    "    '贷款申请前1小时内征信查询次数',\n",
    "    '贷款申请前1天内征信查询次数',\n",
    "    '贷款申请前1周内征信查询次数',\n",
    "    '贷款申请前1个月内征信查询次数',\n",
    "    '贷款申请前1个季度内征信查询次数',\n",
    "    '贷款申请前1年内征信查询次数',\n",
    "    '居住信息1',\n",
    "    '居住信息2',\n",
    "    '居住信息3',\n",
    "    '居住信息4',\n",
    "    '有车时间'\n",
    "]\n",
    "d12 = fill_mean(d12, nan_to_mean)\n",
    "\n",
    "nan_to_mode = [\n",
    "    '家庭成员数',\n",
    "    '社交圈违约信息2_2',\n",
    "    '社交圈违约信息2_1',\n",
    "    '社交圈违约信息1_2',\n",
    "    '社交圈违约信息1_1',\n",
    "    '陪同申请人',\n",
    "    '职业'\n",
    "]\n",
    "d12 = fill_mode(d12, nan_to_mode)\n",
    "\n",
    "# 检查d12 nan值\n",
    "'''d12 nan值'''\n",
    "print_na(d12)"
   ]
  },
  {
   "cell_type": "code",
   "execution_count": 10,
   "metadata": {},
   "outputs": [
    {
     "name": "stdout",
     "output_type": "stream",
     "text": [
      "initial num of cols: 62\n",
      "陪同申请人has7\n",
      "收入类型has8\n",
      "教育程度has5\n",
      "居住状态has6\n",
      "职业has18\n",
      "单位类型has58\n",
      " col含有过多值, skipping\n"
     ]
    },
    {
     "data": {
      "text/plain": [
       "(161511, 62)"
      ]
     },
     "execution_count": 10,
     "metadata": {},
     "output_type": "execute_result"
    },
    {
     "data": {
      "text/plain": [
       "(161511, 101)"
      ]
     },
     "execution_count": 10,
     "metadata": {},
     "output_type": "execute_result"
    },
    {
     "data": {
      "text/plain": [
       "'d12_dum nan值'"
      ]
     },
     "execution_count": 10,
     "metadata": {},
     "output_type": "execute_result"
    }
   ],
   "source": [
    "### d12 类型变量转dummy列 ###\n",
    "cat_to_dummy = [\n",
    "    '陪同申请人',\n",
    "    '收入类型',\n",
    "    '教育程度',\n",
    "    '居住状态',\n",
    "    '职业',\n",
    "    '单位类型'\n",
    "]\n",
    "\n",
    "d12_dum = d12.copy()\n",
    "d12_dum = dummy_catgorical(d12_dum, cat_to_dummy, 20)\n",
    "\n",
    "d12.shape\n",
    "d12_dum.shape\n",
    "'''d12_dum nan值'''\n",
    "print_na(d12_dum)"
   ]
  },
  {
   "cell_type": "code",
   "execution_count": 11,
   "metadata": {},
   "outputs": [],
   "source": [
    "### d12_dum 处理col含有过多值\n",
    "\n",
    "if ('单位类型' in d12_dum.columns):\n",
    "    d12_dum.drop(columns='单位类型',inplace=True)"
   ]
  },
  {
   "cell_type": "code",
   "execution_count": 12,
   "metadata": {},
   "outputs": [
    {
     "data": {
      "text/plain": [
       "'d3 nan值'"
      ]
     },
     "execution_count": 12,
     "metadata": {},
     "output_type": "execute_result"
    },
    {
     "name": "stdout",
     "output_type": "stream",
     "text": [
      "贷款类型 161\n",
      "贷款年金 144172\n",
      "首付金额 303668\n",
      "商品价格 152099\n",
      "首付率 303668\n",
      "利率1 609789\n",
      "利率2 609789\n",
      "陪同申请人 311224\n",
      "贷款期数 144171\n",
      "产品组合 161\n",
      "首付时间 166778\n"
     ]
    }
   ],
   "source": [
    "# 检查d3 nan值\n",
    "'''d3 nan值'''\n",
    "print_na(d3)"
   ]
  },
  {
   "cell_type": "code",
   "execution_count": 13,
   "metadata": {},
   "outputs": [
    {
     "data": {
      "text/plain": [
       "(612366, 31)"
      ]
     },
     "execution_count": 13,
     "metadata": {},
     "output_type": "execute_result"
    },
    {
     "data": {
      "text/plain": [
       "'d3 nan值'"
      ]
     },
     "execution_count": 13,
     "metadata": {},
     "output_type": "execute_result"
    }
   ],
   "source": [
    "### d3数据清洗 - 金额型 ###\n",
    "# d3_cols['curr'] = [\n",
    "#     '贷款年金',\n",
    "#     '申请额度',\n",
    "#     '信用额度',\n",
    "#     '首付金额',\n",
    "#     '商品价格']\n",
    "\n",
    "### d3数据清洗 - 时长型 ###\n",
    "# d3_cols['time_span'] = [\n",
    "#     '历史贷款授信距本次申请时间',\n",
    "#     '首付时间']\n",
    "\n",
    "# 异常值置NaN\n",
    "d3.loc[\n",
    "    (d3['首付时间'] == 292204.0), '首付时间'] = np.NaN\n",
    "\n",
    "# d3['销售区域_count'] = d3.groupby('销售区域')['销售区域'].transform('count')\n",
    "# d3.loc[d3['销售区域_count'] < 5000, '销售区域'] = np.NaN\n",
    "\n",
    "### d3数据清洗 - 概率型 ###\n",
    "# d3_cols['prob'] = [\n",
    "#     '首付率',\n",
    "#     '利率1',\n",
    "#     '利率2']\n",
    "\n",
    "# 插补平均值\n",
    "nan_to_mean = [\n",
    "    '贷款年金',\n",
    "    '首付金额',\n",
    "    '商品价格',\n",
    "    '首付时间',\n",
    "    '首付率',\n",
    "    '利率1',\n",
    "    '利率1',\n",
    "    '利率2'\n",
    "]\n",
    "d3 = fill_mean(d3, nan_to_mean)\n",
    "\n",
    "### d3数据清洗 - 布尔型 ###\n",
    "# d3_cols['bool'] = [\n",
    "#     '是否为当天最后一次申请记录']\n",
    "\n",
    "### d3数据清洗 - 计数型 ###\n",
    "# d3_cols['cnt'] = [\n",
    "#     '贷款期数']\n",
    "\n",
    "# 插补众数\n",
    "nan_to_mode = [\n",
    "    '贷款期数',\n",
    "    '贷款类型',\n",
    "    '陪同申请人',\n",
    "    '产品组合'\n",
    "]\n",
    "d3 = fill_mode(d3, nan_to_mode)\n",
    "\n",
    "d3.shape\n",
    "'''d3 nan值'''\n",
    "print_na(d3)"
   ]
  },
  {
   "cell_type": "code",
   "execution_count": 14,
   "metadata": {},
   "outputs": [
    {
     "name": "stdout",
     "output_type": "stream",
     "text": [
      "initial num of cols: 31\n",
      "贷款类型has3\n",
      "贷款用途has25\n",
      "合同状态has3\n",
      "付款方式has4\n",
      "拒绝原因has3\n",
      "陪同申请人has7\n",
      "客户类型has4\n",
      "商品类别has27\n",
      "组合类型has5\n",
      "产品类型has3\n",
      "获客渠道has8\n",
      "销售区域has1653\n",
      " col含有过多值, skipping\n",
      "行业has11\n",
      "收益级别has5\n",
      "产品组合has17\n",
      "申请时点has12\n",
      "申请周内日has7\n"
     ]
    },
    {
     "data": {
      "text/plain": [
       "(612366, 159)"
      ]
     },
     "execution_count": 14,
     "metadata": {},
     "output_type": "execute_result"
    },
    {
     "data": {
      "text/plain": [
       "'d3_dum nan值'"
      ]
     },
     "execution_count": 14,
     "metadata": {},
     "output_type": "execute_result"
    }
   ],
   "source": [
    "### d3 类型变量转dummy列 ###\n",
    "# d3_dum = d3.copy()\n",
    "\n",
    "# d3_dum.loc[(d3_dum['贷款用途'] != 23) & (d3_dum['贷款用途'] != 24), '贷款用途'] = np.NaN\n",
    "\n",
    "# d3_dum.loc[\n",
    "#     (d3_dum['申请时点'] != 3) & \n",
    "#     (d3_dum['申请时点'] != 4) &\n",
    "#     (d3_dum['申请时点'] != 5) &\n",
    "#     (d3_dum['申请时点'] != 6) &\n",
    "#     (d3_dum['申请时点'] != 7) &\n",
    "#     (d3_dum['申请时点'] != 8) &\n",
    "#     (d3_dum['申请时点'] != 9), '申请时点'] = np.NaN\n",
    "\n",
    "\n",
    "cat_to_dummy = [\n",
    "    '贷款类型',\n",
    "    '贷款用途',\n",
    "    '合同状态',\n",
    "    '付款方式',\n",
    "    '拒绝原因',\n",
    "    '陪同申请人',\n",
    "    '客户类型',\n",
    "    '商品类别',\n",
    "    '组合类型',\n",
    "    '产品类型',\n",
    "    '获客渠道',\n",
    "    '销售区域',\n",
    "    '行业',\n",
    "    '收益级别',\n",
    "    '产品组合',\n",
    "    '申请时点',\n",
    "    '申请周内日'\n",
    "]\n",
    "\n",
    "d3_dum = d3.copy()\n",
    "d3_dum = dummy_catgorical(d3, cat_to_dummy, 27)\n",
    "\n",
    "d3_dum.shape\n",
    "'''d3_dum nan值'''\n",
    "print_na(d3_dum)"
   ]
  },
  {
   "cell_type": "code",
   "execution_count": 15,
   "metadata": {},
   "outputs": [],
   "source": [
    "### d3_dum 处理col含有过多值\n",
    "\n",
    "if ('销售区域' in d3_dum.columns):\n",
    "    d3_dum.drop(columns='销售区域',inplace=True)"
   ]
  },
  {
   "cell_type": "code",
   "execution_count": 20,
   "metadata": {},
   "outputs": [
    {
     "data": {
      "text/plain": [
       "(152768, 318)"
      ]
     },
     "execution_count": 20,
     "metadata": {},
     "output_type": "execute_result"
    }
   ],
   "source": [
    "### d3 group by ###\n",
    "\n",
    "agg_dict = {}\n",
    "d3_cols = {}\n",
    "# 金额型\n",
    "d3_cols['curr'] = [\n",
    "    '贷款年金',\n",
    "    '申请额度',\n",
    "    '信用额度',\n",
    "    '首付金额',\n",
    "    '商品价格']\n",
    "\n",
    "# 类别型\n",
    "d3_cols['cat'] = [\n",
    "    '贷款类型',\n",
    "    '贷款用途',\n",
    "    '合同状态',\n",
    "    '付款方式',\n",
    "    '拒绝原因',\n",
    "    '陪同申请人',\n",
    "    '客户类型',\n",
    "    '商品类别',\n",
    "    '组合类型',\n",
    "    '产品类型',\n",
    "    '获客渠道',\n",
    "#     '销售区域',\n",
    "    '行业',\n",
    "    '收益级别',\n",
    "    '产品组合']\n",
    "\n",
    "# 时点型\n",
    "d3_cols['time_point'] = [\n",
    "    '申请周内日',\n",
    "    '申请时点']\n",
    "\n",
    "# 时长型\n",
    "d3_cols['time_span'] = [\n",
    "    '历史贷款授信距本次申请时间',\n",
    "    '首付时间']\n",
    "\n",
    "# 布尔型\n",
    "d3_cols['bool'] = [\n",
    "#     '是否为最后一次申请记录',\n",
    "    '是否为当天最后一次申请记录']\n",
    "\n",
    "# 概率型\n",
    "d3_cols['prob'] = [\n",
    "    '首付率',\n",
    "    '利率1',\n",
    "    '利率2']\n",
    "\n",
    "# 计数型\n",
    "d3_cols['cnt'] = [\n",
    "    '贷款期数']\n",
    "\n",
    "# 数值型 - 金额\n",
    "curr_agg = ['mean', 'max', 'min']\n",
    "for col in d3_cols['curr']:\n",
    "    agg_dict[col] = curr_agg\n",
    "\n",
    "# 数值型 - 时长 \n",
    "time_span_agg = ['mean', 'max', 'min']\n",
    "for col in d3_cols['time_span']:\n",
    "    agg_dict[col] = time_span_agg\n",
    "\n",
    "# 数值型 - 概率\n",
    "prob_agg = ['mean', 'max', 'min']\n",
    "for col in d3_cols['prob']:\n",
    "    agg_dict[col] = prob_agg\n",
    "\n",
    "# 离散型 - 类型\n",
    "cat_agg = ['sum', 'mean']\n",
    "for col1 in d3_dum.columns:\n",
    "    for col2 in d3_cols['cat']:\n",
    "        if (col2 in col1):\n",
    "            agg_dict[col1] = cat_agg\n",
    "\n",
    "# 离散型 - 时点\n",
    "time_point_agg = ['sum', 'mean']\n",
    "for col1 in d3_dum.columns:\n",
    "    for col2 in d3_cols['time_point']:\n",
    "        if (col2 in col1):\n",
    "            agg_dict[col1] = time_point_agg\n",
    "\n",
    "\n",
    "# print(agg_dict)\n",
    "\n",
    "d3_dum = d3_dum.groupby('申请编号').agg(agg_dict)\n",
    "\n",
    "d3_dum.columns = pd.Series(d3_dum.columns.tolist()).apply(pd.Series).sum(axis=1)\n",
    "\n",
    "d3_dum.shape"
   ]
  },
  {
   "cell_type": "code",
   "execution_count": 27,
   "metadata": {},
   "outputs": [
    {
     "data": {
      "text/plain": [
       "'d4 nan值'"
      ]
     },
     "execution_count": 27,
     "metadata": {},
     "output_type": "execute_result"
    }
   ],
   "source": [
    "# 检查d4 nan值\n",
    "'''d4 nan值'''\n",
    "print_na(d4)"
   ]
  },
  {
   "cell_type": "code",
   "execution_count": 26,
   "metadata": {},
   "outputs": [],
   "source": [
    "# for col in d4.columns:\n",
    "#     d4[col].value_counts()\n",
    "\n",
    "# 距申请日期>0, 置平均值\n",
    "# d4_cols = {}\n",
    "# d4_cols['_dt'] = [\n",
    "#     '分期付款实际支付时间']\n",
    "    \n",
    "nan_to_mean = [\n",
    "    '分期付款实际支付时间',\n",
    "    '本期还款金额'\n",
    "]\n",
    "d4 = fill_mean(d4,nan_to_mean)\n"
   ]
  },
  {
   "cell_type": "code",
   "execution_count": 31,
   "metadata": {},
   "outputs": [
    {
     "data": {
      "text/plain": [
       "(6058093, 7)"
      ]
     },
     "execution_count": 31,
     "metadata": {},
     "output_type": "execute_result"
    },
    {
     "data": {
      "text/plain": [
       "(153309, 12)"
      ]
     },
     "execution_count": 31,
     "metadata": {},
     "output_type": "execute_result"
    }
   ],
   "source": [
    "### d3 group by ###\n",
    "\n",
    "if ('分期付款日期' in d4.columns):\n",
    "    d4.drop(columns='分期付款日期',inplace=True)\n",
    "    \n",
    "d4.shape\n",
    "\n",
    "agg_dict = {}\n",
    "d4_cols = {}\n",
    "# 金额型\n",
    "d4_cols['curr'] = [\n",
    "    '本期贷款金额',\n",
    "    '本期还款金额']\n",
    "\n",
    "\n",
    "# 时长型\n",
    "d4_cols['time_span'] = [\n",
    "    '分期付款应支付时间',\n",
    "    '分期付款实际支付时间']\n",
    "\n",
    "# 计数型\n",
    "d4_cols['cnt'] = [\n",
    "    '有支付行为的分期付款']\n",
    "\n",
    "# 数值型 - 金额\n",
    "curr_agg = ['mean', 'max', 'min']\n",
    "for col in d4_cols['curr']:\n",
    "    agg_dict[col] = curr_agg\n",
    "\n",
    "# 数值型 - 时长 \n",
    "time_span_agg = ['mean', 'max', 'min']\n",
    "for col in d4_cols['time_span']:\n",
    "    agg_dict[col] = time_span_agg\n",
    "\n",
    "\n",
    "# print(agg_dict)\n",
    "\n",
    "d4 = d4.groupby('申请编号').agg(agg_dict)\n",
    "\n",
    "d4.columns = pd.Series(d4.columns.tolist()).apply(pd.Series).sum(axis=1)\n",
    "\n",
    "d4.shape\n"
   ]
  },
  {
   "cell_type": "code",
   "execution_count": 32,
   "metadata": {},
   "outputs": [
    {
     "data": {
      "text/plain": [
       "(161511, 418)"
      ]
     },
     "execution_count": 32,
     "metadata": {},
     "output_type": "execute_result"
    }
   ],
   "source": [
    "### Merge d12_dum and d3_dum ###\n",
    "d12_d3_dum = pd.merge(d12_dum, d3_dum, how='left', on='申请编号')\n",
    "d12_d3_dum.shape\n",
    "\n"
   ]
  },
  {
   "cell_type": "code",
   "execution_count": 33,
   "metadata": {},
   "outputs": [
    {
     "data": {
      "text/plain": [
       "(161511, 430)"
      ]
     },
     "execution_count": 33,
     "metadata": {},
     "output_type": "execute_result"
    }
   ],
   "source": [
    "### Merge d12_d3_dum and d4 ###\n",
    "d1234 = pd.merge(d12_d3_dum, d4, how='left', on='申请编号')\n",
    "d1234.shape"
   ]
  },
  {
   "cell_type": "code",
   "execution_count": 35,
   "metadata": {},
   "outputs": [],
   "source": [
    "# print_na(d1234)"
   ]
  },
  {
   "cell_type": "code",
   "execution_count": 36,
   "metadata": {},
   "outputs": [
    {
     "name": "stderr",
     "output_type": "stream",
     "text": [
      "/usr/local/bin/anaconda3/envs/python37/lib/python3.7/site-packages/sklearn/utils/deprecation.py:66: DeprecationWarning: Class Imputer is deprecated; Imputer was deprecated in version 0.20 and will be removed in 0.22. Import impute.SimpleImputer from sklearn instead.\n",
      "  warnings.warn(msg, category=DeprecationWarning)\n"
     ]
    },
    {
     "data": {
      "text/plain": [
       "(161511, 430)"
      ]
     },
     "execution_count": 36,
     "metadata": {},
     "output_type": "execute_result"
    },
    {
     "data": {
      "text/html": [
       "<div>\n",
       "<style scoped>\n",
       "    .dataframe tbody tr th:only-of-type {\n",
       "        vertical-align: middle;\n",
       "    }\n",
       "\n",
       "    .dataframe tbody tr th {\n",
       "        vertical-align: top;\n",
       "    }\n",
       "\n",
       "    .dataframe thead th {\n",
       "        text-align: right;\n",
       "    }\n",
       "</style>\n",
       "<table border=\"1\" class=\"dataframe\">\n",
       "  <thead>\n",
       "    <tr style=\"text-align: right;\">\n",
       "      <th></th>\n",
       "      <th>申请编号</th>\n",
       "      <th>贷款类型</th>\n",
       "      <th>信用额度</th>\n",
       "      <th>贷款年金</th>\n",
       "      <th>商品价格</th>\n",
       "      <th>出生日期距申请日期天数</th>\n",
       "      <th>工作日期距申请日期天数</th>\n",
       "      <th>注册日期距申请日期天数</th>\n",
       "      <th>身份认证日期距申请日期天数</th>\n",
       "      <th>是否提供手机号</th>\n",
       "      <th>...</th>\n",
       "      <th>本期贷款金额min</th>\n",
       "      <th>本期还款金额mean</th>\n",
       "      <th>本期还款金额max</th>\n",
       "      <th>本期还款金额min</th>\n",
       "      <th>分期付款应支付时间mean</th>\n",
       "      <th>分期付款应支付时间max</th>\n",
       "      <th>分期付款应支付时间min</th>\n",
       "      <th>分期付款实际支付时间mean</th>\n",
       "      <th>分期付款实际支付时间max</th>\n",
       "      <th>分期付款实际支付时间min</th>\n",
       "    </tr>\n",
       "  </thead>\n",
       "  <tbody>\n",
       "    <tr>\n",
       "      <td>0</td>\n",
       "      <td>0.0</td>\n",
       "      <td>0.0</td>\n",
       "      <td>460190.889355</td>\n",
       "      <td>17463.042019</td>\n",
       "      <td>419951.511045</td>\n",
       "      <td>-10107.0</td>\n",
       "      <td>-342.0</td>\n",
       "      <td>-5421.0</td>\n",
       "      <td>-3292.0</td>\n",
       "      <td>1.0</td>\n",
       "      <td>...</td>\n",
       "      <td>1072.0</td>\n",
       "      <td>880.266667</td>\n",
       "      <td>1100.0</td>\n",
       "      <td>12.0</td>\n",
       "      <td>-1600.000000</td>\n",
       "      <td>-1480.0</td>\n",
       "      <td>-1744.0</td>\n",
       "      <td>-1610.333333</td>\n",
       "      <td>-1490.0</td>\n",
       "      <td>-1758.0</td>\n",
       "    </tr>\n",
       "    <tr>\n",
       "      <td>1</td>\n",
       "      <td>1.0</td>\n",
       "      <td>0.0</td>\n",
       "      <td>424370.659603</td>\n",
       "      <td>15585.046388</td>\n",
       "      <td>384597.975692</td>\n",
       "      <td>-13980.0</td>\n",
       "      <td>-1110.0</td>\n",
       "      <td>-3387.0</td>\n",
       "      <td>-826.0</td>\n",
       "      <td>1.0</td>\n",
       "      <td>...</td>\n",
       "      <td>635.0</td>\n",
       "      <td>778.520000</td>\n",
       "      <td>976.0</td>\n",
       "      <td>242.0</td>\n",
       "      <td>-267.920000</td>\n",
       "      <td>-19.0</td>\n",
       "      <td>-518.0</td>\n",
       "      <td>-272.480000</td>\n",
       "      <td>-23.0</td>\n",
       "      <td>-527.0</td>\n",
       "    </tr>\n",
       "    <tr>\n",
       "      <td>2</td>\n",
       "      <td>2.0</td>\n",
       "      <td>0.0</td>\n",
       "      <td>469330.587153</td>\n",
       "      <td>18837.558252</td>\n",
       "      <td>419951.511045</td>\n",
       "      <td>-13331.0</td>\n",
       "      <td>-2246.0</td>\n",
       "      <td>-3870.0</td>\n",
       "      <td>-171.0</td>\n",
       "      <td>1.0</td>\n",
       "      <td>...</td>\n",
       "      <td>2574.0</td>\n",
       "      <td>5455.414634</td>\n",
       "      <td>39611.0</td>\n",
       "      <td>607.0</td>\n",
       "      <td>-331.829268</td>\n",
       "      <td>-4.0</td>\n",
       "      <td>-641.0</td>\n",
       "      <td>-334.439024</td>\n",
       "      <td>-28.0</td>\n",
       "      <td>-648.0</td>\n",
       "    </tr>\n",
       "    <tr>\n",
       "      <td>3</td>\n",
       "      <td>3.0</td>\n",
       "      <td>0.0</td>\n",
       "      <td>464188.353140</td>\n",
       "      <td>16754.587069</td>\n",
       "      <td>409850.500944</td>\n",
       "      <td>-16540.0</td>\n",
       "      <td>0.0</td>\n",
       "      <td>-970.0</td>\n",
       "      <td>-2916.0</td>\n",
       "      <td>0.0</td>\n",
       "      <td>...</td>\n",
       "      <td>4906.0</td>\n",
       "      <td>4911.500000</td>\n",
       "      <td>4912.0</td>\n",
       "      <td>4906.0</td>\n",
       "      <td>-252.000000</td>\n",
       "      <td>-120.0</td>\n",
       "      <td>-384.0</td>\n",
       "      <td>-267.000000</td>\n",
       "      <td>-134.0</td>\n",
       "      <td>-396.0</td>\n",
       "    </tr>\n",
       "    <tr>\n",
       "      <td>4</td>\n",
       "      <td>5.0</td>\n",
       "      <td>0.0</td>\n",
       "      <td>434196.988738</td>\n",
       "      <td>16165.009200</td>\n",
       "      <td>394698.985793</td>\n",
       "      <td>-17919.0</td>\n",
       "      <td>-11037.0</td>\n",
       "      <td>-9350.0</td>\n",
       "      <td>-3588.0</td>\n",
       "      <td>1.0</td>\n",
       "      <td>...</td>\n",
       "      <td>33.0</td>\n",
       "      <td>1923.222222</td>\n",
       "      <td>17350.0</td>\n",
       "      <td>33.0</td>\n",
       "      <td>-1107.925926</td>\n",
       "      <td>-222.0</td>\n",
       "      <td>-2306.0</td>\n",
       "      <td>-1111.407407</td>\n",
       "      <td>-222.0</td>\n",
       "      <td>-2306.0</td>\n",
       "    </tr>\n",
       "  </tbody>\n",
       "</table>\n",
       "<p>5 rows × 430 columns</p>\n",
       "</div>"
      ],
      "text/plain": [
       "   申请编号  贷款类型           信用额度          贷款年金           商品价格  出生日期距申请日期天数  \\\n",
       "0   0.0   0.0  460190.889355  17463.042019  419951.511045     -10107.0   \n",
       "1   1.0   0.0  424370.659603  15585.046388  384597.975692     -13980.0   \n",
       "2   2.0   0.0  469330.587153  18837.558252  419951.511045     -13331.0   \n",
       "3   3.0   0.0  464188.353140  16754.587069  409850.500944     -16540.0   \n",
       "4   5.0   0.0  434196.988738  16165.009200  394698.985793     -17919.0   \n",
       "\n",
       "   工作日期距申请日期天数  注册日期距申请日期天数  身份认证日期距申请日期天数  是否提供手机号  ...  本期贷款金额min  \\\n",
       "0       -342.0      -5421.0        -3292.0      1.0  ...     1072.0   \n",
       "1      -1110.0      -3387.0         -826.0      1.0  ...      635.0   \n",
       "2      -2246.0      -3870.0         -171.0      1.0  ...     2574.0   \n",
       "3          0.0       -970.0        -2916.0      0.0  ...     4906.0   \n",
       "4     -11037.0      -9350.0        -3588.0      1.0  ...       33.0   \n",
       "\n",
       "    本期还款金额mean  本期还款金额max  本期还款金额min  分期付款应支付时间mean  分期付款应支付时间max  \\\n",
       "0   880.266667     1100.0       12.0   -1600.000000       -1480.0   \n",
       "1   778.520000      976.0      242.0    -267.920000         -19.0   \n",
       "2  5455.414634    39611.0      607.0    -331.829268          -4.0   \n",
       "3  4911.500000     4912.0     4906.0    -252.000000        -120.0   \n",
       "4  1923.222222    17350.0       33.0   -1107.925926        -222.0   \n",
       "\n",
       "   分期付款应支付时间min  分期付款实际支付时间mean  分期付款实际支付时间max  分期付款实际支付时间min  \n",
       "0       -1744.0    -1610.333333        -1490.0        -1758.0  \n",
       "1        -518.0     -272.480000          -23.0         -527.0  \n",
       "2        -641.0     -334.439024          -28.0         -648.0  \n",
       "3        -384.0     -267.000000         -134.0         -396.0  \n",
       "4       -2306.0    -1111.407407         -222.0        -2306.0  \n",
       "\n",
       "[5 rows x 430 columns]"
      ]
     },
     "execution_count": 36,
     "metadata": {},
     "output_type": "execute_result"
    }
   ],
   "source": [
    "# Fill Null\n",
    "\n",
    "imp =Imputer(missing_values=np.NaN, strategy=\"mean\", axis=0)\n",
    "data = pd.DataFrame(imp.fit_transform(d1234))\n",
    "data.columns = d1234.columns\n",
    "data.shape\n",
    "data.head()"
   ]
  },
  {
   "cell_type": "code",
   "execution_count": null,
   "metadata": {},
   "outputs": [
    {
     "data": {
      "text/plain": [
       "(140000, 430)"
      ]
     },
     "execution_count": 37,
     "metadata": {},
     "output_type": "execute_result"
    }
   ],
   "source": [
    "data['申请编号'] = data['申请编号'].apply(round)\n",
    "\n",
    "prefix = 'train'\n",
    "data_train = pd.merge(d01['申请编号'], data, on='申请编号', how='left')\n",
    "data_train.shape\n",
    "data_train.to_csv(f'./tmp/{prefix}_d1234.csv')\n",
    "\n",
    "prefix = 'A'\n",
    "data_test = pd.merge(d05['申请编号'], data, on='申请编号', how='left')\n",
    "data_test.shape\n",
    "data_test.to_csv(f'./tmp/{prefix}_d1234.csv')"
   ]
  },
  {
   "cell_type": "code",
   "execution_count": null,
   "metadata": {},
   "outputs": [],
   "source": [
    "for col in data_train.columns:\n",
    "    print(col)"
   ]
  }
 ],
 "metadata": {
  "kernelspec": {
   "display_name": "Python 3",
   "language": "python",
   "name": "python3"
  },
  "language_info": {
   "codemirror_mode": {
    "name": "ipython",
    "version": 3
   },
   "file_extension": ".py",
   "mimetype": "text/x-python",
   "name": "python",
   "nbconvert_exporter": "python",
   "pygments_lexer": "ipython3",
   "version": "3.7.4"
  }
 },
 "nbformat": 4,
 "nbformat_minor": 2
}
