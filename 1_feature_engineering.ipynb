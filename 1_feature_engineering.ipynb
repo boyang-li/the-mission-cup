{
 "cells": [
  {
   "cell_type": "code",
   "execution_count": 59,
   "metadata": {},
   "outputs": [],
   "source": [
    "%config ZMQInteractiveShell.ast_node_interactivity='all'\n",
    "%matplotlib inline\n",
    "import warnings;warnings.filterwarnings('ignore')\n",
    "import numpy as np\n",
    "import pandas as pd\n",
    "from sklearn.preprocessing import Imputer, LabelEncoder\n",
    "from sklearn import metrics\n",
    "import os"
   ]
  },
  {
   "cell_type": "code",
   "execution_count": 60,
   "metadata": {},
   "outputs": [],
   "source": [
    "#### load data files ###\n",
    "\n",
    "# Change file name prefix here and you are good to go:D\n",
    "# prefix = \"train_\"\n",
    "# prefix = \"A_\"\n",
    "\n",
    "# Generate data file name list\n",
    "file_names = [\"Application.csv\",\"Personas.csv\",\"History_Application.csv\",\"History_Payment.csv\"]\n",
    "# for idx, val in enumerate(file_names):\n",
    "#     file_names[idx] = prefix + val  \n",
    "\n",
    "# load data files\n",
    "prefix = \"train_\"\n",
    "d01 = pd.read_csv(f'./data/{prefix}{file_names[0]}')\n",
    "d02 = pd.read_csv(f'./data/{prefix}{file_names[1]}')\n",
    "d03 = pd.read_csv(f'./data/{prefix}{file_names[2]}')\n",
    "d04 = pd.read_csv(f'./data/{prefix}{file_names[3]}')\n",
    "prefix = \"A_\"\n",
    "# load data files\n",
    "d05 = pd.read_csv(f'./data/{prefix}{file_names[0]}')\n",
    "d06 = pd.read_csv(f'./data/{prefix}{file_names[1]}')\n",
    "d07 = pd.read_csv(f'./data/{prefix}{file_names[2]}')\n",
    "d08 = pd.read_csv(f'./data/{prefix}{file_names[3]}')\n",
    "\n",
    "# Concat\n",
    "d1 = pd.concat([d01, d05], axis=0)\n",
    "d2 = pd.concat([d02, d06], axis=0)\n",
    "d3 = pd.concat([d03, d07], axis=0)\n",
    "d4 = pd.concat([d04, d08], axis=0)"
   ]
  },
  {
   "cell_type": "code",
   "execution_count": 61,
   "metadata": {},
   "outputs": [],
   "source": [
    "### Functions\n",
    "\n",
    "# 取一个列的众数\n",
    "def get_mode(df, col):\n",
    "    return pd.Series(df[col]).mode()[0]\n",
    "\n",
    "# 置多个列的空值为所属列0\n",
    "def fill_zero(df, cols):\n",
    "    dict = {}\n",
    "    for col in cols:\n",
    "        dict[col] = 0\n",
    "    return df.fillna(dict)\n",
    "\n",
    "# 置多个列的空值为所属列的平均数\n",
    "def fill_mean(df, cols):\n",
    "    dict = {}\n",
    "    for col in cols:\n",
    "        dict[col] = df[col].mean()\n",
    "    return df.fillna(dict)\n",
    "\n",
    "# 置多个列的空值为所属列的众数\n",
    "def fill_mode(df, cols):\n",
    "    dict = {}\n",
    "    for col in cols:\n",
    "        dict[col] = get_mode(df, col)\n",
    "    return df.fillna(dict)\n",
    "\n",
    "# 把多个离散型的列转化为one-hot编码列\n",
    "def dummy_catgorical(df, cols, keep_n_cats):\n",
    "    print('initial num of cols: ' + str(len(df.columns.to_list())))\n",
    "    for col in cols:\n",
    "        # 跳过离散变量太多的\n",
    "        idx_list = df[col].value_counts().index.to_list()\n",
    "        print(col+'has'+str(len(idx_list)))\n",
    "        if (len(idx_list) > keep_n_cats):\n",
    "            print(' col含有过多值, skipping')\n",
    "        else:\n",
    "            # 生成one-hot编码列\n",
    "            df = pd.get_dummies(df, columns=[col])\n",
    "    return df\n",
    "\n",
    "# 打印一个df的na值\n",
    "def print_na(df):\n",
    "    # 检查d12 nan值\n",
    "    df_na = df.isna().sum()\n",
    "    for idx in df_na.index.to_list():\n",
    "        if (df_na[idx]!=0):\n",
    "            print(str(idx)+' '+str(df_na[idx]))\n"
   ]
  },
  {
   "cell_type": "code",
   "execution_count": 62,
   "metadata": {},
   "outputs": [],
   "source": [
    "### intersection\n",
    "# ''' d01&d02 '''\n",
    "# id_train = set(d01['申请编号'])\n",
    "# len(id_train)\n",
    "# id_test = set(d02['申请编号'])\n",
    "# len(id_test)\n",
    "# inter = id_train.intersection(id_test)\n",
    "# len(inter)"
   ]
  },
  {
   "cell_type": "code",
   "execution_count": 63,
   "metadata": {},
   "outputs": [
    {
     "data": {
      "text/plain": [
       "(161511, 62)"
      ]
     },
     "execution_count": 63,
     "metadata": {},
     "output_type": "execute_result"
    }
   ],
   "source": [
    "### Merge d1 d2 ###\n",
    "uid = '申请编号'\n",
    "d12 = pd.merge(d1, d2, how='inner', on=uid)\n",
    "d12.shape"
   ]
  },
  {
   "cell_type": "code",
   "execution_count": 64,
   "metadata": {},
   "outputs": [
    {
     "data": {
      "text/plain": [
       "(61, 2)"
      ]
     },
     "execution_count": 64,
     "metadata": {},
     "output_type": "execute_result"
    },
    {
     "data": {
      "text/html": [
       "<div>\n",
       "<style scoped>\n",
       "    .dataframe tbody tr th:only-of-type {\n",
       "        vertical-align: middle;\n",
       "    }\n",
       "\n",
       "    .dataframe tbody tr th {\n",
       "        vertical-align: top;\n",
       "    }\n",
       "\n",
       "    .dataframe thead th {\n",
       "        text-align: right;\n",
       "    }\n",
       "</style>\n",
       "<table border=\"1\" class=\"dataframe\">\n",
       "  <thead>\n",
       "    <tr style=\"text-align: right;\">\n",
       "      <th></th>\n",
       "      <th>min</th>\n",
       "      <th>max</th>\n",
       "    </tr>\n",
       "  </thead>\n",
       "  <tbody>\n",
       "    <tr>\n",
       "      <td>地址是否一致标志1</td>\n",
       "      <td>0</td>\n",
       "      <td>1</td>\n",
       "    </tr>\n",
       "    <tr>\n",
       "      <td>地址是否一致标志2</td>\n",
       "      <td>0</td>\n",
       "      <td>1</td>\n",
       "    </tr>\n",
       "    <tr>\n",
       "      <td>地址是否一致标志3</td>\n",
       "      <td>0</td>\n",
       "      <td>1</td>\n",
       "    </tr>\n",
       "    <tr>\n",
       "      <td>地址是否一致标志4</td>\n",
       "      <td>0</td>\n",
       "      <td>1</td>\n",
       "    </tr>\n",
       "    <tr>\n",
       "      <td>地址是否一致标志5</td>\n",
       "      <td>0</td>\n",
       "      <td>1</td>\n",
       "    </tr>\n",
       "  </tbody>\n",
       "</table>\n",
       "</div>"
      ],
      "text/plain": [
       "           min  max\n",
       "地址是否一致标志1    0    1\n",
       "地址是否一致标志2    0    1\n",
       "地址是否一致标志3    0    1\n",
       "地址是否一致标志4    0    1\n",
       "地址是否一致标志5    0    1"
      ]
     },
     "execution_count": 64,
     "metadata": {},
     "output_type": "execute_result"
    }
   ],
   "source": [
    "### d12 异常值处理\n",
    "d12.loc[(d12['孩子个数'] == -1), '孩子个数'] = get_mode(d12, '孩子个数')\n",
    "\n",
    "#TODO 距申请日期>0, 置平均值\n",
    "d12_cols = {}\n",
    "d12_cols['_dt'] = [\n",
    "    '最近一次换手机号码距申请日天数',\n",
    "    '出生日期距申请日期天数',\n",
    "    '工作日期距申请日期天数',\n",
    "    '注册日期距申请日期天数',\n",
    "    '身份认证日期距申请日期天数']\n",
    "\n",
    "for col in d12_cols['_dt']:\n",
    "    mean = d12[col].mean()\n",
    "    d12.loc[d12[col] > 0, col] = mean\n",
    "\n",
    "### Outlier：Get ###\n",
    "low = .01\n",
    "high = .99\n",
    "quant_df = d12.drop([uid], axis=1).quantile([low, high]).T\n",
    "quant_df.to_csv('./tmp/1_d12_outlier.csv')\n",
    "\n",
    "### Outlier：Apply ###\n",
    "\n",
    "outliers = pd.read_csv('./tmp/0_outlier1.csv', index_col=0)\n",
    "outliers.shape\n",
    "outliers.head()\n",
    "\n",
    "def set_outlier(col):\n",
    "    if col < col_min:\n",
    "        col = col_min\n",
    "    elif col > col_max:\n",
    "        col = col_max\n",
    "    return col\n",
    "\n",
    "# def set_outlier(col):\n",
    "#     if col < col_min or col > col_max:\n",
    "#         col = np.NaN\n",
    "#     return col\n",
    "    \n",
    "for col in outliers.index:\n",
    "# for col in '出生日期距申请日期天数', '社交圈违约信息1_2':\n",
    "    col_min = outliers.loc[col, 'min']\n",
    "    col_max = outliers.loc[col, 'max']\n",
    "    d12[col] = d12[col].apply(set_outlier)\n",
    "    \n",
    "# d12.to_csv(f'./tmp/2_eda_outlier.csv')"
   ]
  },
  {
   "cell_type": "code",
   "execution_count": 65,
   "metadata": {},
   "outputs": [
    {
     "data": {
      "text/plain": [
       "(161511, 62)"
      ]
     },
     "execution_count": 65,
     "metadata": {},
     "output_type": "execute_result"
    },
    {
     "data": {
      "text/plain": [
       "'d12 nan值'"
      ]
     },
     "execution_count": 65,
     "metadata": {},
     "output_type": "execute_result"
    },
    {
     "name": "stdout",
     "output_type": "stream",
     "text": [
      "贷款年金 8\n",
      "商品价格 140\n",
      "陪同申请人 675\n",
      "外部评分 90682\n",
      "贷款申请前1小时内征信查询次数 22217\n",
      "贷款申请前1天内征信查询次数 22217\n",
      "贷款申请前1周内征信查询次数 22217\n",
      "贷款申请前1个月内征信查询次数 22217\n",
      "贷款申请前1个季度内征信查询次数 22217\n",
      "贷款申请前1年内征信查询次数 22217\n",
      "有车时间 106448\n",
      "职业 48412\n",
      "家庭成员数 1\n",
      "居住信息1 107830\n",
      "居住信息2 113207\n",
      "居住信息3 81643\n",
      "居住信息4 78587\n",
      "社交圈违约信息2_2 516\n",
      "社交圈违约信息2_1 516\n",
      "社交圈违约信息1_2 516\n",
      "社交圈违约信息1_1 516\n"
     ]
    }
   ],
   "source": [
    "# 检查d12 nan值\n",
    "\n",
    "d12.shape\n",
    "\n",
    "'''d12 nan值'''\n",
    "print_na(d12)\n",
    "\n",
    "# d12['收入类型'].value_counts(dropna=False)\n",
    "# d12_dum.columns.to_list()"
   ]
  },
  {
   "cell_type": "code",
   "execution_count": 66,
   "metadata": {},
   "outputs": [
    {
     "data": {
      "text/plain": [
       "'d12 nan值'"
      ]
     },
     "execution_count": 66,
     "metadata": {},
     "output_type": "execute_result"
    }
   ],
   "source": [
    "### d12 数据空值处理 ###\n",
    "\n",
    "# 插补平均值\n",
    "nan_to_mean = [\n",
    "    '贷款年金',\n",
    "    '商品价格',\n",
    "    '外部评分',\n",
    "    '居住信息1',\n",
    "    '居住信息2',\n",
    "    '居住信息3',\n",
    "    '居住信息4',\n",
    "    '有车时间'\n",
    "]\n",
    "#TODO: 空值插补mean\n",
    "d12 = fill_mean(d12, nan_to_mean)\n",
    "\n",
    "nan_to_zero = [\n",
    "    '贷款申请前1小时内征信查询次数',\n",
    "    '贷款申请前1天内征信查询次数',\n",
    "    '贷款申请前1周内征信查询次数',\n",
    "    '贷款申请前1个月内征信查询次数',\n",
    "    '贷款申请前1个季度内征信查询次数',\n",
    "    '贷款申请前1年内征信查询次数'\n",
    "]\n",
    "#TODO: 空值插补0\n",
    "d12 = fill_zero(d12, nan_to_zero)\n",
    "\n",
    "#TODO: 空值插补mean\n",
    "d12 = fill_mean(d12, nan_to_mean)\n",
    "\n",
    "nan_to_mode = [\n",
    "    '家庭成员数',\n",
    "    '社交圈违约信息2_2',\n",
    "    '社交圈违约信息2_1',\n",
    "    '社交圈违约信息1_2',\n",
    "    '社交圈违约信息1_1',\n",
    "    '陪同申请人',\n",
    "    '职业'\n",
    "]\n",
    "#TODO: 空值插补mode\n",
    "d12 = fill_mode(d12, nan_to_mode)\n",
    "\n",
    "# 检查d12 nan值\n",
    "'''d12 nan值'''\n",
    "print_na(d12)"
   ]
  },
  {
   "cell_type": "code",
   "execution_count": 67,
   "metadata": {},
   "outputs": [
    {
     "name": "stdout",
     "output_type": "stream",
     "text": [
      "initial num of cols: 62\n",
      "陪同申请人has7\n",
      "收入类型has8\n",
      "教育程度has5\n",
      "居住状态has6\n",
      "职业has18\n",
      "单位类型has58\n",
      " col含有过多值, skipping\n"
     ]
    },
    {
     "data": {
      "text/plain": [
       "(161511, 62)"
      ]
     },
     "execution_count": 67,
     "metadata": {},
     "output_type": "execute_result"
    },
    {
     "data": {
      "text/plain": [
       "(161511, 101)"
      ]
     },
     "execution_count": 67,
     "metadata": {},
     "output_type": "execute_result"
    },
    {
     "data": {
      "text/plain": [
       "'d12_dum nan值'"
      ]
     },
     "execution_count": 67,
     "metadata": {},
     "output_type": "execute_result"
    }
   ],
   "source": [
    "### d12 类型变量转dummy列 ###\n",
    "cat_to_dummy = [\n",
    "    '陪同申请人',\n",
    "    '收入类型',\n",
    "    '教育程度',\n",
    "    '居住状态',\n",
    "    '职业',\n",
    "    '单位类型'\n",
    "]\n",
    "\n",
    "d12_dum = d12.copy()\n",
    "d12_dum = dummy_catgorical(d12_dum, cat_to_dummy, 20)\n",
    "\n",
    "d12.shape\n",
    "d12_dum.shape\n",
    "'''d12_dum nan值'''\n",
    "print_na(d12_dum)"
   ]
  },
  {
   "cell_type": "code",
   "execution_count": 68,
   "metadata": {},
   "outputs": [],
   "source": [
    "### d12_dum 处理col含有过多值\n",
    "if ('单位类型' in d12_dum.columns):\n",
    "    d12_dum.drop(columns='单位类型',inplace=True)"
   ]
  },
  {
   "cell_type": "code",
   "execution_count": 69,
   "metadata": {},
   "outputs": [],
   "source": [
    "### d3过滤\n",
    "\n",
    "# 删除特征'是否为最后一次申请记录'\n",
    "if ('是否为最后一次申请记录' in d3.columns):\n",
    "    d3.drop(columns='是否为最后一次申请记录',inplace=True)"
   ]
  },
  {
   "cell_type": "code",
   "execution_count": 70,
   "metadata": {},
   "outputs": [],
   "source": [
    "# 检查d3 nan值\n",
    "# d3.shape\n",
    "# d3['首付时间'].value_counts()\n",
    "# '''d3 nan值'''\n",
    "# print_na(d3)"
   ]
  },
  {
   "cell_type": "code",
   "execution_count": 71,
   "metadata": {},
   "outputs": [
    {
     "data": {
      "text/plain": [
       "(744984, 31)"
      ]
     },
     "execution_count": 71,
     "metadata": {},
     "output_type": "execute_result"
    }
   ],
   "source": [
    "### d3数据清洗 - 金额型 ###\n",
    "\n",
    "# 异常值置NaN\n",
    "d3.loc[(d3['首付时间'] == 292204.0), '首付时间'] = np.NaN\n",
    "d3.loc[(d3['首付金额'] == 11), '首付金额'] = 0\n",
    "d3.loc[(d3['贷款年金'] == 11), '贷款年金'] = 0\n",
    "d3.loc[(d3['商品价格'] == 11), '商品价格'] = 0\n",
    "d3.loc[(d3['申请额度'] == 11), '申请额度'] = 0\n",
    "d3.loc[(d3['信用额度'] == 11), '信用额度'] = 0\n",
    "\n",
    "# d3['销售区域_count'] = d3.groupby('销售区域')['销售区域'].transform('count')\n",
    "# d3.loc[d3['销售区域_count'] < 5000, '销售区域'] = np.NaN\n",
    "\n",
    "# 插补平均值\n",
    "nan_to_zero = [\n",
    "    '贷款年金',\n",
    "    '首付金额',\n",
    "    '商品价格',\n",
    "    '首付时间',\n",
    "    '首付率',\n",
    "    '利率1',\n",
    "    '利率1',\n",
    "    '利率2'\n",
    "]\n",
    "#TODO: 空值插补0\n",
    "d3 = fill_zero(d3, nan_to_zero)\n",
    "\n",
    "### d3数据清洗 - 布尔型 ###\n",
    "# d3_cols['bool'] = [\n",
    "#     '是否为当天最后一次申请记录']\n",
    "\n",
    "### d3数据清洗 - 计数型 ###\n",
    "# d3_cols['cnt'] = [\n",
    "#     '贷款期数']\n",
    "\n",
    "d3.shape\n",
    "# '''d3 nan值'''\n",
    "# print_na(d3)"
   ]
  },
  {
   "cell_type": "code",
   "execution_count": 72,
   "metadata": {},
   "outputs": [
    {
     "data": {
      "text/plain": [
       "(744984, 33)"
      ]
     },
     "execution_count": 72,
     "metadata": {},
     "output_type": "execute_result"
    },
    {
     "data": {
      "text/plain": [
       "['历史申请编号',\n",
       " '申请编号',\n",
       " '贷款类型',\n",
       " '贷款年金',\n",
       " '申请额度',\n",
       " '信用额度',\n",
       " '首付金额',\n",
       " '商品价格',\n",
       " '申请周内日',\n",
       " '申请时点',\n",
       " '是否为当天最后一次申请记录',\n",
       " '首付率',\n",
       " '利率1',\n",
       " '利率2',\n",
       " '贷款用途',\n",
       " '合同状态',\n",
       " '历史贷款授信距本次申请时间',\n",
       " '付款方式',\n",
       " '拒绝原因',\n",
       " '陪同申请人',\n",
       " '客户类型',\n",
       " '商品类别',\n",
       " '组合类型',\n",
       " '产品类型',\n",
       " '获客渠道',\n",
       " '销售区域',\n",
       " '行业',\n",
       " '贷款期数',\n",
       " '收益级别',\n",
       " '产品组合',\n",
       " '首付时间',\n",
       " '拟实际应还贷款金额',\n",
       " '信用额度比']"
      ]
     },
     "execution_count": 72,
     "metadata": {},
     "output_type": "execute_result"
    }
   ],
   "source": [
    "### d3 自定义特征\n",
    "\n",
    "# '拟实际应还贷款金额'\n",
    "d3.eval('拟实际应还贷款金额 = 贷款年金 * 贷款期数', inplace=True)\n",
    "d3['拟实际应还贷款金额'].where(d3['贷款期数']>0, other=d3['贷款年金'], inplace=True)\n",
    "\n",
    "# '信用额度 / 申请额度'\n",
    "d3.eval('信用额度比 = 信用额度 / 申请额度', inplace=True)\n",
    "\n",
    "d3.shape\n",
    "d3.columns.to_list()"
   ]
  },
  {
   "cell_type": "code",
   "execution_count": 73,
   "metadata": {},
   "outputs": [
    {
     "name": "stdout",
     "output_type": "stream",
     "text": [
      "initial num of cols: 33\n",
      "贷款类型has3\n",
      "贷款用途has25\n",
      "合同状态has4\n",
      "付款方式has4\n",
      "拒绝原因has9\n",
      "陪同申请人has7\n",
      "客户类型has4\n",
      "商品类别has27\n",
      "组合类型has5\n",
      "产品类型has3\n",
      "获客渠道has8\n",
      "销售区域has1665\n",
      " col含有过多值, skipping\n",
      "行业has11\n",
      "收益级别has5\n",
      "产品组合has17\n",
      "申请时点has12\n",
      "申请周内日has7\n"
     ]
    },
    {
     "data": {
      "text/plain": [
       "'d3a'"
      ]
     },
     "execution_count": 73,
     "metadata": {},
     "output_type": "execute_result"
    },
    {
     "data": {
      "text/plain": [
       "(612366, 168)"
      ]
     },
     "execution_count": 73,
     "metadata": {},
     "output_type": "execute_result"
    },
    {
     "data": {
      "text/plain": [
       "'d3d'"
      ]
     },
     "execution_count": 73,
     "metadata": {},
     "output_type": "execute_result"
    },
    {
     "data": {
      "text/plain": [
       "(132618, 168)"
      ]
     },
     "execution_count": 73,
     "metadata": {},
     "output_type": "execute_result"
    }
   ],
   "source": [
    "### d3 类型变量转dummy列 ###\n",
    "\n",
    "cat_to_dummy = [\n",
    "    '贷款类型',\n",
    "    '贷款用途',\n",
    "    '合同状态',\n",
    "    '付款方式',\n",
    "    '拒绝原因',\n",
    "    '陪同申请人',\n",
    "    '客户类型',\n",
    "    '商品类别',\n",
    "    '组合类型',\n",
    "    '产品类型',\n",
    "    '获客渠道',\n",
    "    '销售区域',\n",
    "    '行业',\n",
    "    '收益级别',\n",
    "    '产品组合',\n",
    "    '申请时点',\n",
    "    '申请周内日'\n",
    "]\n",
    "\n",
    "d3 = dummy_catgorical(d3, cat_to_dummy, 27)\n",
    "\n",
    "# 过滤合同状态为'非拒绝'的样本\n",
    "d3a = d3[d3['合同状态_2']==0]\n",
    "\n",
    "# 取合同状态为'拒绝'的样本\n",
    "d3d = d3[d3['合同状态_2']==1]\n",
    "\n",
    "'''d3a'''\n",
    "d3a.shape\n",
    "'''d3d'''\n",
    "d3d.shape"
   ]
  },
  {
   "cell_type": "code",
   "execution_count": 74,
   "metadata": {},
   "outputs": [],
   "source": [
    "### d3 处理col含有过多值\n",
    "\n",
    "if ('销售区域' in d3.columns):\n",
    "    d3.drop(columns='销售区域',inplace=True)\n",
    "    d3a.drop(columns='销售区域',inplace=True)\n",
    "    d3d.drop(columns='销售区域',inplace=True)"
   ]
  },
  {
   "cell_type": "code",
   "execution_count": 75,
   "metadata": {},
   "outputs": [
    {
     "data": {
      "text/plain": [
       "(152768, 325)"
      ]
     },
     "execution_count": 75,
     "metadata": {},
     "output_type": "execute_result"
    },
    {
     "data": {
      "text/plain": [
       "(53598, 34)"
      ]
     },
     "execution_count": 75,
     "metadata": {},
     "output_type": "execute_result"
    },
    {
     "data": {
      "text/plain": [
       "(153006, 4)"
      ]
     },
     "execution_count": 75,
     "metadata": {},
     "output_type": "execute_result"
    }
   ],
   "source": [
    "### d3 group by ###\n",
    "\n",
    "d3_cols = {}\n",
    "# 金额型\n",
    "d3_cols['curr'] = [\n",
    "    '贷款年金',\n",
    "    '申请额度',\n",
    "    '信用额度',\n",
    "    '首付金额',\n",
    "    '商品价格']\n",
    "\n",
    "# 类别型\n",
    "d3_cols['cat'] = [\n",
    "    '贷款类型',\n",
    "    '贷款用途',\n",
    "    '合同状态',\n",
    "    '付款方式',\n",
    "#     '拒绝原因',\n",
    "    '陪同申请人',\n",
    "    '客户类型',\n",
    "    '商品类别',\n",
    "    '组合类型',\n",
    "    '产品类型',\n",
    "    '获客渠道',\n",
    "#     '销售区域',\n",
    "    '行业',\n",
    "    '收益级别',\n",
    "    '产品组合']\n",
    "\n",
    "# 时点型\n",
    "d3_cols['time_point'] = [\n",
    "    '申请周内日',\n",
    "    '申请时点']\n",
    "\n",
    "# 时长型\n",
    "d3_cols['time_span'] = [\n",
    "    '历史贷款授信距本次申请时间',\n",
    "    '首付时间']\n",
    "\n",
    "# 布尔型\n",
    "d3_cols['bool'] = [\n",
    "#     '是否为最后一次申请记录',\n",
    "    '是否为当天最后一次申请记录']\n",
    "\n",
    "# 概率型\n",
    "d3_cols['prob'] = [\n",
    "    '首付率',\n",
    "    '利率1',\n",
    "    '利率2']\n",
    "\n",
    "# 计数型\n",
    "d3_cols['cnt'] = [\n",
    "    '贷款期数']\n",
    "\n",
    "# d3a\n",
    "# d3a_agg_dict = {'历史申请编号':'count'}\n",
    "\n",
    "# 数值型 - 金额\n",
    "# curr_agg = ['mean', 'max', 'min']\n",
    "# for col in d3_cols['curr']:\n",
    "#     d3a_agg_dict[col] = curr_agg\n",
    "d3a_agg_dict = {\n",
    "    '历史申请编号':['count'],\n",
    "    '贷款年金':['mean', 'max', 'min', 'sum'],\n",
    "    '申请额度':['mean', 'max', 'min', 'sum'],\n",
    "    '信用额度':['mean', 'max', 'min', 'sum'],\n",
    "    '首付金额':['mean', 'max', 'min'],\n",
    "    '商品价格':['mean', 'max', 'min'],\n",
    "    '拟实际应还贷款金额':['mean','max', 'min', 'sum'],\n",
    "    '信用额度比':['mean', 'max', 'min']\n",
    "}\n",
    "    \n",
    "# 数值型 - 时长 \n",
    "time_span_agg = ['mean', 'max', 'min']\n",
    "for col in d3_cols['time_span']:\n",
    "    d3a_agg_dict[col] = time_span_agg\n",
    "\n",
    "# 数值型 - 概率\n",
    "prob_agg = ['mean', 'max', 'min']\n",
    "for col in d3_cols['prob']:\n",
    "    d3a_agg_dict[col] = prob_agg\n",
    "\n",
    "# 离散型 - 类型\n",
    "cat_agg = ['sum', 'mean']\n",
    "for col1 in d3a.columns:\n",
    "    for col2 in d3_cols['cat']:\n",
    "        if (col2 in col1):\n",
    "            d3a_agg_dict[col1] = cat_agg\n",
    "\n",
    "# 离散型 - 时点\n",
    "time_point_agg = ['sum', 'mean']\n",
    "for col1 in d3a.columns:\n",
    "    for col2 in d3_cols['time_point']:\n",
    "        if (col2 in col1):\n",
    "            d3a_agg_dict[col1] = time_point_agg\n",
    "\n",
    "\n",
    "# groupby合同状态为非拒绝的\n",
    "d3a = d3a.groupby('申请编号').agg(d3a_agg_dict)\n",
    "# 还原列名\n",
    "d3a.columns = pd.Series(d3a.columns.tolist()).apply(pd.Series).sum(axis=1)\n",
    "\n",
    "# d3d\n",
    "d3d_agg_dict = {'历史申请编号':['count']}\n",
    "\n",
    "# 数值型 - 金额\n",
    "curr_agg = ['mean', 'max', 'min']\n",
    "for col in d3_cols['curr']:\n",
    "    d3d_agg_dict[col] = curr_agg\n",
    "    \n",
    "# 离散型 - 类型\n",
    "cat_agg = ['sum', 'mean']\n",
    "for col in d3d.columns:\n",
    "    if ('拒绝原因' in col):\n",
    "        d3d_agg_dict[col] = cat_agg\n",
    "\n",
    "# groupby合同状态为拒绝的\n",
    "d3d = d3d.groupby('申请编号').agg(d3d_agg_dict)\n",
    "# 还原列名\n",
    "d3d.columns = pd.Series(d3d.columns.tolist()).apply(pd.Series).sum(axis=1)\n",
    "\n",
    "# d3all\n",
    "d3all_agg_dict = {\n",
    "    '历史申请编号':['count'],\n",
    "    '贷款年金':['sum'],\n",
    "    '申请额度':['sum'],\n",
    "    '信用额度':['sum']\n",
    "}\n",
    "\n",
    "# groupby全部\n",
    "d3all = d3.groupby('申请编号').agg(d3all_agg_dict)\n",
    "# 还原列名\n",
    "d3all.columns = pd.Series(d3all.columns.tolist()).apply(pd.Series).sum(axis=1)\n",
    "\n",
    "d3a.shape\n",
    "# d3a.columns.to_list()\n",
    "d3d.shape\n",
    "# d3d.columns.to_list()\n",
    "d3all.shape\n",
    "# d3all.columns.to_list()"
   ]
  },
  {
   "cell_type": "code",
   "execution_count": 76,
   "metadata": {},
   "outputs": [
    {
     "data": {
      "text/plain": [
       "(152768, 329)"
      ]
     },
     "execution_count": 76,
     "metadata": {},
     "output_type": "execute_result"
    },
    {
     "data": {
      "text/plain": [
       "(152768, 328)"
      ]
     },
     "execution_count": 76,
     "metadata": {},
     "output_type": "execute_result"
    }
   ],
   "source": [
    "### d3a merge d3all\n",
    "d3a_all = pd.merge(d3a, d3all, how='inner', on='申请编号')\n",
    "d3a_all.shape\n",
    "\n",
    "# d3a_all自定义特征\n",
    "d3a_all.eval('拟申请核准率 = 历史申请编号count_x / 历史申请编号count_y', inplace=True)\n",
    "d3a_all.eval('贷款年金sum比 = 贷款年金sum_x / 贷款年金sum_y', inplace=True)\n",
    "d3a_all.eval('申请额度sum比 = 申请额度sum_x / 申请额度sum_y', inplace=True)\n",
    "d3a_all.eval('信用额度sum比 = 信用额度sum_x / 信用额度sum_y', inplace=True)\n",
    "d3a_all.eval('信用比申请额度 = 信用额度sum_y / 申请额度sum_y', inplace=True)\n",
    "\n",
    "drop_list = ['贷款年金sum_x', '贷款年金sum_y', '申请额度sum_x', '申请额度sum_y', '信用额度sum_x', '信用额度sum_y']\n",
    "d3a_all.drop(columns=drop_list,inplace=True)\n",
    "\n",
    "d3a_all.shape\n",
    "# d3a_all.columns.to_list()"
   ]
  },
  {
   "cell_type": "code",
   "execution_count": 77,
   "metadata": {},
   "outputs": [
    {
     "data": {
      "text/plain": [
       "(161511, 62)"
      ]
     },
     "execution_count": 77,
     "metadata": {},
     "output_type": "execute_result"
    },
    {
     "data": {
      "text/plain": [
       "(152768, 328)"
      ]
     },
     "execution_count": 77,
     "metadata": {},
     "output_type": "execute_result"
    },
    {
     "data": {
      "text/plain": [
       "(161511, 390)"
      ]
     },
     "execution_count": 77,
     "metadata": {},
     "output_type": "execute_result"
    }
   ],
   "source": [
    "### merge d12 and d3a_all\n",
    "d12.shape\n",
    "d3a_all.shape\n",
    "d12_d3a_all = pd.merge(d12, d3a_all, how='left', on='申请编号')\n",
    "d12_d3a_all.shape\n",
    "# print_na(d12_d3a_all)\n",
    "\n",
    "#TODO: 空值插补0\n",
    "d12_d3a_all = d12_d3a_all.fillna(0)"
   ]
  },
  {
   "cell_type": "code",
   "execution_count": 88,
   "metadata": {},
   "outputs": [],
   "source": [
    "### d12_d3a_all 自定义特征\n",
    "\n",
    "# '是否有非拒绝历史申请记录'\n",
    "d12_d3a_all['有非拒历史申请'] = d12_d3a_all['历史申请编号count_x'].apply(lambda x: 1 if x > 0 else 0 )"
   ]
  },
  {
   "cell_type": "code",
   "execution_count": 20,
   "metadata": {},
   "outputs": [],
   "source": [
    "# # 检查d4 nan值\n",
    "# '''d4 nan值'''\n",
    "# print_na(d4)\n",
    "\n",
    "# # d4.head()\n",
    "# d0 = pd.read_csv('./data/train_label.csv')\n",
    "# # d0.shape\n",
    "# # d0.head()\n",
    "\n",
    "# d40 = pd.merge(d4, d0, how='left', on='申请编号')\n",
    "\n",
    "# d40['分期付款日期'].value_counts()\n",
    "# pd.DataFrame(d40.loc[d40['标签']==0,'分期付款日期'].value_counts().sort_index())\n",
    "\n",
    "# pd.DataFrame(d40.loc[d40['分期付款日期']==np.NaN,'标签'].value_counts().sort_index())\n",
    "\n",
    "# d4.groupby(['申请编号','历史申请编号','有支付行为的分期付款']).agg({'本期贷款金额':'sum'}).reset_index()\n"
   ]
  },
  {
   "cell_type": "code",
   "execution_count": 89,
   "metadata": {},
   "outputs": [],
   "source": [
    "### d4 缺失值插补\n",
    "\n",
    "# for col in d4.columns:\n",
    "#     d4[col].value_counts()\n",
    "\n",
    "# 距申请日期>0, 置平均值\n",
    "# d4_cols = {}\n",
    "# d4_cols['_dt'] = [\n",
    "#     '分期付款实际支付时间']\n",
    "    \n",
    "nan_to_mean = [\n",
    "    '分期付款实际支付时间',\n",
    "    '本期还款金额'\n",
    "]\n",
    "\n",
    "#TODO 空值插补0\n",
    "d4 = d4.fillna(0)"
   ]
  },
  {
   "cell_type": "code",
   "execution_count": 90,
   "metadata": {},
   "outputs": [],
   "source": [
    "### d4 自定义特征\n",
    "\n",
    "d4.eval('分期付款支付时间差 = 分期付款实际支付时间 - 分期付款应支付时间', inplace=True)\n",
    "# d4['分期付款应支付时间'].value_counts()\n",
    "# d4['分期付款实际支付时间'].value_counts()"
   ]
  },
  {
   "cell_type": "code",
   "execution_count": 91,
   "metadata": {},
   "outputs": [
    {
     "data": {
      "text/plain": [
       "(5719219, 3)"
      ]
     },
     "execution_count": 91,
     "metadata": {},
     "output_type": "execute_result"
    },
    {
     "data": {
      "text/html": [
       "<div>\n",
       "<style scoped>\n",
       "    .dataframe tbody tr th:only-of-type {\n",
       "        vertical-align: middle;\n",
       "    }\n",
       "\n",
       "    .dataframe tbody tr th {\n",
       "        vertical-align: top;\n",
       "    }\n",
       "\n",
       "    .dataframe thead th {\n",
       "        text-align: right;\n",
       "    }\n",
       "</style>\n",
       "<table border=\"1\" class=\"dataframe\">\n",
       "  <thead>\n",
       "    <tr style=\"text-align: right;\">\n",
       "      <th></th>\n",
       "      <th></th>\n",
       "      <th></th>\n",
       "      <th>本期贷款金额sum</th>\n",
       "      <th>本期还款金额mean</th>\n",
       "      <th>分期付款支付时间差mean</th>\n",
       "    </tr>\n",
       "    <tr>\n",
       "      <th>申请编号</th>\n",
       "      <th>历史申请编号</th>\n",
       "      <th>有支付行为的分期付款</th>\n",
       "      <th></th>\n",
       "      <th></th>\n",
       "      <th></th>\n",
       "    </tr>\n",
       "  </thead>\n",
       "  <tbody>\n",
       "    <tr>\n",
       "      <td rowspan=\"5\" valign=\"top\">0</td>\n",
       "      <td rowspan=\"5\" valign=\"top\">779169</td>\n",
       "      <td>2</td>\n",
       "      <td>1100.0</td>\n",
       "      <td>1100.0</td>\n",
       "      <td>-14.0</td>\n",
       "    </tr>\n",
       "    <tr>\n",
       "      <td>3</td>\n",
       "      <td>1100.0</td>\n",
       "      <td>1100.0</td>\n",
       "      <td>-13.0</td>\n",
       "    </tr>\n",
       "    <tr>\n",
       "      <td>4</td>\n",
       "      <td>1100.0</td>\n",
       "      <td>1100.0</td>\n",
       "      <td>1.0</td>\n",
       "    </tr>\n",
       "    <tr>\n",
       "      <td>5</td>\n",
       "      <td>1100.0</td>\n",
       "      <td>1100.0</td>\n",
       "      <td>-23.0</td>\n",
       "    </tr>\n",
       "    <tr>\n",
       "      <td>7</td>\n",
       "      <td>1100.0</td>\n",
       "      <td>1100.0</td>\n",
       "      <td>-1.0</td>\n",
       "    </tr>\n",
       "  </tbody>\n",
       "</table>\n",
       "</div>"
      ],
      "text/plain": [
       "                        本期贷款金额sum  本期还款金额mean  分期付款支付时间差mean\n",
       "申请编号 历史申请编号 有支付行为的分期付款                                      \n",
       "0    779169 2              1100.0      1100.0          -14.0\n",
       "            3              1100.0      1100.0          -13.0\n",
       "            4              1100.0      1100.0            1.0\n",
       "            5              1100.0      1100.0          -23.0\n",
       "            7              1100.0      1100.0           -1.0"
      ]
     },
     "execution_count": 91,
     "metadata": {},
     "output_type": "execute_result"
    }
   ],
   "source": [
    "### d4 group by phase 1 ###\n",
    "\n",
    "d41_agg_dict = {\n",
    "    '本期贷款金额':['sum'],\n",
    "    '本期还款金额':['mean'],\n",
    "    '分期付款支付时间差':['mean']\n",
    "}\n",
    "d41 = d4.groupby(['申请编号','历史申请编号','有支付行为的分期付款']).agg(d41_agg_dict)\n",
    "d41.columns = pd.Series(d41.columns.tolist()).apply(pd.Series).sum(axis=1)\n",
    "d41.shape\n",
    "d41.head()\n"
   ]
  },
  {
   "cell_type": "code",
   "execution_count": 92,
   "metadata": {},
   "outputs": [
    {
     "data": {
      "text/plain": [
       "0    5444576\n",
       "1     274643\n",
       "Name: 是否逾期, dtype: int64"
      ]
     },
     "execution_count": 92,
     "metadata": {},
     "output_type": "execute_result"
    }
   ],
   "source": [
    "### d4 自定义特征\n",
    "# d41['分期付款支付时间差mean'].value_counts()\n",
    "# d41.loc[d4['分期付款实际支付时间']>0, '分期付款实际支付时间'].value_counts()\n",
    "\n",
    "# '是否逾期'\n",
    "d41['是否逾期'] = d41['分期付款支付时间差mean'].apply(lambda x: 1 if x > 0 else 0 )\n",
    "d41['是否逾期'].value_counts()"
   ]
  },
  {
   "cell_type": "code",
   "execution_count": 93,
   "metadata": {},
   "outputs": [
    {
     "data": {
      "text/plain": [
       "(445770, 5)"
      ]
     },
     "execution_count": 93,
     "metadata": {},
     "output_type": "execute_result"
    },
    {
     "data": {
      "text/html": [
       "<div>\n",
       "<style scoped>\n",
       "    .dataframe tbody tr th:only-of-type {\n",
       "        vertical-align: middle;\n",
       "    }\n",
       "\n",
       "    .dataframe tbody tr th {\n",
       "        vertical-align: top;\n",
       "    }\n",
       "\n",
       "    .dataframe thead th {\n",
       "        text-align: right;\n",
       "    }\n",
       "</style>\n",
       "<table border=\"1\" class=\"dataframe\">\n",
       "  <thead>\n",
       "    <tr style=\"text-align: right;\">\n",
       "      <th></th>\n",
       "      <th></th>\n",
       "      <th>本期还款金额meansum</th>\n",
       "      <th>本期贷款金额sumsum</th>\n",
       "      <th>分期付款支付时间差meanmean</th>\n",
       "      <th>是否逾期mean</th>\n",
       "      <th>是否逾期sum</th>\n",
       "    </tr>\n",
       "    <tr>\n",
       "      <th>申请编号</th>\n",
       "      <th>历史申请编号</th>\n",
       "      <th></th>\n",
       "      <th></th>\n",
       "      <th></th>\n",
       "      <th></th>\n",
       "      <th></th>\n",
       "    </tr>\n",
       "  </thead>\n",
       "  <tbody>\n",
       "    <tr>\n",
       "      <td>0</td>\n",
       "      <td>779169</td>\n",
       "      <td>11538.0</td>\n",
       "      <td>16472.0</td>\n",
       "      <td>-11.000000</td>\n",
       "      <td>0.083333</td>\n",
       "      <td>1</td>\n",
       "    </tr>\n",
       "    <tr>\n",
       "      <td rowspan=\"2\" valign=\"top\">1</td>\n",
       "      <td>313225</td>\n",
       "      <td>7428.5</td>\n",
       "      <td>8376.0</td>\n",
       "      <td>-6.250000</td>\n",
       "      <td>0.000000</td>\n",
       "      <td>0</td>\n",
       "    </tr>\n",
       "    <tr>\n",
       "      <td>753009</td>\n",
       "      <td>11712.0</td>\n",
       "      <td>11712.0</td>\n",
       "      <td>-3.083333</td>\n",
       "      <td>0.000000</td>\n",
       "      <td>0</td>\n",
       "    </tr>\n",
       "    <tr>\n",
       "      <td rowspan=\"2\" valign=\"top\">2</td>\n",
       "      <td>702654</td>\n",
       "      <td>57934.0</td>\n",
       "      <td>65493.0</td>\n",
       "      <td>-2.458333</td>\n",
       "      <td>0.000000</td>\n",
       "      <td>0</td>\n",
       "    </tr>\n",
       "    <tr>\n",
       "      <td>710924</td>\n",
       "      <td>38610.0</td>\n",
       "      <td>38610.0</td>\n",
       "      <td>-3.466667</td>\n",
       "      <td>0.066667</td>\n",
       "      <td>1</td>\n",
       "    </tr>\n",
       "  </tbody>\n",
       "</table>\n",
       "</div>"
      ],
      "text/plain": [
       "             本期还款金额meansum  本期贷款金额sumsum  分期付款支付时间差meanmean  是否逾期mean  是否逾期sum\n",
       "申请编号 历史申请编号                                                                   \n",
       "0    779169        11538.0       16472.0         -11.000000  0.083333        1\n",
       "1    313225         7428.5        8376.0          -6.250000  0.000000        0\n",
       "     753009        11712.0       11712.0          -3.083333  0.000000        0\n",
       "2    702654        57934.0       65493.0          -2.458333  0.000000        0\n",
       "     710924        38610.0       38610.0          -3.466667  0.066667        1"
      ]
     },
     "execution_count": 93,
     "metadata": {},
     "output_type": "execute_result"
    }
   ],
   "source": [
    "### d4 group by phase 2 ###\n",
    "\n",
    "d42_agg_dict = {\n",
    "    '本期还款金额mean':['sum'],\n",
    "    '本期贷款金额sum':['sum'],\n",
    "    '分期付款支付时间差mean':['mean'],\n",
    "    '是否逾期':['mean','sum'] # mean-逾期占比；sum-累计逾期\n",
    "}\n",
    "d42 = d41.groupby(['申请编号','历史申请编号']).agg(d42_agg_dict)\n",
    "d42.columns = pd.Series(d42.columns.tolist()).apply(pd.Series).sum(axis=1)\n",
    "d42.shape\n",
    "d42.head()\n"
   ]
  },
  {
   "cell_type": "code",
   "execution_count": 94,
   "metadata": {},
   "outputs": [
    {
     "data": {
      "text/plain": [
       "['本期还款金额meansum',\n",
       " '本期贷款金额sumsum',\n",
       " '分期付款支付时间差meanmean',\n",
       " '是否逾期mean',\n",
       " '是否逾期sum',\n",
       " '本期还款金额ms比贷款金额ss']"
      ]
     },
     "execution_count": 94,
     "metadata": {},
     "output_type": "execute_result"
    }
   ],
   "source": [
    "### d4 自定义特征\n",
    "\n",
    "d42.eval('本期还款金额ms比贷款金额ss = 本期还款金额meansum / 本期贷款金额sumsum', inplace=True)\n",
    "d42.columns.to_list()"
   ]
  },
  {
   "cell_type": "code",
   "execution_count": 95,
   "metadata": {},
   "outputs": [
    {
     "data": {
      "text/plain": [
       "'d43'"
      ]
     },
     "execution_count": 95,
     "metadata": {},
     "output_type": "execute_result"
    },
    {
     "data": {
      "text/plain": [
       "(153309, 6)"
      ]
     },
     "execution_count": 95,
     "metadata": {},
     "output_type": "execute_result"
    },
    {
     "data": {
      "text/html": [
       "<div>\n",
       "<style scoped>\n",
       "    .dataframe tbody tr th:only-of-type {\n",
       "        vertical-align: middle;\n",
       "    }\n",
       "\n",
       "    .dataframe tbody tr th {\n",
       "        vertical-align: top;\n",
       "    }\n",
       "\n",
       "    .dataframe thead th {\n",
       "        text-align: right;\n",
       "    }\n",
       "</style>\n",
       "<table border=\"1\" class=\"dataframe\">\n",
       "  <thead>\n",
       "    <tr style=\"text-align: right;\">\n",
       "      <th></th>\n",
       "      <th>本期还款金额ms比贷款金额ssmean</th>\n",
       "      <th>本期还款金额meansumsum</th>\n",
       "      <th>本期贷款金额sumsumsum</th>\n",
       "      <th>是否逾期sumsum</th>\n",
       "      <th>是否逾期summean</th>\n",
       "      <th>是否逾期meanmean</th>\n",
       "    </tr>\n",
       "    <tr>\n",
       "      <th>申请编号</th>\n",
       "      <th></th>\n",
       "      <th></th>\n",
       "      <th></th>\n",
       "      <th></th>\n",
       "      <th></th>\n",
       "      <th></th>\n",
       "    </tr>\n",
       "  </thead>\n",
       "  <tbody>\n",
       "    <tr>\n",
       "      <td>0</td>\n",
       "      <td>0.700461</td>\n",
       "      <td>11538.0</td>\n",
       "      <td>16472.0</td>\n",
       "      <td>1</td>\n",
       "      <td>1.00</td>\n",
       "      <td>0.083333</td>\n",
       "    </tr>\n",
       "    <tr>\n",
       "      <td>1</td>\n",
       "      <td>0.943440</td>\n",
       "      <td>19140.5</td>\n",
       "      <td>20088.0</td>\n",
       "      <td>0</td>\n",
       "      <td>0.00</td>\n",
       "      <td>0.000000</td>\n",
       "    </tr>\n",
       "    <tr>\n",
       "      <td>2</td>\n",
       "      <td>0.971146</td>\n",
       "      <td>221145.0</td>\n",
       "      <td>228704.0</td>\n",
       "      <td>1</td>\n",
       "      <td>0.25</td>\n",
       "      <td>0.016667</td>\n",
       "    </tr>\n",
       "    <tr>\n",
       "      <td>3</td>\n",
       "      <td>1.000000</td>\n",
       "      <td>58938.0</td>\n",
       "      <td>58938.0</td>\n",
       "      <td>0</td>\n",
       "      <td>0.00</td>\n",
       "      <td>0.000000</td>\n",
       "    </tr>\n",
       "    <tr>\n",
       "      <td>5</td>\n",
       "      <td>0.925340</td>\n",
       "      <td>51451.5</td>\n",
       "      <td>52856.0</td>\n",
       "      <td>0</td>\n",
       "      <td>0.00</td>\n",
       "      <td>0.000000</td>\n",
       "    </tr>\n",
       "  </tbody>\n",
       "</table>\n",
       "</div>"
      ],
      "text/plain": [
       "      本期还款金额ms比贷款金额ssmean  本期还款金额meansumsum  本期贷款金额sumsumsum  是否逾期sumsum  \\\n",
       "申请编号                                                                       \n",
       "0                0.700461           11538.0          16472.0           1   \n",
       "1                0.943440           19140.5          20088.0           0   \n",
       "2                0.971146          221145.0         228704.0           1   \n",
       "3                1.000000           58938.0          58938.0           0   \n",
       "5                0.925340           51451.5          52856.0           0   \n",
       "\n",
       "      是否逾期summean  是否逾期meanmean  \n",
       "申请编号                             \n",
       "0            1.00      0.083333  \n",
       "1            0.00      0.000000  \n",
       "2            0.25      0.016667  \n",
       "3            0.00      0.000000  \n",
       "5            0.00      0.000000  "
      ]
     },
     "execution_count": 95,
     "metadata": {},
     "output_type": "execute_result"
    }
   ],
   "source": [
    "### d4 group by phase 3 ###\n",
    "\n",
    "d43 = d42.groupby('申请编号').agg({\n",
    "    '本期还款金额ms比贷款金额ss':['mean'],\n",
    "    '本期还款金额meansum':['sum'],\n",
    "    '本期贷款金额sumsum':['sum'],\n",
    "    '是否逾期sum':['sum','mean'], # 是否逾期sumsum:历史累计逾期数; 是否逾期summean:历史累计逾期占比\n",
    "    '是否逾期mean':['mean'], # 逾期meanmean:逾期占比均值\n",
    "})\n",
    "d43.columns = pd.Series(d43.columns.tolist()).apply(pd.Series).sum(axis=1)\n",
    "'''d43'''\n",
    "d43.shape\n",
    "d43.head()\n"
   ]
  },
  {
   "cell_type": "code",
   "execution_count": 96,
   "metadata": {},
   "outputs": [
    {
     "data": {
      "text/plain": [
       "'d4'"
      ]
     },
     "execution_count": 96,
     "metadata": {},
     "output_type": "execute_result"
    },
    {
     "data": {
      "text/plain": [
       "(153309, 12)"
      ]
     },
     "execution_count": 96,
     "metadata": {},
     "output_type": "execute_result"
    },
    {
     "data": {
      "text/plain": [
       "'d4'"
      ]
     },
     "execution_count": 96,
     "metadata": {},
     "output_type": "execute_result"
    },
    {
     "data": {
      "text/plain": [
       "(153309, 18)"
      ]
     },
     "execution_count": 96,
     "metadata": {},
     "output_type": "execute_result"
    },
    {
     "data": {
      "text/html": [
       "<div>\n",
       "<style scoped>\n",
       "    .dataframe tbody tr th:only-of-type {\n",
       "        vertical-align: middle;\n",
       "    }\n",
       "\n",
       "    .dataframe tbody tr th {\n",
       "        vertical-align: top;\n",
       "    }\n",
       "\n",
       "    .dataframe thead th {\n",
       "        text-align: right;\n",
       "    }\n",
       "</style>\n",
       "<table border=\"1\" class=\"dataframe\">\n",
       "  <thead>\n",
       "    <tr style=\"text-align: right;\">\n",
       "      <th></th>\n",
       "      <th>本期贷款金额mean</th>\n",
       "      <th>本期贷款金额max</th>\n",
       "      <th>本期贷款金额min</th>\n",
       "      <th>本期还款金额mean</th>\n",
       "      <th>本期还款金额max</th>\n",
       "      <th>本期还款金额min</th>\n",
       "      <th>分期付款应支付时间mean</th>\n",
       "      <th>分期付款应支付时间max</th>\n",
       "      <th>分期付款应支付时间min</th>\n",
       "      <th>分期付款实际支付时间mean</th>\n",
       "      <th>分期付款实际支付时间max</th>\n",
       "      <th>分期付款实际支付时间min</th>\n",
       "      <th>本期还款金额ms比贷款金额ssmean</th>\n",
       "      <th>本期还款金额meansumsum</th>\n",
       "      <th>本期贷款金额sumsumsum</th>\n",
       "      <th>是否逾期sumsum</th>\n",
       "      <th>是否逾期summean</th>\n",
       "      <th>是否逾期meanmean</th>\n",
       "    </tr>\n",
       "    <tr>\n",
       "      <th>申请编号</th>\n",
       "      <th></th>\n",
       "      <th></th>\n",
       "      <th></th>\n",
       "      <th></th>\n",
       "      <th></th>\n",
       "      <th></th>\n",
       "      <th></th>\n",
       "      <th></th>\n",
       "      <th></th>\n",
       "      <th></th>\n",
       "      <th></th>\n",
       "      <th></th>\n",
       "      <th></th>\n",
       "      <th></th>\n",
       "      <th></th>\n",
       "      <th></th>\n",
       "      <th></th>\n",
       "      <th></th>\n",
       "    </tr>\n",
       "  </thead>\n",
       "  <tbody>\n",
       "    <tr>\n",
       "      <td>0</td>\n",
       "      <td>1098.133333</td>\n",
       "      <td>1100.0</td>\n",
       "      <td>1072.0</td>\n",
       "      <td>880.266667</td>\n",
       "      <td>1100.0</td>\n",
       "      <td>12.0</td>\n",
       "      <td>-1600.000000</td>\n",
       "      <td>-1480</td>\n",
       "      <td>-1744</td>\n",
       "      <td>-1610.333333</td>\n",
       "      <td>-1490.0</td>\n",
       "      <td>-1758.0</td>\n",
       "      <td>0.700461</td>\n",
       "      <td>11538.0</td>\n",
       "      <td>16472.0</td>\n",
       "      <td>1</td>\n",
       "      <td>1.00</td>\n",
       "      <td>0.083333</td>\n",
       "    </tr>\n",
       "    <tr>\n",
       "      <td>1</td>\n",
       "      <td>803.520000</td>\n",
       "      <td>976.0</td>\n",
       "      <td>635.0</td>\n",
       "      <td>778.520000</td>\n",
       "      <td>976.0</td>\n",
       "      <td>242.0</td>\n",
       "      <td>-267.920000</td>\n",
       "      <td>-19</td>\n",
       "      <td>-518</td>\n",
       "      <td>-272.480000</td>\n",
       "      <td>-23.0</td>\n",
       "      <td>-527.0</td>\n",
       "      <td>0.943440</td>\n",
       "      <td>19140.5</td>\n",
       "      <td>20088.0</td>\n",
       "      <td>0</td>\n",
       "      <td>0.00</td>\n",
       "      <td>0.000000</td>\n",
       "    </tr>\n",
       "    <tr>\n",
       "      <td>2</td>\n",
       "      <td>5578.146341</td>\n",
       "      <td>39611.0</td>\n",
       "      <td>2574.0</td>\n",
       "      <td>5455.414634</td>\n",
       "      <td>39611.0</td>\n",
       "      <td>607.0</td>\n",
       "      <td>-331.829268</td>\n",
       "      <td>-4</td>\n",
       "      <td>-641</td>\n",
       "      <td>-334.439024</td>\n",
       "      <td>-28.0</td>\n",
       "      <td>-648.0</td>\n",
       "      <td>0.971146</td>\n",
       "      <td>221145.0</td>\n",
       "      <td>228704.0</td>\n",
       "      <td>1</td>\n",
       "      <td>0.25</td>\n",
       "      <td>0.016667</td>\n",
       "    </tr>\n",
       "    <tr>\n",
       "      <td>3</td>\n",
       "      <td>4911.500000</td>\n",
       "      <td>4912.0</td>\n",
       "      <td>4906.0</td>\n",
       "      <td>4911.500000</td>\n",
       "      <td>4912.0</td>\n",
       "      <td>4906.0</td>\n",
       "      <td>-252.000000</td>\n",
       "      <td>-120</td>\n",
       "      <td>-384</td>\n",
       "      <td>-267.000000</td>\n",
       "      <td>-134.0</td>\n",
       "      <td>-396.0</td>\n",
       "      <td>1.000000</td>\n",
       "      <td>58938.0</td>\n",
       "      <td>58938.0</td>\n",
       "      <td>0</td>\n",
       "      <td>0.00</td>\n",
       "      <td>0.000000</td>\n",
       "    </tr>\n",
       "    <tr>\n",
       "      <td>5</td>\n",
       "      <td>1957.629630</td>\n",
       "      <td>17350.0</td>\n",
       "      <td>33.0</td>\n",
       "      <td>1923.222222</td>\n",
       "      <td>17350.0</td>\n",
       "      <td>33.0</td>\n",
       "      <td>-1107.925926</td>\n",
       "      <td>-222</td>\n",
       "      <td>-2306</td>\n",
       "      <td>-1111.407407</td>\n",
       "      <td>-222.0</td>\n",
       "      <td>-2306.0</td>\n",
       "      <td>0.925340</td>\n",
       "      <td>51451.5</td>\n",
       "      <td>52856.0</td>\n",
       "      <td>0</td>\n",
       "      <td>0.00</td>\n",
       "      <td>0.000000</td>\n",
       "    </tr>\n",
       "  </tbody>\n",
       "</table>\n",
       "</div>"
      ],
      "text/plain": [
       "       本期贷款金额mean  本期贷款金额max  本期贷款金额min   本期还款金额mean  本期还款金额max  本期还款金额min  \\\n",
       "申请编号                                                                         \n",
       "0     1098.133333     1100.0     1072.0   880.266667     1100.0       12.0   \n",
       "1      803.520000      976.0      635.0   778.520000      976.0      242.0   \n",
       "2     5578.146341    39611.0     2574.0  5455.414634    39611.0      607.0   \n",
       "3     4911.500000     4912.0     4906.0  4911.500000     4912.0     4906.0   \n",
       "5     1957.629630    17350.0       33.0  1923.222222    17350.0       33.0   \n",
       "\n",
       "      分期付款应支付时间mean  分期付款应支付时间max  分期付款应支付时间min  分期付款实际支付时间mean  \\\n",
       "申请编号                                                              \n",
       "0      -1600.000000         -1480         -1744    -1610.333333   \n",
       "1       -267.920000           -19          -518     -272.480000   \n",
       "2       -331.829268            -4          -641     -334.439024   \n",
       "3       -252.000000          -120          -384     -267.000000   \n",
       "5      -1107.925926          -222         -2306    -1111.407407   \n",
       "\n",
       "      分期付款实际支付时间max  分期付款实际支付时间min  本期还款金额ms比贷款金额ssmean  本期还款金额meansumsum  \\\n",
       "申请编号                                                                        \n",
       "0           -1490.0        -1758.0             0.700461           11538.0   \n",
       "1             -23.0         -527.0             0.943440           19140.5   \n",
       "2             -28.0         -648.0             0.971146          221145.0   \n",
       "3            -134.0         -396.0             1.000000           58938.0   \n",
       "5            -222.0        -2306.0             0.925340           51451.5   \n",
       "\n",
       "      本期贷款金额sumsumsum  是否逾期sumsum  是否逾期summean  是否逾期meanmean  \n",
       "申请编号                                                          \n",
       "0             16472.0           1         1.00      0.083333  \n",
       "1             20088.0           0         0.00      0.000000  \n",
       "2            228704.0           1         0.25      0.016667  \n",
       "3             58938.0           0         0.00      0.000000  \n",
       "5             52856.0           0         0.00      0.000000  "
      ]
     },
     "execution_count": 96,
     "metadata": {},
     "output_type": "execute_result"
    }
   ],
   "source": [
    "### d4 group by phase 4 ###\n",
    "\n",
    "d4_agg_dict = {}\n",
    "d4_cols = {}\n",
    "# 金额型\n",
    "d4_cols['curr'] = [\n",
    "    '本期贷款金额',\n",
    "    '本期还款金额']\n",
    "\n",
    "\n",
    "# 时长型\n",
    "d4_cols['time_span'] = [\n",
    "    '分期付款应支付时间',\n",
    "    '分期付款实际支付时间']\n",
    "\n",
    "# 计数型\n",
    "d4_cols['cnt'] = [\n",
    "    '有支付行为的分期付款']\n",
    "\n",
    "# 数值型 - 金额\n",
    "curr_agg = ['mean', 'max', 'min']\n",
    "for col in d4_cols['curr']:\n",
    "    d4_agg_dict[col] = curr_agg\n",
    "\n",
    "# 数值型 - 时长 \n",
    "time_span_agg = ['mean', 'max', 'min']\n",
    "for col in d4_cols['time_span']:\n",
    "    d4_agg_dict[col] = time_span_agg\n",
    "\n",
    "d4 = d4.groupby('申请编号').agg(d4_agg_dict)\n",
    "d4.columns = pd.Series(d4.columns.tolist()).apply(pd.Series).sum(axis=1)\n",
    "'''d4'''\n",
    "d4.shape\n",
    "\n",
    "d4 = pd.merge(d4, d43, how='inner', on='申请编号')\n",
    "'''d4'''\n",
    "d4.shape\n",
    "d4.head()"
   ]
  },
  {
   "cell_type": "code",
   "execution_count": 97,
   "metadata": {},
   "outputs": [
    {
     "data": {
      "text/plain": [
       "'d12'"
      ]
     },
     "execution_count": 97,
     "metadata": {},
     "output_type": "execute_result"
    },
    {
     "data": {
      "text/plain": [
       "(161511, 62)"
      ]
     },
     "execution_count": 97,
     "metadata": {},
     "output_type": "execute_result"
    },
    {
     "data": {
      "text/plain": [
       "'d4'"
      ]
     },
     "execution_count": 97,
     "metadata": {},
     "output_type": "execute_result"
    },
    {
     "data": {
      "text/plain": [
       "(153309, 18)"
      ]
     },
     "execution_count": 97,
     "metadata": {},
     "output_type": "execute_result"
    },
    {
     "data": {
      "text/plain": [
       "'d12_d4'"
      ]
     },
     "execution_count": 97,
     "metadata": {},
     "output_type": "execute_result"
    },
    {
     "data": {
      "text/plain": [
       "(161511, 19)"
      ]
     },
     "execution_count": 97,
     "metadata": {},
     "output_type": "execute_result"
    }
   ],
   "source": [
    "### Merge d12 and d4 ###\n",
    "'''d12'''\n",
    "d12.shape\n",
    "'''d4'''\n",
    "d4.shape\n",
    "\n",
    "d12_d4 = pd.merge(d12['申请编号'], d4, how='left', on='申请编号')\n",
    "\n",
    "'''d12_d4'''\n",
    "d12_d4.shape\n",
    "# print_na(d12_d4)\n",
    "\n",
    "#TODO 空值插补0\n",
    "d12_d4 = d12_d4.fillna(0)"
   ]
  },
  {
   "cell_type": "code",
   "execution_count": 98,
   "metadata": {},
   "outputs": [
    {
     "data": {
      "text/plain": [
       "(161511, 391)"
      ]
     },
     "execution_count": 98,
     "metadata": {},
     "output_type": "execute_result"
    },
    {
     "data": {
      "text/plain": [
       "(161511, 19)"
      ]
     },
     "execution_count": 98,
     "metadata": {},
     "output_type": "execute_result"
    },
    {
     "data": {
      "text/plain": [
       "(161511, 409)"
      ]
     },
     "execution_count": 98,
     "metadata": {},
     "output_type": "execute_result"
    }
   ],
   "source": [
    "### Merge d12_d3a_all and d12_d4 ###\n",
    "\n",
    "d12_d3a_all.shape\n",
    "d12_d4.shape\n",
    "d1234 = pd.merge(d12_d3a_all, d12_d4, how='left', on='申请编号')\n",
    "d1234.shape\n",
    "print_na(d1234)"
   ]
  },
  {
   "cell_type": "code",
   "execution_count": 35,
   "metadata": {},
   "outputs": [
    {
     "data": {
      "text/plain": [
       "(140000, 405)"
      ]
     },
     "execution_count": 35,
     "metadata": {},
     "output_type": "execute_result"
    },
    {
     "data": {
      "text/plain": [
       "(21511, 405)"
      ]
     },
     "execution_count": 35,
     "metadata": {},
     "output_type": "execute_result"
    }
   ],
   "source": [
    "prefix = 'train'\n",
    "data_train = pd.merge(d01['申请编号'], d1234, on='申请编号', how='left')\n",
    "data_train.shape\n",
    "data_train.to_csv(f'./tmp/{prefix}_d1234.csv')\n",
    "\n",
    "prefix = 'A'\n",
    "data_test = pd.merge(d05['申请编号'], d1234, on='申请编号', how='left')\n",
    "data_test.shape\n",
    "data_test.to_csv(f'./tmp/{prefix}_d1234.csv')"
   ]
  },
  {
   "cell_type": "code",
   "execution_count": 36,
   "metadata": {},
   "outputs": [
    {
     "name": "stdout",
     "output_type": "stream",
     "text": [
      "申请编号\n",
      "贷款类型\n",
      "信用额度\n",
      "贷款年金\n",
      "商品价格\n",
      "陪同申请人\n",
      "出生日期距申请日期天数\n",
      "工作日期距申请日期天数\n",
      "注册日期距申请日期天数\n",
      "身份认证日期距申请日期天数\n",
      "是否提供手机号\n",
      "是否提供电话\n",
      "手机号是否有效\n",
      "是否提供email\n",
      "申请周内日\n",
      "申请时点\n",
      "外部评分\n",
      "申请人是否额外提供了文件2\n",
      "申请人是否额外提供了文件3\n",
      "申请人是否额外提供了文件4\n",
      "申请人是否额外提供了文件5\n",
      "申请人是否额外提供了文件6\n",
      "申请人是否额外提供了文件7\n",
      "申请人是否额外提供了文件8\n",
      "申请人是否额外提供了文件9\n",
      "贷款申请前1小时内征信查询次数\n",
      "贷款申请前1天内征信查询次数\n",
      "贷款申请前1周内征信查询次数\n",
      "贷款申请前1个月内征信查询次数\n",
      "贷款申请前1个季度内征信查询次数\n",
      "贷款申请前1年内征信查询次数\n",
      "性别\n",
      "是否有车\n",
      "是否有房\n",
      "孩子个数\n",
      "客户收入\n",
      "收入类型\n",
      "教育程度\n",
      "婚姻状态\n",
      "居住状态\n",
      "居住地人口密集度\n",
      "有车时间\n",
      "职业\n",
      "家庭成员数\n",
      "居住信息1\n",
      "居住信息2\n",
      "居住信息3\n",
      "居住信息4\n",
      "客户居住地评分1\n",
      "客户居住地评分2\n",
      "地址是否一致标志1\n",
      "地址是否一致标志2\n",
      "地址是否一致标志3\n",
      "地址是否一致标志4\n",
      "地址是否一致标志5\n",
      "地址是否一致标志6\n",
      "单位类型\n",
      "社交圈违约信息2_2\n",
      "社交圈违约信息2_1\n",
      "社交圈违约信息1_2\n",
      "社交圈违约信息1_1\n",
      "最近一次换手机号码距申请日天数\n",
      "历史申请编号count_x\n",
      "贷款年金mean\n",
      "贷款年金max\n",
      "贷款年金min\n",
      "申请额度mean\n",
      "申请额度max\n",
      "申请额度min\n",
      "信用额度mean\n",
      "信用额度max\n",
      "信用额度min\n",
      "首付金额mean\n",
      "首付金额max\n",
      "首付金额min\n",
      "商品价格mean\n",
      "商品价格max\n",
      "商品价格min\n",
      "拟实际应还贷款金额mean\n",
      "拟实际应还贷款金额max\n",
      "拟实际应还贷款金额min\n",
      "拟实际应还贷款金额sum\n",
      "信用额度比mean\n",
      "信用额度比max\n",
      "信用额度比min\n",
      "历史贷款授信距本次申请时间mean\n",
      "历史贷款授信距本次申请时间max\n",
      "历史贷款授信距本次申请时间min\n",
      "首付时间mean\n",
      "首付时间max\n",
      "首付时间min\n",
      "首付率mean\n",
      "首付率max\n",
      "首付率min\n",
      "利率1mean\n",
      "利率1max\n",
      "利率1min\n",
      "利率2mean\n",
      "利率2max\n",
      "利率2min\n",
      "贷款类型_0sum\n",
      "贷款类型_0mean\n",
      "贷款类型_1sum\n",
      "贷款类型_1mean\n",
      "贷款类型_Asum\n",
      "贷款类型_Amean\n",
      "贷款用途_0sum\n",
      "贷款用途_0mean\n",
      "贷款用途_1sum\n",
      "贷款用途_1mean\n",
      "贷款用途_2sum\n",
      "贷款用途_2mean\n",
      "贷款用途_3sum\n",
      "贷款用途_3mean\n",
      "贷款用途_4sum\n",
      "贷款用途_4mean\n",
      "贷款用途_5sum\n",
      "贷款用途_5mean\n",
      "贷款用途_6sum\n",
      "贷款用途_6mean\n",
      "贷款用途_7sum\n",
      "贷款用途_7mean\n",
      "贷款用途_8sum\n",
      "贷款用途_8mean\n",
      "贷款用途_9sum\n",
      "贷款用途_9mean\n",
      "贷款用途_10sum\n",
      "贷款用途_10mean\n",
      "贷款用途_11sum\n",
      "贷款用途_11mean\n",
      "贷款用途_12sum\n",
      "贷款用途_12mean\n",
      "贷款用途_13sum\n",
      "贷款用途_13mean\n",
      "贷款用途_14sum\n",
      "贷款用途_14mean\n",
      "贷款用途_15sum\n",
      "贷款用途_15mean\n",
      "贷款用途_16sum\n",
      "贷款用途_16mean\n",
      "贷款用途_17sum\n",
      "贷款用途_17mean\n",
      "贷款用途_18sum\n",
      "贷款用途_18mean\n",
      "贷款用途_19sum\n",
      "贷款用途_19mean\n",
      "贷款用途_20sum\n",
      "贷款用途_20mean\n",
      "贷款用途_21sum\n",
      "贷款用途_21mean\n",
      "贷款用途_22sum\n",
      "贷款用途_22mean\n",
      "贷款用途_23sum\n",
      "贷款用途_23mean\n",
      "贷款用途_24sum\n",
      "贷款用途_24mean\n",
      "合同状态_0sum\n",
      "合同状态_0mean\n",
      "合同状态_1sum\n",
      "合同状态_1mean\n",
      "合同状态_2sum\n",
      "合同状态_2mean\n",
      "合同状态_3sum\n",
      "合同状态_3mean\n",
      "付款方式_0sum\n",
      "付款方式_0mean\n",
      "付款方式_1sum\n",
      "付款方式_1mean\n",
      "付款方式_2sum\n",
      "付款方式_2mean\n",
      "付款方式_3sum\n",
      "付款方式_3mean\n",
      "陪同申请人_0.0sum\n",
      "陪同申请人_0.0mean\n",
      "陪同申请人_1.0sum\n",
      "陪同申请人_1.0mean\n",
      "陪同申请人_2.0sum\n",
      "陪同申请人_2.0mean\n",
      "陪同申请人_4.0sum\n",
      "陪同申请人_4.0mean\n",
      "陪同申请人_5.0sum\n",
      "陪同申请人_5.0mean\n",
      "陪同申请人_6.0sum\n",
      "陪同申请人_6.0mean\n",
      "陪同申请人_7.0sum\n",
      "陪同申请人_7.0mean\n",
      "客户类型_0sum\n",
      "客户类型_0mean\n",
      "客户类型_1sum\n",
      "客户类型_1mean\n",
      "客户类型_2sum\n",
      "客户类型_2mean\n",
      "客户类型_3sum\n",
      "客户类型_3mean\n",
      "商品类别_0sum\n",
      "商品类别_0mean\n",
      "商品类别_1sum\n",
      "商品类别_1mean\n",
      "商品类别_2sum\n",
      "商品类别_2mean\n",
      "商品类别_3sum\n",
      "商品类别_3mean\n",
      "商品类别_4sum\n",
      "商品类别_4mean\n",
      "商品类别_5sum\n",
      "商品类别_5mean\n",
      "商品类别_6sum\n",
      "商品类别_6mean\n",
      "商品类别_7sum\n",
      "商品类别_7mean\n",
      "商品类别_8sum\n",
      "商品类别_8mean\n",
      "商品类别_9sum\n",
      "商品类别_9mean\n",
      "商品类别_10sum\n",
      "商品类别_10mean\n",
      "商品类别_11sum\n",
      "商品类别_11mean\n",
      "商品类别_12sum\n",
      "商品类别_12mean\n",
      "商品类别_13sum\n",
      "商品类别_13mean\n",
      "商品类别_15sum\n",
      "商品类别_15mean\n",
      "商品类别_16sum\n",
      "商品类别_16mean\n",
      "商品类别_17sum\n",
      "商品类别_17mean\n",
      "商品类别_18sum\n",
      "商品类别_18mean\n",
      "商品类别_19sum\n",
      "商品类别_19mean\n",
      "商品类别_20sum\n",
      "商品类别_20mean\n",
      "商品类别_21sum\n",
      "商品类别_21mean\n",
      "商品类别_22sum\n",
      "商品类别_22mean\n",
      "商品类别_23sum\n",
      "商品类别_23mean\n",
      "商品类别_24sum\n",
      "商品类别_24mean\n",
      "商品类别_25sum\n",
      "商品类别_25mean\n",
      "商品类别_26sum\n",
      "商品类别_26mean\n",
      "商品类别_27sum\n",
      "商品类别_27mean\n",
      "组合类型_0sum\n",
      "组合类型_0mean\n",
      "组合类型_1sum\n",
      "组合类型_1mean\n",
      "组合类型_2sum\n",
      "组合类型_2mean\n",
      "组合类型_3sum\n",
      "组合类型_3mean\n",
      "组合类型_4sum\n",
      "组合类型_4mean\n",
      "产品类型_0sum\n",
      "产品类型_0mean\n",
      "产品类型_1sum\n",
      "产品类型_1mean\n",
      "产品类型_2sum\n",
      "产品类型_2mean\n",
      "获客渠道_0sum\n",
      "获客渠道_0mean\n",
      "获客渠道_1sum\n",
      "获客渠道_1mean\n",
      "获客渠道_2sum\n",
      "获客渠道_2mean\n",
      "获客渠道_3sum\n",
      "获客渠道_3mean\n",
      "获客渠道_4sum\n",
      "获客渠道_4mean\n",
      "获客渠道_5sum\n",
      "获客渠道_5mean\n",
      "获客渠道_6sum\n",
      "获客渠道_6mean\n",
      "获客渠道_7sum\n",
      "获客渠道_7mean\n",
      "行业_0sum\n",
      "行业_0mean\n",
      "行业_1sum\n",
      "行业_1mean\n",
      "行业_2sum\n",
      "行业_2mean\n",
      "行业_3sum\n",
      "行业_3mean\n",
      "行业_4sum\n",
      "行业_4mean\n",
      "行业_5sum\n",
      "行业_5mean\n",
      "行业_6sum\n",
      "行业_6mean\n",
      "行业_7sum\n",
      "行业_7mean\n",
      "行业_8sum\n",
      "行业_8mean\n",
      "行业_9sum\n",
      "行业_9mean\n",
      "行业_10sum\n",
      "行业_10mean\n",
      "收益级别_0sum\n",
      "收益级别_0mean\n",
      "收益级别_1sum\n",
      "收益级别_1mean\n",
      "收益级别_2sum\n",
      "收益级别_2mean\n",
      "收益级别_3sum\n",
      "收益级别_3mean\n",
      "收益级别_4sum\n",
      "收益级别_4mean\n",
      "产品组合_0.0sum\n",
      "产品组合_0.0mean\n",
      "产品组合_1.0sum\n",
      "产品组合_1.0mean\n",
      "产品组合_2.0sum\n",
      "产品组合_2.0mean\n",
      "产品组合_3.0sum\n",
      "产品组合_3.0mean\n",
      "产品组合_4.0sum\n",
      "产品组合_4.0mean\n",
      "产品组合_5.0sum\n",
      "产品组合_5.0mean\n",
      "产品组合_6.0sum\n",
      "产品组合_6.0mean\n",
      "产品组合_7.0sum\n",
      "产品组合_7.0mean\n",
      "产品组合_8.0sum\n",
      "产品组合_8.0mean\n",
      "产品组合_10.0sum\n",
      "产品组合_10.0mean\n",
      "产品组合_11.0sum\n",
      "产品组合_11.0mean\n",
      "产品组合_12.0sum\n",
      "产品组合_12.0mean\n",
      "产品组合_13.0sum\n",
      "产品组合_13.0mean\n",
      "产品组合_14.0sum\n",
      "产品组合_14.0mean\n",
      "产品组合_15.0sum\n",
      "产品组合_15.0mean\n",
      "产品组合_16.0sum\n",
      "产品组合_16.0mean\n",
      "产品组合_17.0sum\n",
      "产品组合_17.0mean\n",
      "申请时点_0sum\n",
      "申请时点_0mean\n",
      "申请时点_1sum\n",
      "申请时点_1mean\n",
      "申请时点_2sum\n",
      "申请时点_2mean\n",
      "申请时点_3sum\n",
      "申请时点_3mean\n",
      "申请时点_4sum\n",
      "申请时点_4mean\n",
      "申请时点_5sum\n",
      "申请时点_5mean\n",
      "申请时点_6sum\n",
      "申请时点_6mean\n",
      "申请时点_7sum\n",
      "申请时点_7mean\n",
      "申请时点_8sum\n",
      "申请时点_8mean\n",
      "申请时点_9sum\n",
      "申请时点_9mean\n",
      "申请时点_10sum\n",
      "申请时点_10mean\n",
      "申请时点_11sum\n",
      "申请时点_11mean\n",
      "申请周内日_0sum\n",
      "申请周内日_0mean\n",
      "申请周内日_1sum\n",
      "申请周内日_1mean\n",
      "申请周内日_3sum\n",
      "申请周内日_3mean\n",
      "申请周内日_4sum\n",
      "申请周内日_4mean\n",
      "申请周内日_5sum\n",
      "申请周内日_5mean\n",
      "申请周内日_6sum\n",
      "申请周内日_6mean\n",
      "申请周内日_7sum\n",
      "申请周内日_7mean\n",
      "历史申请编号count_y\n",
      "拟申请核准率\n",
      "贷款年金sum比\n",
      "申请额度sum比\n",
      "信用额度sum比\n",
      "信用比申请额度\n",
      "本期贷款金额mean\n",
      "本期贷款金额max\n",
      "本期贷款金额min\n",
      "本期还款金额mean\n",
      "本期还款金额max\n",
      "本期还款金额min\n",
      "分期付款应支付时间mean\n",
      "分期付款应支付时间max\n",
      "分期付款应支付时间min\n",
      "分期付款实际支付时间mean\n",
      "分期付款实际支付时间max\n",
      "分期付款实际支付时间min\n",
      "本期还款金额ms比贷款金额ssmean\n",
      "本期还款金额meansumsum\n",
      "本期贷款金额sumsumsum\n"
     ]
    }
   ],
   "source": [
    "'''All Done'''\n",
    "data_train.columns.to_list()"
   ]
  }
 ],
 "metadata": {
  "kernelspec": {
   "display_name": "Python 3",
   "language": "python",
   "name": "python3"
  },
  "language_info": {
   "codemirror_mode": {
    "name": "ipython",
    "version": 3
   },
   "file_extension": ".py",
   "mimetype": "text/x-python",
   "name": "python",
   "nbconvert_exporter": "python",
   "pygments_lexer": "ipython3",
   "version": "3.7.4"
  }
 },
 "nbformat": 4,
 "nbformat_minor": 2
}
