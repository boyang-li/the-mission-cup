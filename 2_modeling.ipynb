{
 "cells": [
  {
   "cell_type": "code",
   "execution_count": 1,
   "metadata": {},
   "outputs": [],
   "source": [
    "%config ZMQInteractiveShell.ast_node_interactivity='all'\n",
    "%matplotlib inline\n",
    "import warnings;warnings.filterwarnings('ignore')\n",
    "import numpy as np\n",
    "import pandas as pd\n",
    "import lightgbm as lgb\n",
    "from sklearn.preprocessing import LabelEncoder\n",
    "from sklearn import metrics\n",
    "import os\n",
    "import matplotlib.pyplot as plt"
   ]
  },
  {
   "cell_type": "code",
   "execution_count": 25,
   "metadata": {},
   "outputs": [],
   "source": [
    "target = '标签'\n",
    "uid = '申请编号'\n",
    "\n",
    "def calc_auc(y_test, y_proba):\n",
    "    auc = round(metrics.roc_auc_score(y_test, y_proba), 3)\n",
    "    return auc\n",
    "\n",
    "def calc_ks(y_test, y_proba):\n",
    "    s = pd.qcut(y_proba, 10, labels=False, duplicates='drop')\n",
    "    fpr, tpr, thresholds = metrics.roc_curve(y_test, s)\n",
    "    KS = round(max(abs(fpr-tpr)) * 100, 1) # 横坐标倒序\n",
    "    return KS\n",
    "\n",
    "def ks_score(y_test, y_proba):\n",
    "    scale = 4\n",
    "    fpr, tpr, thresholds = metrics.roc_curve(y_test, y_proba, pos_label=1)\n",
    "    KS = round(max(list(tpr-fpr)), scale)\n",
    "    return KS"
   ]
  },
  {
   "cell_type": "code",
   "execution_count": 3,
   "metadata": {},
   "outputs": [
    {
     "data": {
      "text/plain": [
       "(140000, 63)"
      ]
     },
     "execution_count": 3,
     "metadata": {},
     "output_type": "execute_result"
    },
    {
     "data": {
      "text/html": [
       "<div>\n",
       "<style scoped>\n",
       "    .dataframe tbody tr th:only-of-type {\n",
       "        vertical-align: middle;\n",
       "    }\n",
       "\n",
       "    .dataframe tbody tr th {\n",
       "        vertical-align: top;\n",
       "    }\n",
       "\n",
       "    .dataframe thead th {\n",
       "        text-align: right;\n",
       "    }\n",
       "</style>\n",
       "<table border=\"1\" class=\"dataframe\">\n",
       "  <thead>\n",
       "    <tr style=\"text-align: right;\">\n",
       "      <th></th>\n",
       "      <th>申请编号</th>\n",
       "      <th>标签</th>\n",
       "      <th>贷款类型</th>\n",
       "      <th>信用额度</th>\n",
       "      <th>贷款年金</th>\n",
       "      <th>商品价格</th>\n",
       "      <th>陪同申请人</th>\n",
       "      <th>出生日期距申请日期天数</th>\n",
       "      <th>工作日期距申请日期天数</th>\n",
       "      <th>注册日期距申请日期天数</th>\n",
       "      <th>...</th>\n",
       "      <th>地址是否一致标志3</th>\n",
       "      <th>地址是否一致标志4</th>\n",
       "      <th>地址是否一致标志5</th>\n",
       "      <th>地址是否一致标志6</th>\n",
       "      <th>单位类型</th>\n",
       "      <th>社交圈违约信息2_2</th>\n",
       "      <th>社交圈违约信息2_1</th>\n",
       "      <th>社交圈违约信息1_2</th>\n",
       "      <th>社交圈违约信息1_1</th>\n",
       "      <th>最近一次换手机号码距申请日天数</th>\n",
       "    </tr>\n",
       "  </thead>\n",
       "  <tbody>\n",
       "    <tr>\n",
       "      <th>0</th>\n",
       "      <td>0</td>\n",
       "      <td>1</td>\n",
       "      <td>0</td>\n",
       "      <td>460190.889355</td>\n",
       "      <td>17463.042019</td>\n",
       "      <td>419951.511045</td>\n",
       "      <td>7.0</td>\n",
       "      <td>-10107</td>\n",
       "      <td>-342</td>\n",
       "      <td>-5421</td>\n",
       "      <td>...</td>\n",
       "      <td>0</td>\n",
       "      <td>0</td>\n",
       "      <td>0</td>\n",
       "      <td>0</td>\n",
       "      <td>5</td>\n",
       "      <td>0.0</td>\n",
       "      <td>0.0</td>\n",
       "      <td>0.0</td>\n",
       "      <td>0.0</td>\n",
       "      <td>-887.0</td>\n",
       "    </tr>\n",
       "    <tr>\n",
       "      <th>1</th>\n",
       "      <td>1</td>\n",
       "      <td>0</td>\n",
       "      <td>0</td>\n",
       "      <td>424370.659603</td>\n",
       "      <td>15585.046388</td>\n",
       "      <td>384597.975692</td>\n",
       "      <td>7.0</td>\n",
       "      <td>-13980</td>\n",
       "      <td>-1110</td>\n",
       "      <td>-3387</td>\n",
       "      <td>...</td>\n",
       "      <td>0</td>\n",
       "      <td>0</td>\n",
       "      <td>0</td>\n",
       "      <td>1</td>\n",
       "      <td>5</td>\n",
       "      <td>0.0</td>\n",
       "      <td>0.0</td>\n",
       "      <td>0.0</td>\n",
       "      <td>0.0</td>\n",
       "      <td>-271.0</td>\n",
       "    </tr>\n",
       "    <tr>\n",
       "      <th>2</th>\n",
       "      <td>2</td>\n",
       "      <td>0</td>\n",
       "      <td>0</td>\n",
       "      <td>469330.587153</td>\n",
       "      <td>18837.558252</td>\n",
       "      <td>419951.511045</td>\n",
       "      <td>1.0</td>\n",
       "      <td>-13331</td>\n",
       "      <td>-2246</td>\n",
       "      <td>-3870</td>\n",
       "      <td>...</td>\n",
       "      <td>1</td>\n",
       "      <td>0</td>\n",
       "      <td>0</td>\n",
       "      <td>0</td>\n",
       "      <td>5</td>\n",
       "      <td>0.0</td>\n",
       "      <td>0.0</td>\n",
       "      <td>0.0</td>\n",
       "      <td>0.0</td>\n",
       "      <td>-332.0</td>\n",
       "    </tr>\n",
       "    <tr>\n",
       "      <th>3</th>\n",
       "      <td>3</td>\n",
       "      <td>0</td>\n",
       "      <td>0</td>\n",
       "      <td>464188.353140</td>\n",
       "      <td>16754.587069</td>\n",
       "      <td>409850.500944</td>\n",
       "      <td>7.0</td>\n",
       "      <td>-16540</td>\n",
       "      <td>292204</td>\n",
       "      <td>-970</td>\n",
       "      <td>...</td>\n",
       "      <td>0</td>\n",
       "      <td>0</td>\n",
       "      <td>0</td>\n",
       "      <td>0</td>\n",
       "      <td>57</td>\n",
       "      <td>1.0</td>\n",
       "      <td>0.0</td>\n",
       "      <td>1.0</td>\n",
       "      <td>0.0</td>\n",
       "      <td>-204.0</td>\n",
       "    </tr>\n",
       "    <tr>\n",
       "      <th>4</th>\n",
       "      <td>5</td>\n",
       "      <td>0</td>\n",
       "      <td>0</td>\n",
       "      <td>434196.988738</td>\n",
       "      <td>16165.009200</td>\n",
       "      <td>394698.985793</td>\n",
       "      <td>7.0</td>\n",
       "      <td>-17919</td>\n",
       "      <td>-11037</td>\n",
       "      <td>-9350</td>\n",
       "      <td>...</td>\n",
       "      <td>1</td>\n",
       "      <td>1</td>\n",
       "      <td>0</td>\n",
       "      <td>1</td>\n",
       "      <td>53</td>\n",
       "      <td>0.0</td>\n",
       "      <td>0.0</td>\n",
       "      <td>0.0</td>\n",
       "      <td>0.0</td>\n",
       "      <td>-1049.0</td>\n",
       "    </tr>\n",
       "  </tbody>\n",
       "</table>\n",
       "<p>5 rows × 63 columns</p>\n",
       "</div>"
      ],
      "text/plain": [
       "   申请编号  标签  贷款类型           信用额度          贷款年金           商品价格  陪同申请人  \\\n",
       "0     0   1     0  460190.889355  17463.042019  419951.511045    7.0   \n",
       "1     1   0     0  424370.659603  15585.046388  384597.975692    7.0   \n",
       "2     2   0     0  469330.587153  18837.558252  419951.511045    1.0   \n",
       "3     3   0     0  464188.353140  16754.587069  409850.500944    7.0   \n",
       "4     5   0     0  434196.988738  16165.009200  394698.985793    7.0   \n",
       "\n",
       "   出生日期距申请日期天数  工作日期距申请日期天数  注册日期距申请日期天数  ...  地址是否一致标志3  地址是否一致标志4  \\\n",
       "0       -10107         -342        -5421  ...          0          0   \n",
       "1       -13980        -1110        -3387  ...          0          0   \n",
       "2       -13331        -2246        -3870  ...          1          0   \n",
       "3       -16540       292204         -970  ...          0          0   \n",
       "4       -17919       -11037        -9350  ...          1          1   \n",
       "\n",
       "   地址是否一致标志5  地址是否一致标志6  单位类型  社交圈违约信息2_2  社交圈违约信息2_1  社交圈违约信息1_2  社交圈违约信息1_1  \\\n",
       "0          0          0     5         0.0         0.0         0.0         0.0   \n",
       "1          0          1     5         0.0         0.0         0.0         0.0   \n",
       "2          0          0     5         0.0         0.0         0.0         0.0   \n",
       "3          0          0    57         1.0         0.0         1.0         0.0   \n",
       "4          0          1    53         0.0         0.0         0.0         0.0   \n",
       "\n",
       "   最近一次换手机号码距申请日天数  \n",
       "0           -887.0  \n",
       "1           -271.0  \n",
       "2           -332.0  \n",
       "3           -204.0  \n",
       "4          -1049.0  \n",
       "\n",
       "[5 rows x 63 columns]"
      ]
     },
     "execution_count": 3,
     "metadata": {},
     "output_type": "execute_result"
    }
   ],
   "source": [
    "############## Load\n",
    "\n",
    "data_ori= pd.read_csv('./data/0_merge11.csv', header=0, index_col=0)\n",
    "data_ori.shape\n",
    "data_ori.head()"
   ]
  },
  {
   "cell_type": "code",
   "execution_count": 10,
   "metadata": {},
   "outputs": [
    {
     "data": {
      "text/plain": [
       "(140000, 62)"
      ]
     },
     "execution_count": 10,
     "metadata": {},
     "output_type": "execute_result"
    },
    {
     "data": {
      "text/plain": [
       "(98000, 61)"
      ]
     },
     "execution_count": 10,
     "metadata": {},
     "output_type": "execute_result"
    },
    {
     "data": {
      "text/plain": [
       "(42000, 61)"
      ]
     },
     "execution_count": 10,
     "metadata": {},
     "output_type": "execute_result"
    }
   ],
   "source": [
    "############## Train, Test\n",
    "\n",
    "from sklearn.model_selection import train_test_split\n",
    "\n",
    "data = data_ori.drop(uid, axis=1)\n",
    "data.shape\n",
    "\n",
    "X, X_test = train_test_split(data, test_size=0.3, random_state=123)\n",
    "y = X.pop(target)\n",
    "y_test = X_test.pop(target)\n",
    "\n",
    "X.shape\n",
    "X_test.shape"
   ]
  },
  {
   "cell_type": "code",
   "execution_count": 26,
   "metadata": {},
   "outputs": [
    {
     "name": "stdout",
     "output_type": "stream",
     "text": [
      "************************ Training ************************\n",
      "Training KS: 0.3941\n"
     ]
    },
    {
     "data": {
      "text/plain": [
       "<lightgbm.basic.Booster at 0x1a202c05f8>"
      ]
     },
     "execution_count": 26,
     "metadata": {},
     "output_type": "execute_result"
    }
   ],
   "source": [
    "############### LGB Training\n",
    "\n",
    "def train_lgb(X, y):\n",
    "    # Data input\n",
    "    train = lgb.Dataset(X, y)\n",
    "    params = {'num_leaves' : 2**5,\n",
    "              'feature_fraction' : 0.9,\n",
    "              'bagging_fraction' : 0.8,\n",
    "              'bagging_freq' : 5,\n",
    "              'random_state' : 123}\n",
    "    clf = lgb.train(params,\n",
    "                    train)\n",
    "    pred = clf.predict(X)\n",
    "    ks = ks_score(y, pred)\n",
    "    print(f'Training KS: {ks}')\n",
    "    return clf\n",
    "\n",
    "\n",
    "### Training \n",
    "print('************************ Training ************************')\n",
    "\n",
    "gbm = train_lgb(X, y)\n",
    "gbm.save_model(f'./model/1_model_lgb.txt')"
   ]
  },
  {
   "cell_type": "code",
   "execution_count": 27,
   "metadata": {},
   "outputs": [
    {
     "name": "stdout",
     "output_type": "stream",
     "text": [
      "************************ Test ************************\n",
      "* Test *\n",
      "Test KS: 0.3143\n"
     ]
    }
   ],
   "source": [
    "############### LGB Test\n",
    "\n",
    "def test_lgb(clf, X):\n",
    "    pred = clf.predict(X)\n",
    "    return pred\n",
    "    \n",
    "print('************************ Test ************************')\n",
    "\n",
    "# print('* Training *')\n",
    "# train['score_lgb'] = test_lgb(gbm, X)\n",
    "# auc = calc_auc(train, 'score_lgb', target)\n",
    "# ks = calc_ks(train, 'score_lgb', target)\n",
    "# print(f'AUC:{auc}\\tKS:{ks}')\n",
    "\n",
    "print('* Test *')\n",
    "X_test['score_lgb'] = test_lgb(gbm, X_test)\n",
    "ks = ks_score(y_test, X_test['score_lgb'])\n",
    "print(f'Test KS: {ks}')"
   ]
  }
 ],
 "metadata": {
  "kernelspec": {
   "display_name": "Python 3",
   "language": "python",
   "name": "python3"
  },
  "language_info": {
   "codemirror_mode": {
    "name": "ipython",
    "version": 3
   },
   "file_extension": ".py",
   "mimetype": "text/x-python",
   "name": "python",
   "nbconvert_exporter": "python",
   "pygments_lexer": "ipython3",
   "version": "3.7.3"
  }
 },
 "nbformat": 4,
 "nbformat_minor": 2
}
