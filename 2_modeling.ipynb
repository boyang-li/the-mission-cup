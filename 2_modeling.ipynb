{
 "cells": [
  {
   "cell_type": "code",
   "execution_count": 41,
   "metadata": {},
   "outputs": [],
   "source": [
    "%config ZMQInteractiveShell.ast_node_interactivity='all'\n",
    "%matplotlib inline\n",
    "import warnings;warnings.filterwarnings('ignore')\n",
    "import numpy as np\n",
    "import pandas as pd\n",
    "import lightgbm as lgb\n",
    "from sklearn.preprocessing import LabelEncoder\n",
    "from sklearn import metrics\n",
    "import os\n",
    "import matplotlib.pyplot as plt"
   ]
  },
  {
   "cell_type": "code",
   "execution_count": 72,
   "metadata": {},
   "outputs": [],
   "source": [
    "target = '标签'\n",
    "uid = '申请编号'\n",
    "columns = {}\n",
    "columns['no_fea'] = [uid, target, '申请时点']\n",
    "columns['01'] = [\n",
    "    '贷款类型',\n",
    "    '是否提供手机号',\n",
    "    '是否提供电话',\n",
    "    '手机号是否有效',\n",
    "    '是否提供email',\n",
    "    '申请人是否额外提供了文件2',\n",
    "    '申请人是否额外提供了文件3',\n",
    "    '申请人是否额外提供了文件4',\n",
    "    '申请人是否额外提供了文件5',\n",
    "    '申请人是否额外提供了文件6',\n",
    "    '申请人是否额外提供了文件7',\n",
    "    '申请人是否额外提供了文件8',\n",
    "    '申请人是否额外提供了文件9',\n",
    "    '是否有车',\n",
    "    '是否有房',\n",
    "    '地址是否一致标志1',\n",
    "    '地址是否一致标志2',\n",
    "    '地址是否一致标志3',\n",
    "    '地址是否一致标志4',\n",
    "    '地址是否一致标志5',\n",
    "    '地址是否一致标志6']\n",
    "columns['time'] = [\n",
    "    '申请周内日',\n",
    "    '申请时点',\n",
    "    '出生日期距申请日期天数']\n",
    "columns['_dt'] = [\n",
    "    '最近一次换手机号码距申请日天数',\n",
    "    '出生日期距申请日期天数',\n",
    "    '工作日期距申请日期天数',\n",
    "    '注册日期距申请日期天数',\n",
    "    '身份认证日期距申请日期天数']\n",
    "columns['money'] = [\n",
    "    '贷款年金',\n",
    "    '客户收入',\n",
    "    '商品价格',\n",
    "    '信用额度']"
   ]
  },
  {
   "cell_type": "code",
   "execution_count": 67,
   "metadata": {},
   "outputs": [],
   "source": [
    "target = '标签'\n",
    "uid = '申请编号'\n",
    "\n",
    "def calc_auc(y_test, y_proba):\n",
    "    auc = round(metrics.roc_auc_score(y_test, y_proba), 3)\n",
    "    return auc\n",
    "\n",
    "def calc_ks(y_test, y_proba):\n",
    "    s = pd.qcut(y_proba, 10, labels=False, duplicates='drop')\n",
    "    fpr, tpr, thresholds = metrics.roc_curve(y_test, s)\n",
    "    KS = round(max(abs(fpr-tpr)) * 100, 1) # 横坐标倒序\n",
    "    return KS\n",
    "\n",
    "def ks_score(y_test, y_proba):\n",
    "    scale = 4\n",
    "    fpr, tpr, thresholds = metrics.roc_curve(y_test, y_proba, pos_label=1)\n",
    "    KS = round(max(list(tpr-fpr)), scale)\n",
    "    return KS"
   ]
  },
  {
   "cell_type": "code",
   "execution_count": 96,
   "metadata": {},
   "outputs": [
    {
     "data": {
      "text/plain": [
       "(140000, 168)"
      ]
     },
     "execution_count": 96,
     "metadata": {},
     "output_type": "execute_result"
    },
    {
     "data": {
      "text/html": [
       "<div>\n",
       "<style scoped>\n",
       "    .dataframe tbody tr th:only-of-type {\n",
       "        vertical-align: middle;\n",
       "    }\n",
       "\n",
       "    .dataframe tbody tr th {\n",
       "        vertical-align: top;\n",
       "    }\n",
       "\n",
       "    .dataframe thead th {\n",
       "        text-align: right;\n",
       "    }\n",
       "</style>\n",
       "<table border=\"1\" class=\"dataframe\">\n",
       "  <thead>\n",
       "    <tr style=\"text-align: right;\">\n",
       "      <th></th>\n",
       "      <th>申请编号</th>\n",
       "      <th>标签</th>\n",
       "      <th>贷款类型</th>\n",
       "      <th>信用额度</th>\n",
       "      <th>贷款年金</th>\n",
       "      <th>商品价格</th>\n",
       "      <th>陪同申请人</th>\n",
       "      <th>出生日期距申请日期天数</th>\n",
       "      <th>工作日期距申请日期天数</th>\n",
       "      <th>注册日期距申请日期天数</th>\n",
       "      <th>...</th>\n",
       "      <th>是否提供手机号^2</th>\n",
       "      <th>是否提供手机号 地址是否一致标志2</th>\n",
       "      <th>是否提供手机号 注册日期距申请日期天数</th>\n",
       "      <th>是否提供手机号 有车时间</th>\n",
       "      <th>地址是否一致标志2^2</th>\n",
       "      <th>地址是否一致标志2 注册日期距申请日期天数</th>\n",
       "      <th>地址是否一致标志2 有车时间</th>\n",
       "      <th>注册日期距申请日期天数^2</th>\n",
       "      <th>注册日期距申请日期天数 有车时间</th>\n",
       "      <th>有车时间^2</th>\n",
       "    </tr>\n",
       "  </thead>\n",
       "  <tbody>\n",
       "    <tr>\n",
       "      <th>0</th>\n",
       "      <td>0</td>\n",
       "      <td>1</td>\n",
       "      <td>0</td>\n",
       "      <td>460190.889355</td>\n",
       "      <td>17463.042019</td>\n",
       "      <td>419951.511045</td>\n",
       "      <td>7.0</td>\n",
       "      <td>-10107.0</td>\n",
       "      <td>-342.0</td>\n",
       "      <td>-5421.0</td>\n",
       "      <td>...</td>\n",
       "      <td>1.0</td>\n",
       "      <td>0.0</td>\n",
       "      <td>-5421.0</td>\n",
       "      <td>4.0</td>\n",
       "      <td>0.0</td>\n",
       "      <td>-0.0</td>\n",
       "      <td>0.0</td>\n",
       "      <td>29387241.0</td>\n",
       "      <td>-21684.0</td>\n",
       "      <td>16.0</td>\n",
       "    </tr>\n",
       "    <tr>\n",
       "      <th>1</th>\n",
       "      <td>1</td>\n",
       "      <td>0</td>\n",
       "      <td>0</td>\n",
       "      <td>424370.659603</td>\n",
       "      <td>15585.046388</td>\n",
       "      <td>384597.975692</td>\n",
       "      <td>7.0</td>\n",
       "      <td>-13980.0</td>\n",
       "      <td>-1110.0</td>\n",
       "      <td>-3387.0</td>\n",
       "      <td>...</td>\n",
       "      <td>1.0</td>\n",
       "      <td>1.0</td>\n",
       "      <td>-3387.0</td>\n",
       "      <td>4.0</td>\n",
       "      <td>1.0</td>\n",
       "      <td>-3387.0</td>\n",
       "      <td>4.0</td>\n",
       "      <td>11471769.0</td>\n",
       "      <td>-13548.0</td>\n",
       "      <td>16.0</td>\n",
       "    </tr>\n",
       "    <tr>\n",
       "      <th>2</th>\n",
       "      <td>2</td>\n",
       "      <td>0</td>\n",
       "      <td>0</td>\n",
       "      <td>469330.587153</td>\n",
       "      <td>18837.558252</td>\n",
       "      <td>419951.511045</td>\n",
       "      <td>1.0</td>\n",
       "      <td>-13331.0</td>\n",
       "      <td>-2246.0</td>\n",
       "      <td>-3870.0</td>\n",
       "      <td>...</td>\n",
       "      <td>1.0</td>\n",
       "      <td>0.0</td>\n",
       "      <td>-3870.0</td>\n",
       "      <td>1.0</td>\n",
       "      <td>0.0</td>\n",
       "      <td>-0.0</td>\n",
       "      <td>0.0</td>\n",
       "      <td>14976900.0</td>\n",
       "      <td>-3870.0</td>\n",
       "      <td>1.0</td>\n",
       "    </tr>\n",
       "    <tr>\n",
       "      <th>3</th>\n",
       "      <td>3</td>\n",
       "      <td>0</td>\n",
       "      <td>0</td>\n",
       "      <td>464188.353140</td>\n",
       "      <td>16754.587069</td>\n",
       "      <td>409850.500944</td>\n",
       "      <td>7.0</td>\n",
       "      <td>-16540.0</td>\n",
       "      <td>NaN</td>\n",
       "      <td>-970.0</td>\n",
       "      <td>...</td>\n",
       "      <td>0.0</td>\n",
       "      <td>0.0</td>\n",
       "      <td>-0.0</td>\n",
       "      <td>0.0</td>\n",
       "      <td>0.0</td>\n",
       "      <td>-0.0</td>\n",
       "      <td>0.0</td>\n",
       "      <td>940900.0</td>\n",
       "      <td>-3880.0</td>\n",
       "      <td>16.0</td>\n",
       "    </tr>\n",
       "    <tr>\n",
       "      <th>4</th>\n",
       "      <td>5</td>\n",
       "      <td>0</td>\n",
       "      <td>0</td>\n",
       "      <td>434196.988738</td>\n",
       "      <td>16165.009200</td>\n",
       "      <td>394698.985793</td>\n",
       "      <td>7.0</td>\n",
       "      <td>-17919.0</td>\n",
       "      <td>-11037.0</td>\n",
       "      <td>-9350.0</td>\n",
       "      <td>...</td>\n",
       "      <td>1.0</td>\n",
       "      <td>0.0</td>\n",
       "      <td>-9350.0</td>\n",
       "      <td>4.0</td>\n",
       "      <td>0.0</td>\n",
       "      <td>-0.0</td>\n",
       "      <td>0.0</td>\n",
       "      <td>87422500.0</td>\n",
       "      <td>-37400.0</td>\n",
       "      <td>16.0</td>\n",
       "    </tr>\n",
       "  </tbody>\n",
       "</table>\n",
       "<p>5 rows × 168 columns</p>\n",
       "</div>"
      ],
      "text/plain": [
       "   申请编号  标签  贷款类型           信用额度          贷款年金           商品价格  陪同申请人  \\\n",
       "0     0   1     0  460190.889355  17463.042019  419951.511045    7.0   \n",
       "1     1   0     0  424370.659603  15585.046388  384597.975692    7.0   \n",
       "2     2   0     0  469330.587153  18837.558252  419951.511045    1.0   \n",
       "3     3   0     0  464188.353140  16754.587069  409850.500944    7.0   \n",
       "4     5   0     0  434196.988738  16165.009200  394698.985793    7.0   \n",
       "\n",
       "   出生日期距申请日期天数  工作日期距申请日期天数  注册日期距申请日期天数  ...  是否提供手机号^2  是否提供手机号 地址是否一致标志2  \\\n",
       "0     -10107.0       -342.0      -5421.0  ...        1.0                0.0   \n",
       "1     -13980.0      -1110.0      -3387.0  ...        1.0                1.0   \n",
       "2     -13331.0      -2246.0      -3870.0  ...        1.0                0.0   \n",
       "3     -16540.0          NaN       -970.0  ...        0.0                0.0   \n",
       "4     -17919.0     -11037.0      -9350.0  ...        1.0                0.0   \n",
       "\n",
       "   是否提供手机号 注册日期距申请日期天数  是否提供手机号 有车时间  地址是否一致标志2^2  地址是否一致标志2 注册日期距申请日期天数  \\\n",
       "0              -5421.0           4.0          0.0                   -0.0   \n",
       "1              -3387.0           4.0          1.0                -3387.0   \n",
       "2              -3870.0           1.0          0.0                   -0.0   \n",
       "3                 -0.0           0.0          0.0                   -0.0   \n",
       "4              -9350.0           4.0          0.0                   -0.0   \n",
       "\n",
       "   地址是否一致标志2 有车时间  注册日期距申请日期天数^2  注册日期距申请日期天数 有车时间  有车时间^2  \n",
       "0             0.0     29387241.0          -21684.0    16.0  \n",
       "1             4.0     11471769.0          -13548.0    16.0  \n",
       "2             0.0     14976900.0           -3870.0     1.0  \n",
       "3             0.0       940900.0           -3880.0    16.0  \n",
       "4             0.0     87422500.0          -37400.0    16.0  \n",
       "\n",
       "[5 rows x 168 columns]"
      ]
     },
     "execution_count": 96,
     "metadata": {},
     "output_type": "execute_result"
    },
    {
     "data": {
      "text/plain": [
       "' Ori '"
      ]
     },
     "execution_count": 96,
     "metadata": {},
     "output_type": "execute_result"
    },
    {
     "data": {
      "text/plain": [
       "(140000, 167)"
      ]
     },
     "execution_count": 96,
     "metadata": {},
     "output_type": "execute_result"
    }
   ],
   "source": [
    "############## Load\n",
    "\n",
    "# data_ori= pd.read_csv('./data/0_merge11.csv', header=0, index_col=0)\n",
    "data_ori= pd.read_csv('./tmp/3_poly.csv', header=0, index_col=0)\n",
    "data_ori.shape\n",
    "data_ori.head()\n",
    "\n",
    "# Drop uid\n",
    "data = data_ori.drop(uid, axis=1)\n",
    "''' Ori '''\n",
    "data.shape"
   ]
  },
  {
   "cell_type": "code",
   "execution_count": 97,
   "metadata": {},
   "outputs": [
    {
     "data": {
      "text/plain": [
       "' Training, Test '"
      ]
     },
     "execution_count": 97,
     "metadata": {},
     "output_type": "execute_result"
    },
    {
     "data": {
      "text/plain": [
       "(98000, 166)"
      ]
     },
     "execution_count": 97,
     "metadata": {},
     "output_type": "execute_result"
    },
    {
     "data": {
      "text/plain": [
       "(42000, 166)"
      ]
     },
     "execution_count": 97,
     "metadata": {},
     "output_type": "execute_result"
    }
   ],
   "source": [
    "############## Train, Test\n",
    "\n",
    "from sklearn.model_selection import train_test_split\n",
    "\n",
    "# Split\n",
    "X, X_test = train_test_split(data, test_size=0.3, random_state=123)\n",
    "y = X.pop(target)\n",
    "y_test = X_test.pop(target)\n",
    "\n",
    "''' Training, Test '''\n",
    "X.shape\n",
    "X_test.shape"
   ]
  },
  {
   "cell_type": "code",
   "execution_count": 98,
   "metadata": {},
   "outputs": [],
   "source": [
    "# ### Sample Balance\n",
    "#\n",
    "# data_ori = data_ori.drop(uid, axis=1)\n",
    "# ''' Ori '''\n",
    "# data_ori.shape\n",
    "# \n",
    "# data1 = data.loc[data[target]==1, :]\n",
    "# data0 = data.loc[data[target]==0, :]\n",
    "# frac = len(data1) / len(data0)\n",
    "# data0 = data0.sample(frac=frac, random_state=123)\n",
    "# data = pd.concat([data1, data0], axis=0)\n",
    "# ''' Balance '''\n",
    "# data[target].value_counts()\n",
    "\n",
    "# # Fill Null\n",
    "# data = data[data.columns.difference(columns['_dt'] + columns['money'])]\n",
    "# data.fillna(-1, inplace=True)"
   ]
  },
  {
   "cell_type": "code",
   "execution_count": 99,
   "metadata": {},
   "outputs": [
    {
     "name": "stdout",
     "output_type": "stream",
     "text": [
      "************************ Training ************************\n",
      "Training KS: 0.4052\n"
     ]
    },
    {
     "data": {
      "text/plain": [
       "<lightgbm.basic.Booster at 0x1a2065e240>"
      ]
     },
     "execution_count": 99,
     "metadata": {},
     "output_type": "execute_result"
    },
    {
     "name": "stdout",
     "output_type": "stream",
     "text": [
      "************************ Test ************************\n",
      "Test KS: 0.3083\n"
     ]
    }
   ],
   "source": [
    "############### LGB Training\n",
    "\n",
    "def train_lgb(X, y):\n",
    "    # Data input\n",
    "    train = lgb.Dataset(X, y)\n",
    "    params = {'num_leaves' : 2**5,\n",
    "              'feature_fraction' : 0.9,\n",
    "              'bagging_fraction' : 0.8,\n",
    "              'bagging_freq' : 5,\n",
    "              'random_state' : 123,\n",
    "              'is_unbalance' : True}\n",
    "    clf = lgb.train(params,\n",
    "                    train)\n",
    "    pred = clf.predict(X)\n",
    "    ks = ks_score(y, pred)\n",
    "    print(f'Training KS: {ks}')\n",
    "    return clf\n",
    "\n",
    "def test_lgb(clf, X):\n",
    "    pred = clf.predict(X)\n",
    "    return pred\n",
    "\n",
    "\n",
    "### Training \n",
    "print('************************ Training ************************')\n",
    "\n",
    "gbm = train_lgb(X, y)\n",
    "gbm.save_model(f'./model/1_model_lgb.txt')\n",
    "\n",
    "print('************************ Test ************************')\n",
    "\n",
    "# print('* Training *')\n",
    "# train['score_lgb'] = test_lgb(gbm, X)\n",
    "# auc = calc_auc(train, 'score_lgb', target)\n",
    "# ks = calc_ks(train, 'score_lgb', target)\n",
    "# print(f'AUC:{auc}\\tKS:{ks}')\n",
    "\n",
    "X_test['score_lgb'] = test_lgb(gbm, X_test)\n",
    "ks = ks_score(y_test, X_test['score_lgb'])\n",
    "print(f'Test KS: {ks}')"
   ]
  }
 ],
 "metadata": {
  "kernelspec": {
   "display_name": "Python 3",
   "language": "python",
   "name": "python3"
  },
  "language_info": {
   "codemirror_mode": {
    "name": "ipython",
    "version": 3
   },
   "file_extension": ".py",
   "mimetype": "text/x-python",
   "name": "python",
   "nbconvert_exporter": "python",
   "pygments_lexer": "ipython3",
   "version": "3.7.3"
  }
 },
 "nbformat": 4,
 "nbformat_minor": 2
}
