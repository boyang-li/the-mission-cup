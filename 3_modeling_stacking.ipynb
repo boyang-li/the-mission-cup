{
 "cells": [
  {
   "cell_type": "code",
   "execution_count": 2,
   "metadata": {},
   "outputs": [
    {
     "name": "stderr",
     "output_type": "stream",
     "text": [
      "/Users/Meng/opt/anaconda3/lib/python3.7/site-packages/sklearn/externals/joblib/__init__.py:15: DeprecationWarning: sklearn.externals.joblib is deprecated in 0.21 and will be removed in 0.23. Please import this functionality directly from joblib, which can be installed with: pip install joblib. If this warning is raised when loading pickled models, you may need to re-serialize those models with scikit-learn 0.21+.\n",
      "  warnings.warn(msg, category=DeprecationWarning)\n"
     ]
    }
   ],
   "source": [
    "%config ZMQInteractiveShell.ast_node_interactivity='all'\n",
    "%matplotlib inline\n",
    "import warnings;warnings.filterwarnings('ignore')\n",
    "import os\n",
    "import numpy as np\n",
    "import pandas as pd\n",
    "import matplotlib.pyplot as plt\n",
    "\n",
    "from sklearn import metrics\n",
    "from sklearn.base import BaseEstimator, ClassifierMixin, TransformerMixin, clone\n",
    "from sklearn.preprocessing import Imputer, LabelEncoder\n",
    "from sklearn.model_selection import KFold, StratifiedKFold, RandomizedSearchCV\n",
    "from sklearn.externals import joblib\n",
    "\n",
    "from sklearn.ensemble import RandomForestClassifier\n",
    "from sklearn.linear_model import LogisticRegressionCV\n",
    "from xgboost import XGBClassifier\n",
    "from lightgbm import LGBMClassifier"
   ]
  },
  {
   "cell_type": "code",
   "execution_count": 3,
   "metadata": {},
   "outputs": [],
   "source": [
    "target = '标签'\n",
    "uid = '申请编号'\n",
    "\n",
    "def calc_auc(y_test, y_proba):\n",
    "    auc = round(metrics.roc_auc_score(y_test, y_proba), 3)\n",
    "    return auc\n",
    "\n",
    "def ks_score(y_test, y_proba):\n",
    "    scale = 4\n",
    "    fpr, tpr, thresholds = metrics.roc_curve(y_test, y_proba, pos_label=1)\n",
    "    KS = round(max(list(tpr-fpr)), scale)\n",
    "    return KS"
   ]
  },
  {
   "cell_type": "code",
   "execution_count": 4,
   "metadata": {},
   "outputs": [
    {
     "data": {
      "text/plain": [
       "140000"
      ]
     },
     "execution_count": 4,
     "metadata": {},
     "output_type": "execute_result"
    },
    {
     "data": {
      "text/plain": [
       "390"
      ]
     },
     "execution_count": 4,
     "metadata": {},
     "output_type": "execute_result"
    },
    {
     "data": {
      "text/plain": [
       "140000"
      ]
     },
     "execution_count": 4,
     "metadata": {},
     "output_type": "execute_result"
    }
   ],
   "source": [
    "############## Load\n",
    "\n",
    "X = pd.read_csv('./tmp/train_d12_d3_dum.csv', header=0, index_col=0).drop(uid, axis=1).values\n",
    "# X = pd.read_csv('./tmp/1_X.csv', header=0, index_col=0).values\n",
    "len(X)\n",
    "len(X[0])\n",
    "\n",
    "y = pd.read_csv('./tmp/1_y.csv', header=0, index_col=0)['0'].values\n",
    "len(y)"
   ]
  },
  {
   "cell_type": "code",
   "execution_count": 19,
   "metadata": {},
   "outputs": [],
   "source": [
    "# For kfold\n",
    "n_folds = 2\n",
    "\n",
    "# RF\n",
    "param_fixed_rf = {\n",
    "    'n_jobs' : -1,\n",
    "    'oob_score' : True,\n",
    "    'random_state':123,\n",
    "    'verbose':0\n",
    "}\n",
    "\n",
    "# XGB\n",
    "param_fixed_xgb = {\n",
    "    'n_jobs' : -1,\n",
    "    'eval_metric': 'auc',\n",
    "    'seed' : 123,\n",
    "    'silent' : 1,\n",
    "    'verbose_eval':0\n",
    "}\n",
    "\n",
    "# LGB\n",
    "param_fixed_lgb = {\n",
    "    'n_jobs' : -1,\n",
    "    'metric' : 'auc',\n",
    "    'bagging_seed':123,\n",
    "    'feature_fraction_seed':123,\n",
    "    'verbose_eval' : 0\n",
    "}\n",
    "\n",
    "# LR\n",
    "param_fixed_lr = {\n",
    "#     'cv' : cv,  # LRCV\n",
    "    'solver' : 'sag',\n",
    "    'n_jobs' : -1,\n",
    "    'random_state' : 123,\n",
    "    'verbose' : 0     \n",
    "}"
   ]
  },
  {
   "cell_type": "code",
   "execution_count": null,
   "metadata": {},
   "outputs": [
    {
     "name": "stdout",
     "output_type": "stream",
     "text": [
      "*** Base Model: <class 'lightgbm.sklearn.LGBMClassifier'> ***\n",
      "* KS(0):0.3336 *\n"
     ]
    }
   ],
   "source": [
    "class StackingModels (BaseEstimator, ClassifierMixin, TransformerMixin):\n",
    "    def __init__(self, base_models, meta_model, n_folds = n_folds):\n",
    "        self.base_models = base_models\n",
    "        self.meta_model = meta_model\n",
    "        self.n_folds = n_folds\n",
    "        self.meta_X = []\n",
    "\n",
    "    def fit(self, X, y):\n",
    "        self.base_models_ = [list() for x in self.base_models]\n",
    "        kfold = KFold(n_splits=self.n_folds, shuffle=True, random_state=123)\n",
    "        \n",
    "        # Get results of basic models\n",
    "        out_of_fold_predictions = np.zeros((X.shape[0], len(self.base_models)))\n",
    "        for i, model in enumerate(self.base_models):\n",
    "            print(f'*** Base Model: {model.__class__} ***')\n",
    "            j = 0\n",
    "            for train_index, valid_index in kfold.split(X, y):\n",
    "                instance = clone(model)\n",
    "                self.base_models_[i].append(instance)\n",
    "                instance.fit(X[train_index],  y[train_index])\n",
    "                y_pred = instance.predict_proba(X[valid_index])[:,1]\n",
    "#                     y_pred = instance.predict(X[valid_index])\n",
    "                ks = ks_score(y[valid_index], y_pred)\n",
    "                print(f'* KS({j}):{ks} *')\n",
    "                out_of_fold_predictions[valid_index, i] = y_pred\n",
    "                j += 1\n",
    "\n",
    "        # META\n",
    "        self.meta_X = out_of_fold_predictions\n",
    "        self.meta_model_ = clone(self.meta_model)\n",
    "        self.meta_model_.fit(out_of_fold_predictions, y)\n",
    "        return self\n",
    "\n",
    "    # 从得到的新的特征  采用新的模型进行预测  并输出结果\n",
    "    def predict(self, X, if_meta=True):\n",
    "        meta_features = np.column_stack ([\n",
    "            np.column_stack(\n",
    "#                 [model.predict(X) for model in base_models]\n",
    "                [model.predict_proba(X)[:,1] for model in base_models]\n",
    "            ).mean(axis=1)\n",
    "            for base_models in self.base_models_\n",
    "        ])\n",
    "        if if_meta:\n",
    "            pred = self.meta_model_.predict_proba(meta_features)[:,1]\n",
    "        else:\n",
    "            pred = meta_features.mean(axis=1)\n",
    "        return pred\n",
    "\n",
    "############ Stacking\n",
    "\n",
    "# RF = RandomForestClassifier()\n",
    "# XGB = XGBClassifier()\n",
    "# LGB = LGBMClassifier()\n",
    "# LR = LogisticRegression()\n",
    "\n",
    "# RF\n",
    "best_params_load = np.load('./model/base_rf.npy', allow_pickle=True).item()\n",
    "model_params = {**best_params_load, **param_fixed_rf}\n",
    "RF = RandomForestClassifier(**model_params)\n",
    "# XGB\n",
    "best_params_load = np.load('./model/base_xgb.npy', allow_pickle=True).item()\n",
    "model_params = {**best_params_load, **param_fixed_xgb}\n",
    "XGB = XGBClassifier(**model_params)\n",
    "# LGB\n",
    "best_params_load = np.load('./model/base_lgb.npy', allow_pickle=True).item()\n",
    "model_params = {**best_params_load, **param_fixed_lgb}\n",
    "LGB = LGBMClassifier(**model_params)\n",
    "# LR\n",
    "best_params_load = np.load('./model/base_lr.npy', allow_pickle=True).item()\n",
    "model_params = {**best_params_load, **param_fixed_lr}\n",
    "LR = LogisticRegression(**model_params)\n",
    "# Mean\n",
    "MEAN = 'MEAN'\n",
    "\n",
    "### Stacking\n",
    "CLF = StackingModels(base_models=[LGB, RF, XGB], meta_model=LR)\n",
    "\n",
    "# Fit\n",
    "CLF.fit(X, y)\n",
    "\n",
    "# Predict\n",
    "pred = CLF.predict(X, if_meta=False)\n",
    "ks_score(y, pred)\n",
    "\n",
    "# # Save meta_X\n",
    "# meta_X = pd.DataFrame(CLF.meta_X, columns=['lgb', 'rf', 'xgb'])\n",
    "# meta_X.shape\n",
    "# meta_X.head()\n",
    "# meta_X.to_csv('./model/x_meta.csv')"
   ]
  },
  {
   "cell_type": "code",
   "execution_count": 22,
   "metadata": {},
   "outputs": [
    {
     "data": {
      "text/plain": [
       "21511"
      ]
     },
     "execution_count": 22,
     "metadata": {},
     "output_type": "execute_result"
    },
    {
     "data": {
      "text/plain": [
       "390"
      ]
     },
     "execution_count": 22,
     "metadata": {},
     "output_type": "execute_result"
    },
    {
     "data": {
      "text/html": [
       "<div>\n",
       "<style scoped>\n",
       "    .dataframe tbody tr th:only-of-type {\n",
       "        vertical-align: middle;\n",
       "    }\n",
       "\n",
       "    .dataframe tbody tr th {\n",
       "        vertical-align: top;\n",
       "    }\n",
       "\n",
       "    .dataframe thead th {\n",
       "        text-align: right;\n",
       "    }\n",
       "</style>\n",
       "<table border=\"1\" class=\"dataframe\">\n",
       "  <thead>\n",
       "    <tr style=\"text-align: right;\">\n",
       "      <th></th>\n",
       "      <th>申请编号</th>\n",
       "      <th>0</th>\n",
       "    </tr>\n",
       "  </thead>\n",
       "  <tbody>\n",
       "    <tr>\n",
       "      <td>0</td>\n",
       "      <td>122687</td>\n",
       "      <td>0.074004</td>\n",
       "    </tr>\n",
       "    <tr>\n",
       "      <td>1</td>\n",
       "      <td>32425</td>\n",
       "      <td>0.070484</td>\n",
       "    </tr>\n",
       "    <tr>\n",
       "      <td>2</td>\n",
       "      <td>2024</td>\n",
       "      <td>0.163971</td>\n",
       "    </tr>\n",
       "    <tr>\n",
       "      <td>3</td>\n",
       "      <td>25019</td>\n",
       "      <td>0.203157</td>\n",
       "    </tr>\n",
       "    <tr>\n",
       "      <td>4</td>\n",
       "      <td>162532</td>\n",
       "      <td>0.088576</td>\n",
       "    </tr>\n",
       "  </tbody>\n",
       "</table>\n",
       "</div>"
      ],
      "text/plain": [
       "     申请编号         0\n",
       "0  122687  0.074004\n",
       "1   32425  0.070484\n",
       "2    2024  0.163971\n",
       "3   25019  0.203157\n",
       "4  162532  0.088576"
      ]
     },
     "execution_count": 22,
     "metadata": {},
     "output_type": "execute_result"
    }
   ],
   "source": [
    "############## Test\n",
    "\n",
    "def norm_score(score):\n",
    "    if score < 0:\n",
    "        score = 0\n",
    "    elif score > 1:\n",
    "        score = 1\n",
    "    return score\n",
    "\n",
    "test = pd.read_csv('./tmp/A_d12_d3_dum.csv', header=0, index_col=0)\n",
    "X_test = test.drop(uid, axis=1).values\n",
    "# X = pd.read_csv('./tmp/1_X.csv', header=0, index_col=0).values\n",
    "len(X_test)\n",
    "len(X_test[0])\n",
    "\n",
    "# Predict\n",
    "scores = CLF.predict(X_test)\n",
    "\n",
    "# Output\n",
    "uids = test[uid]\n",
    "out = pd.concat([uids, pd.Series(scores)], axis=1)\n",
    "out[0] = out[0].apply(norm_score)\n",
    "out.head()\n",
    "out.to_csv('./model/predict.csv', header=False, index=False)"
   ]
  },
  {
   "cell_type": "code",
   "execution_count": null,
   "metadata": {},
   "outputs": [],
   "source": [
    "############## Ana\n",
    "\n",
    "base_models = [LGB, RF, LR, XGB]\n",
    "base_models_ = [list() for x in base_models]\n",
    "kfold = KFold(n_splits=2, shuffle=True, random_state=123)\n",
    "\n",
    "out_of_fold_predictions = np.zeros((X.shape[0], len(base_models)))\n",
    "for i, model in enumerate(base_models):\n",
    "    j = 0\n",
    "    for train_index, valid_index in kfold.split(X, y):\n",
    "        instance = clone(model)\n",
    "        base_models_[i].append(instance)\n",
    "        instance.fit(X[train_index],  y[train_index])\n",
    "        len(X[train_index])\n",
    "#         y_pred = instance.predict(X[valid_index])\n",
    "        y_pred = instance.predict_proba(X[valid_index])[:,1]\n",
    "        ks = ks_score(y[valid_index], y_pred)\n",
    "        print(f'* KS({j}):{ks} *')\n",
    "        out_of_fold_predictions[valid_index, i] = y_pred\n",
    "        j += 1"
   ]
  },
  {
   "cell_type": "code",
   "execution_count": null,
   "metadata": {},
   "outputs": [],
   "source": [
    "len(out_of_fold_predictions)\n",
    "len(out_of_fold_predictions[0])\n",
    "out_of_fold_predictions[0]"
   ]
  },
  {
   "cell_type": "code",
   "execution_count": null,
   "metadata": {},
   "outputs": [],
   "source": [
    "meta_model = LR\n",
    "meta_model_ = clone(meta_model)\n",
    "\n",
    "meta_model_.fit(out_of_fold_predictions, y)\n",
    "y_pred = meta_model_.predict_proba(out_of_fold_predictions)[:,1]\n",
    "ks_score(y, y_pred)"
   ]
  },
  {
   "cell_type": "code",
   "execution_count": null,
   "metadata": {},
   "outputs": [],
   "source": [
    "meta_features = np.column_stack ([\n",
    "    np.column_stack(\n",
    "        [model.predict_proba(X)[:,1] for model in base_models]\n",
    "    ).mean (axis=1)\n",
    "    for base_models in base_models_])"
   ]
  },
  {
   "cell_type": "code",
   "execution_count": null,
   "metadata": {},
   "outputs": [],
   "source": [
    "len(meta_features)\n",
    "len(meta_features[0])"
   ]
  },
  {
   "cell_type": "code",
   "execution_count": null,
   "metadata": {},
   "outputs": [],
   "source": [
    "''' RF '''\n",
    "RF.fit(meta_features, y)\n",
    "ks_score(y, RF.predict_proba(meta_features)[:,1])\n",
    "\n",
    "''' RF1 '''\n",
    "RF1 = RandomForestClassifier()\n",
    "RF1.fit(meta_features, y)\n",
    "ks_score(y, RF1.predict_proba(meta_features)[:,1])\n",
    "\n",
    "''' LGB '''\n",
    "LGB.fit(meta_features, y)\n",
    "ks_score(y, LGB.predict_proba(meta_features)[:,1])\n",
    "\n",
    "''' LR '''\n",
    "LR.fit(meta_features, y)\n",
    "ks_score(y, LR.predict_proba(meta_features)[:,1])\n",
    "\n",
    "''' MEAN '''\n",
    "# LR.fit(meta_features, y)\n",
    "ks_score(y, meta_features.mean(axis=1))"
   ]
  }
 ],
 "metadata": {
  "kernelspec": {
   "display_name": "Python 3",
   "language": "python",
   "name": "python3"
  },
  "language_info": {
   "codemirror_mode": {
    "name": "ipython",
    "version": 3
   },
   "file_extension": ".py",
   "mimetype": "text/x-python",
   "name": "python",
   "nbconvert_exporter": "python",
   "pygments_lexer": "ipython3",
   "version": "3.7.4"
  }
 },
 "nbformat": 4,
 "nbformat_minor": 2
}
