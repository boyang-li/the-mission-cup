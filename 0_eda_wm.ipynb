{
 "cells": [
  {
   "cell_type": "code",
   "execution_count": 5,
   "metadata": {},
   "outputs": [],
   "source": [
    "%config ZMQInteractiveShell.ast_node_interactivity='all'\n",
    "%matplotlib inline\n",
    "import warnings;warnings.filterwarnings('ignore')\n",
    "import os\n",
    "import numpy as np\n",
    "import pandas as pd\n",
    "import matplotlib.pyplot as plt\n",
    "import seaborn as sns\n",
    "\n",
    "from scipy import stats as spstats\n",
    "from sklearn import metrics\n",
    "from sklearn.base import BaseEstimator, ClassifierMixin, TransformerMixin, clone\n",
    "from sklearn.preprocessing import Imputer, LabelEncoder, PolynomialFeatures\n",
    "from sklearn.model_selection import KFold, StratifiedKFold, RandomizedSearchCV\n",
    "from sklearn.externals import joblib\n",
    "\n",
    "from sklearn.ensemble import RandomForestClassifier\n",
    "from sklearn.linear_model import LogisticRegression\n",
    "from xgboost import XGBClassifier\n",
    "from lightgbm import LGBMClassifier"
   ]
  },
  {
   "cell_type": "code",
   "execution_count": 2,
   "metadata": {},
   "outputs": [],
   "source": [
    "target = '标签'\n",
    "uid = '申请编号'\n",
    "uid_h = '历史申请编号'"
   ]
  },
  {
   "cell_type": "code",
   "execution_count": null,
   "metadata": {},
   "outputs": [],
   "source": [
    "############## D3\n",
    "\n",
    "d3= pd.read_csv('./data/train_History_Application.csv', header=0)\n",
    "d3.shape\n",
    "d3.head()\n",
    "\n",
    "d4= pd.read_csv('./data/train_History_Payment.csv', header=0)\n",
    "d4.shape\n",
    "d4.head()"
   ]
  },
  {
   "cell_type": "code",
   "execution_count": null,
   "metadata": {},
   "outputs": [],
   "source": [
    "####### D1 ~ D4 Exploration\n",
    "\n",
    "# D3\n",
    "d3_info = {}\n",
    "\n",
    "d3_info['desc'] = d3.drop([uid, uid_h], axis=1).describe().T\n",
    "d3_info['desc'].to_csv(f'./ana/0_cols_desc3.csv')\n",
    "\n",
    "# D4\n",
    "d4_info = {}\n",
    "\n",
    "d4_info['desc'] = d4.drop([uid, uid_h], axis=1).describe().T\n",
    "d4_info['desc'].to_csv(f'./ana/0_cols_desc4.csv')"
   ]
  },
  {
   "cell_type": "code",
   "execution_count": null,
   "metadata": {},
   "outputs": [],
   "source": [
    "d3['合同状态'].value_counts()"
   ]
  },
  {
   "cell_type": "code",
   "execution_count": null,
   "metadata": {},
   "outputs": [],
   "source": [
    "d4.loc[d4[uid]==173562, :].T.to_csv(f'./ana/9_t4_case1.csv')"
   ]
  },
  {
   "cell_type": "code",
   "execution_count": null,
   "metadata": {},
   "outputs": [],
   "source": [
    "################  Load Features\n",
    "\n",
    "''' Load '''\n",
    "X = pd.read_csv('./tmp/train_d1234.csv', header=0, index_col=0)\n",
    "X.shape\n",
    "\n",
    "y = pd.read_csv('./data/train_label.csv', header=0, index_col=0)\n",
    "y.shape\n",
    "\n",
    "''' Merge '''\n",
    "# Merge\n",
    "xy = pd.merge(X, y, on=uid, how='inner')\n",
    "xy.drop(uid, axis=1, inplace=True)\n",
    "xy.shape\n",
    "\n",
    "''' Split '''\n",
    "# X, y\n",
    "X = xy\n",
    "y = X.pop(target)\n",
    "X.shape\n",
    "y.shape"
   ]
  },
  {
   "cell_type": "code",
   "execution_count": 3,
   "metadata": {},
   "outputs": [],
   "source": [
    "# For kfold\n",
    "n_folds = 5\n",
    "\n",
    "# RF\n",
    "param_fixed_rf = {\n",
    "    'n_jobs' : 1,\n",
    "    'oob_score' : True,\n",
    "    'random_state':123,\n",
    "    'verbose':0\n",
    "}\n",
    "\n",
    "# XGB\n",
    "param_fixed_xgb = {\n",
    "    'n_jobs' : 1,\n",
    "    'eval_metric': 'auc',\n",
    "    'seed' : 123,\n",
    "    'silent' : 1,\n",
    "    'verbose_eval':0\n",
    "}\n",
    "\n",
    "# LGB\n",
    "param_fixed_lgb = {\n",
    "    'n_jobs' : 1,\n",
    "    'metric' : 'auc',\n",
    "    'bagging_seed':123,\n",
    "    'feature_fraction_seed':123,\n",
    "    'verbose_eval' : 0\n",
    "}"
   ]
  },
  {
   "cell_type": "code",
   "execution_count": null,
   "metadata": {},
   "outputs": [],
   "source": [
    "############# boxcox\n",
    "\n",
    "# feat = '商品价格'\n",
    "# feat = '贷款申请前1年内征信查询次数'\n",
    "feat = '出生日期距申请日期天数'\n",
    "\n",
    "X[feat].describe()"
   ]
  },
  {
   "cell_type": "code",
   "execution_count": null,
   "metadata": {},
   "outputs": [],
   "source": [
    "''' ori '''\n",
    "sns.distplot(X[feat] + 1)\n",
    "plt.show()\n",
    "\n",
    "''' boxcox '''\n",
    "inp = X[feat].apply('abs') + 1\n",
    "l, opt_lmbda = spstats.boxcox(inp)\n",
    "opt_lmbda\n",
    "lmbda = 0\n",
    "if opt_lmbda > 0:\n",
    "    lmbda = opt_lmbda\n",
    "sns.distplot(spstats.boxcox(inp, lmbda=lmbda))\n",
    "plt.show()"
   ]
  },
  {
   "cell_type": "code",
   "execution_count": null,
   "metadata": {},
   "outputs": [],
   "source": [
    "############## Fill Null\n",
    "\n",
    "# Fill Null\n",
    "imp =Imputer(missing_values=np.NaN, strategy=\"mean\", axis=0)\n",
    "data = imp.fit_transform(data_ori)\n",
    "len(data)\n",
    "len(data[0])"
   ]
  },
  {
   "cell_type": "code",
   "execution_count": null,
   "metadata": {},
   "outputs": [],
   "source": [
    "############## X, y\n",
    "\n",
    "''' y '''\n",
    "y = data[:, 1]\n",
    "len(y)\n",
    "y[:10]\n",
    "\n",
    "''' X '''\n",
    "X = data[:, 2:]\n",
    "len(X)\n",
    "len(X[0])\n",
    "X[0][:10]\n",
    "\n",
    "pd.DataFrame(y).to_csv('./tmp/1_y.csv')\n",
    "pd.DataFrame(X).to_csv('./tmp/1_X.csv')"
   ]
  },
  {
   "cell_type": "code",
   "execution_count": null,
   "metadata": {},
   "outputs": [],
   "source": [
    "############## Check X, y\n",
    "\n",
    "X1 = pd.read_csv('./tmp/1_X.csv', header=0, index_col=0)\n",
    "X1.shape\n",
    "X1.head()\n",
    "\n",
    "y1 = pd.read_csv('./tmp/1_y.csv', header=0, index_col=0)\n",
    "y1.shape\n",
    "y1.head()\n",
    "\n",
    "''' y '''\n",
    "len(y)\n",
    "y2 = y1['0'].values\n",
    "len(y2)\n",
    "(y == y2).sum()\n",
    "\n",
    "''' X '''\n",
    "len(X)\n",
    "len(X[0])\n",
    "X2 = X1.values\n",
    "len(X2)\n",
    "len(X2[0])\n",
    "(X == X2).sum(axis=1)\n",
    "140000 * 329"
   ]
  },
  {
   "cell_type": "code",
   "execution_count": null,
   "metadata": {},
   "outputs": [],
   "source": [
    "n=0\n",
    "y[n]\n",
    "y2[n]"
   ]
  },
  {
   "cell_type": "code",
   "execution_count": null,
   "metadata": {},
   "outputs": [],
   "source": [
    "f = '信用额度'\n",
    "d1234[f].describe()\n",
    "lmbda[f]\n",
    "\n",
    "sns.distplot(d1234[f])"
   ]
  },
  {
   "cell_type": "code",
   "execution_count": null,
   "metadata": {},
   "outputs": [],
   "source": [
    "### BoxCox\n",
    "\n",
    "def get_boxcox(x):\n",
    "    inp = x.apply('abs') + 1\n",
    "    l, opt_lmbda = spstats.boxcox(inp)\n",
    "    opt_lmbda\n",
    "    lmbda = 0\n",
    "    if opt_lmbda > 0:\n",
    "        lmbda = opt_lmbda\n",
    "    ret = spstats.boxcox(inp, lmbda=lmbda)\n",
    "    return lmbda, ret\n",
    "\n",
    "# Features\n",
    "large_feats_drop = ('申请编号', '客户收入', '身份认证日期距申请日期天数')\n",
    "large_feats_max = set(d1234.max()[d1234.max()>100].index)\n",
    "large_feats_min = set(d1234.min()[d1234.min()<-100].index)\n",
    "len(large_feats_max)\n",
    "len(large_feats_min)\n",
    "large_feats = large_feats_max.union(large_feats_min).difference(large_feats_drop)\n",
    "len(large_feats)\n",
    "\n",
    "lmbda = {}\n",
    "for f in large_feats:\n",
    "    lmbda[f], d1234[f] = get_boxcox(d1234[f])\n",
    "    \n",
    "#     f\n",
    "#     sns.distplot(d1234[f])\n",
    "#     plt.show()\n",
    "#     sns.distplot(a)\n",
    "#     plt.show()"
   ]
  },
  {
   "cell_type": "code",
   "execution_count": null,
   "metadata": {},
   "outputs": [],
   "source": [
    "#### Polynomial\n",
    "\n",
    "''' Feats  Poly '''\n",
    "feats = np.load('./tmp/0_feats_poly.npy', allow_pickle=True).item()\n",
    "len(feats)\n",
    "\n",
    "# Poly\n",
    "poly = PolynomialFeatures(degree=2, include_bias=False, interaction_only=False)\n",
    "feats_poly = pd.DataFrame(poly.fit_transform(d1234[feats]), columns=poly.get_feature_names()).iloc[:, len(feats):]\n",
    "feats_poly.shape\n",
    "\n",
    "''' BoxCox '''\n",
    "# BoxCox\n",
    "large_feats_max = set(feats_poly.max()[feats_poly.max()>100].index)\n",
    "large_feats_min = set(feats_poly.min()[feats_poly.min()<-100].index)\n",
    "len(large_feats_max)\n",
    "len(large_feats_min)\n",
    "large_feats = large_feats_max.union(large_feats_min).difference(large_feats_drop)\n",
    "len(large_feats)\n",
    "\n",
    "lmbda = {}\n",
    "for f in large_feats:\n",
    "    lmbda[f], feats_poly[f] = get_boxcox(feats_poly[f])\n",
    "\n",
    "''' Concat '''\n",
    "pd.concat([d1234, feats_poly], axis=1)"
   ]
  }
 ],
 "metadata": {
  "kernelspec": {
   "display_name": "Python 3",
   "language": "python",
   "name": "python3"
  },
  "language_info": {
   "codemirror_mode": {
    "name": "ipython",
    "version": 3
   },
   "file_extension": ".py",
   "mimetype": "text/x-python",
   "name": "python",
   "nbconvert_exporter": "python",
   "pygments_lexer": "ipython3",
   "version": "3.7.4"
  }
 },
 "nbformat": 4,
 "nbformat_minor": 2
}
