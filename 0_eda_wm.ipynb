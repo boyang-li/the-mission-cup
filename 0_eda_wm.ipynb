{
 "cells": [
  {
   "cell_type": "code",
   "execution_count": 5,
   "metadata": {},
   "outputs": [],
   "source": [
    "%config ZMQInteractiveShell.ast_node_interactivity='all'\n",
    "%matplotlib inline\n",
    "import warnings;warnings.filterwarnings('ignore')\n",
    "import os\n",
    "import numpy as np\n",
    "import pandas as pd\n",
    "import matplotlib.pyplot as plt\n",
    "import seaborn as sns\n",
    "\n",
    "from scipy import stats as spstats\n",
    "from sklearn import metrics\n",
    "from sklearn.base import BaseEstimator, ClassifierMixin, TransformerMixin, clone\n",
    "from sklearn.preprocessing import Imputer, LabelEncoder, PolynomialFeatures\n",
    "from sklearn.model_selection import KFold, StratifiedKFold, RandomizedSearchCV\n",
    "from sklearn.externals import joblib\n",
    "\n",
    "from sklearn.ensemble import RandomForestClassifier\n",
    "from sklearn.linear_model import LogisticRegression\n",
    "from xgboost import XGBClassifier\n",
    "from lightgbm import LGBMClassifier"
   ]
  },
  {
   "cell_type": "code",
   "execution_count": 76,
   "metadata": {},
   "outputs": [],
   "source": [
    "target = '标签'\n",
    "uid = '申请编号'\n",
    "uid_h = '历史申请编号'\n",
    "\n",
    "def get_time():\n",
    "    now = datetime.datetime.now().strftime(\"%m-%d %H:%M\")\n",
    "    print(now)\n",
    "\n",
    "def calc_auc(y_test, y_proba):\n",
    "    auc = round(metrics.roc_auc_score(y_test, y_proba), 3)\n",
    "    return auc\n",
    "\n",
    "def ks_score(y_test, y_proba):\n",
    "    scale = 4\n",
    "    fpr, tpr, thresholds = metrics.roc_curve(y_test, y_proba, pos_label=1)\n",
    "    KS = round(max(list(tpr-fpr)), scale)\n",
    "    return KS"
   ]
  },
  {
   "cell_type": "code",
   "execution_count": 33,
   "metadata": {},
   "outputs": [
    {
     "data": {
      "text/plain": [
       "(140000, 63)"
      ]
     },
     "execution_count": 33,
     "metadata": {},
     "output_type": "execute_result"
    },
    {
     "data": {
      "text/html": [
       "<div>\n",
       "<style scoped>\n",
       "    .dataframe tbody tr th:only-of-type {\n",
       "        vertical-align: middle;\n",
       "    }\n",
       "\n",
       "    .dataframe tbody tr th {\n",
       "        vertical-align: top;\n",
       "    }\n",
       "\n",
       "    .dataframe thead th {\n",
       "        text-align: right;\n",
       "    }\n",
       "</style>\n",
       "<table border=\"1\" class=\"dataframe\">\n",
       "  <thead>\n",
       "    <tr style=\"text-align: right;\">\n",
       "      <th></th>\n",
       "      <th>申请编号</th>\n",
       "      <th>标签</th>\n",
       "      <th>贷款类型</th>\n",
       "      <th>信用额度</th>\n",
       "      <th>贷款年金</th>\n",
       "      <th>商品价格</th>\n",
       "      <th>陪同申请人</th>\n",
       "      <th>出生日期距申请日期天数</th>\n",
       "      <th>工作日期距申请日期天数</th>\n",
       "      <th>注册日期距申请日期天数</th>\n",
       "      <th>...</th>\n",
       "      <th>地址是否一致标志3</th>\n",
       "      <th>地址是否一致标志4</th>\n",
       "      <th>地址是否一致标志5</th>\n",
       "      <th>地址是否一致标志6</th>\n",
       "      <th>单位类型</th>\n",
       "      <th>社交圈违约信息2_2</th>\n",
       "      <th>社交圈违约信息2_1</th>\n",
       "      <th>社交圈违约信息1_2</th>\n",
       "      <th>社交圈违约信息1_1</th>\n",
       "      <th>最近一次换手机号码距申请日天数</th>\n",
       "    </tr>\n",
       "  </thead>\n",
       "  <tbody>\n",
       "    <tr>\n",
       "      <td>0</td>\n",
       "      <td>0</td>\n",
       "      <td>1</td>\n",
       "      <td>0</td>\n",
       "      <td>460190.889355</td>\n",
       "      <td>17463.042019</td>\n",
       "      <td>419951.511045</td>\n",
       "      <td>7.0</td>\n",
       "      <td>-10107</td>\n",
       "      <td>-342</td>\n",
       "      <td>-5421</td>\n",
       "      <td>...</td>\n",
       "      <td>0</td>\n",
       "      <td>0</td>\n",
       "      <td>0</td>\n",
       "      <td>0</td>\n",
       "      <td>5</td>\n",
       "      <td>0.0</td>\n",
       "      <td>0.0</td>\n",
       "      <td>0.0</td>\n",
       "      <td>0.0</td>\n",
       "      <td>-887.0</td>\n",
       "    </tr>\n",
       "    <tr>\n",
       "      <td>1</td>\n",
       "      <td>1</td>\n",
       "      <td>0</td>\n",
       "      <td>0</td>\n",
       "      <td>424370.659603</td>\n",
       "      <td>15585.046388</td>\n",
       "      <td>384597.975692</td>\n",
       "      <td>7.0</td>\n",
       "      <td>-13980</td>\n",
       "      <td>-1110</td>\n",
       "      <td>-3387</td>\n",
       "      <td>...</td>\n",
       "      <td>0</td>\n",
       "      <td>0</td>\n",
       "      <td>0</td>\n",
       "      <td>1</td>\n",
       "      <td>5</td>\n",
       "      <td>0.0</td>\n",
       "      <td>0.0</td>\n",
       "      <td>0.0</td>\n",
       "      <td>0.0</td>\n",
       "      <td>-271.0</td>\n",
       "    </tr>\n",
       "    <tr>\n",
       "      <td>2</td>\n",
       "      <td>2</td>\n",
       "      <td>0</td>\n",
       "      <td>0</td>\n",
       "      <td>469330.587153</td>\n",
       "      <td>18837.558252</td>\n",
       "      <td>419951.511045</td>\n",
       "      <td>1.0</td>\n",
       "      <td>-13331</td>\n",
       "      <td>-2246</td>\n",
       "      <td>-3870</td>\n",
       "      <td>...</td>\n",
       "      <td>1</td>\n",
       "      <td>0</td>\n",
       "      <td>0</td>\n",
       "      <td>0</td>\n",
       "      <td>5</td>\n",
       "      <td>0.0</td>\n",
       "      <td>0.0</td>\n",
       "      <td>0.0</td>\n",
       "      <td>0.0</td>\n",
       "      <td>-332.0</td>\n",
       "    </tr>\n",
       "    <tr>\n",
       "      <td>3</td>\n",
       "      <td>3</td>\n",
       "      <td>0</td>\n",
       "      <td>0</td>\n",
       "      <td>464188.353140</td>\n",
       "      <td>16754.587069</td>\n",
       "      <td>409850.500944</td>\n",
       "      <td>7.0</td>\n",
       "      <td>-16540</td>\n",
       "      <td>292204</td>\n",
       "      <td>-970</td>\n",
       "      <td>...</td>\n",
       "      <td>0</td>\n",
       "      <td>0</td>\n",
       "      <td>0</td>\n",
       "      <td>0</td>\n",
       "      <td>57</td>\n",
       "      <td>1.0</td>\n",
       "      <td>0.0</td>\n",
       "      <td>1.0</td>\n",
       "      <td>0.0</td>\n",
       "      <td>-204.0</td>\n",
       "    </tr>\n",
       "    <tr>\n",
       "      <td>4</td>\n",
       "      <td>5</td>\n",
       "      <td>0</td>\n",
       "      <td>0</td>\n",
       "      <td>434196.988738</td>\n",
       "      <td>16165.009200</td>\n",
       "      <td>394698.985793</td>\n",
       "      <td>7.0</td>\n",
       "      <td>-17919</td>\n",
       "      <td>-11037</td>\n",
       "      <td>-9350</td>\n",
       "      <td>...</td>\n",
       "      <td>1</td>\n",
       "      <td>1</td>\n",
       "      <td>0</td>\n",
       "      <td>1</td>\n",
       "      <td>53</td>\n",
       "      <td>0.0</td>\n",
       "      <td>0.0</td>\n",
       "      <td>0.0</td>\n",
       "      <td>0.0</td>\n",
       "      <td>-1049.0</td>\n",
       "    </tr>\n",
       "  </tbody>\n",
       "</table>\n",
       "<p>5 rows × 63 columns</p>\n",
       "</div>"
      ],
      "text/plain": [
       "   申请编号  标签  贷款类型           信用额度          贷款年金           商品价格  陪同申请人  \\\n",
       "0     0   1     0  460190.889355  17463.042019  419951.511045    7.0   \n",
       "1     1   0     0  424370.659603  15585.046388  384597.975692    7.0   \n",
       "2     2   0     0  469330.587153  18837.558252  419951.511045    1.0   \n",
       "3     3   0     0  464188.353140  16754.587069  409850.500944    7.0   \n",
       "4     5   0     0  434196.988738  16165.009200  394698.985793    7.0   \n",
       "\n",
       "   出生日期距申请日期天数  工作日期距申请日期天数  注册日期距申请日期天数  ...  地址是否一致标志3  地址是否一致标志4  \\\n",
       "0       -10107         -342        -5421  ...          0          0   \n",
       "1       -13980        -1110        -3387  ...          0          0   \n",
       "2       -13331        -2246        -3870  ...          1          0   \n",
       "3       -16540       292204         -970  ...          0          0   \n",
       "4       -17919       -11037        -9350  ...          1          1   \n",
       "\n",
       "   地址是否一致标志5  地址是否一致标志6  单位类型  社交圈违约信息2_2  社交圈违约信息2_1  社交圈违约信息1_2  社交圈违约信息1_1  \\\n",
       "0          0          0     5         0.0         0.0         0.0         0.0   \n",
       "1          0          1     5         0.0         0.0         0.0         0.0   \n",
       "2          0          0     5         0.0         0.0         0.0         0.0   \n",
       "3          0          0    57         1.0         0.0         1.0         0.0   \n",
       "4          0          1    53         0.0         0.0         0.0         0.0   \n",
       "\n",
       "   最近一次换手机号码距申请日天数  \n",
       "0           -887.0  \n",
       "1           -271.0  \n",
       "2           -332.0  \n",
       "3           -204.0  \n",
       "4          -1049.0  \n",
       "\n",
       "[5 rows x 63 columns]"
      ]
     },
     "execution_count": 33,
     "metadata": {},
     "output_type": "execute_result"
    }
   ],
   "source": [
    "############## D12\n",
    "\n",
    "d0 = pd.read_csv('./data/train_label.csv')\n",
    "d1 = pd.read_csv('./data/train_Application.csv')\n",
    "d2 = pd.read_csv('./data/train_Personas.csv')\n",
    "\n",
    "d12 = pd.merge(d0, d1, how='inner', on='申请编号')\n",
    "d12 = pd.merge(d12, d2, how='inner', on='申请编号')\n",
    "d12.shape\n",
    "d12.head()"
   ]
  },
  {
   "cell_type": "code",
   "execution_count": 34,
   "metadata": {},
   "outputs": [
    {
     "data": {
      "text/plain": [
       "(140000, 2)"
      ]
     },
     "execution_count": 34,
     "metadata": {},
     "output_type": "execute_result"
    },
    {
     "data": {
      "text/html": [
       "<div>\n",
       "<style scoped>\n",
       "    .dataframe tbody tr th:only-of-type {\n",
       "        vertical-align: middle;\n",
       "    }\n",
       "\n",
       "    .dataframe tbody tr th {\n",
       "        vertical-align: top;\n",
       "    }\n",
       "\n",
       "    .dataframe thead th {\n",
       "        text-align: right;\n",
       "    }\n",
       "</style>\n",
       "<table border=\"1\" class=\"dataframe\">\n",
       "  <thead>\n",
       "    <tr style=\"text-align: right;\">\n",
       "      <th></th>\n",
       "      <th>申请编号</th>\n",
       "      <th>score</th>\n",
       "    </tr>\n",
       "  </thead>\n",
       "  <tbody>\n",
       "    <tr>\n",
       "      <td>0</td>\n",
       "      <td>0</td>\n",
       "      <td>0.409777</td>\n",
       "    </tr>\n",
       "    <tr>\n",
       "      <td>1</td>\n",
       "      <td>1</td>\n",
       "      <td>0.249499</td>\n",
       "    </tr>\n",
       "    <tr>\n",
       "      <td>2</td>\n",
       "      <td>2</td>\n",
       "      <td>0.170230</td>\n",
       "    </tr>\n",
       "    <tr>\n",
       "      <td>3</td>\n",
       "      <td>3</td>\n",
       "      <td>0.066397</td>\n",
       "    </tr>\n",
       "    <tr>\n",
       "      <td>4</td>\n",
       "      <td>5</td>\n",
       "      <td>0.044140</td>\n",
       "    </tr>\n",
       "  </tbody>\n",
       "</table>\n",
       "</div>"
      ],
      "text/plain": [
       "   申请编号     score\n",
       "0     0  0.409777\n",
       "1     1  0.249499\n",
       "2     2  0.170230\n",
       "3     3  0.066397\n",
       "4     5  0.044140"
      ]
     },
     "execution_count": 34,
     "metadata": {},
     "output_type": "execute_result"
    },
    {
     "data": {
      "text/plain": [
       "(140000, 64)"
      ]
     },
     "execution_count": 34,
     "metadata": {},
     "output_type": "execute_result"
    },
    {
     "data": {
      "text/html": [
       "<div>\n",
       "<style scoped>\n",
       "    .dataframe tbody tr th:only-of-type {\n",
       "        vertical-align: middle;\n",
       "    }\n",
       "\n",
       "    .dataframe tbody tr th {\n",
       "        vertical-align: top;\n",
       "    }\n",
       "\n",
       "    .dataframe thead th {\n",
       "        text-align: right;\n",
       "    }\n",
       "</style>\n",
       "<table border=\"1\" class=\"dataframe\">\n",
       "  <thead>\n",
       "    <tr style=\"text-align: right;\">\n",
       "      <th></th>\n",
       "      <th>申请编号</th>\n",
       "      <th>score</th>\n",
       "      <th>标签</th>\n",
       "      <th>贷款类型</th>\n",
       "      <th>信用额度</th>\n",
       "      <th>贷款年金</th>\n",
       "      <th>商品价格</th>\n",
       "      <th>陪同申请人</th>\n",
       "      <th>出生日期距申请日期天数</th>\n",
       "      <th>工作日期距申请日期天数</th>\n",
       "      <th>...</th>\n",
       "      <th>地址是否一致标志3</th>\n",
       "      <th>地址是否一致标志4</th>\n",
       "      <th>地址是否一致标志5</th>\n",
       "      <th>地址是否一致标志6</th>\n",
       "      <th>单位类型</th>\n",
       "      <th>社交圈违约信息2_2</th>\n",
       "      <th>社交圈违约信息2_1</th>\n",
       "      <th>社交圈违约信息1_2</th>\n",
       "      <th>社交圈违约信息1_1</th>\n",
       "      <th>最近一次换手机号码距申请日天数</th>\n",
       "    </tr>\n",
       "  </thead>\n",
       "  <tbody>\n",
       "    <tr>\n",
       "      <td>0</td>\n",
       "      <td>0</td>\n",
       "      <td>0.409777</td>\n",
       "      <td>1</td>\n",
       "      <td>0</td>\n",
       "      <td>460190.889355</td>\n",
       "      <td>17463.042019</td>\n",
       "      <td>419951.511045</td>\n",
       "      <td>7.0</td>\n",
       "      <td>-10107</td>\n",
       "      <td>-342</td>\n",
       "      <td>...</td>\n",
       "      <td>0</td>\n",
       "      <td>0</td>\n",
       "      <td>0</td>\n",
       "      <td>0</td>\n",
       "      <td>5</td>\n",
       "      <td>0.0</td>\n",
       "      <td>0.0</td>\n",
       "      <td>0.0</td>\n",
       "      <td>0.0</td>\n",
       "      <td>-887.0</td>\n",
       "    </tr>\n",
       "    <tr>\n",
       "      <td>1</td>\n",
       "      <td>1</td>\n",
       "      <td>0.249499</td>\n",
       "      <td>0</td>\n",
       "      <td>0</td>\n",
       "      <td>424370.659603</td>\n",
       "      <td>15585.046388</td>\n",
       "      <td>384597.975692</td>\n",
       "      <td>7.0</td>\n",
       "      <td>-13980</td>\n",
       "      <td>-1110</td>\n",
       "      <td>...</td>\n",
       "      <td>0</td>\n",
       "      <td>0</td>\n",
       "      <td>0</td>\n",
       "      <td>1</td>\n",
       "      <td>5</td>\n",
       "      <td>0.0</td>\n",
       "      <td>0.0</td>\n",
       "      <td>0.0</td>\n",
       "      <td>0.0</td>\n",
       "      <td>-271.0</td>\n",
       "    </tr>\n",
       "    <tr>\n",
       "      <td>2</td>\n",
       "      <td>2</td>\n",
       "      <td>0.170230</td>\n",
       "      <td>0</td>\n",
       "      <td>0</td>\n",
       "      <td>469330.587153</td>\n",
       "      <td>18837.558252</td>\n",
       "      <td>419951.511045</td>\n",
       "      <td>1.0</td>\n",
       "      <td>-13331</td>\n",
       "      <td>-2246</td>\n",
       "      <td>...</td>\n",
       "      <td>1</td>\n",
       "      <td>0</td>\n",
       "      <td>0</td>\n",
       "      <td>0</td>\n",
       "      <td>5</td>\n",
       "      <td>0.0</td>\n",
       "      <td>0.0</td>\n",
       "      <td>0.0</td>\n",
       "      <td>0.0</td>\n",
       "      <td>-332.0</td>\n",
       "    </tr>\n",
       "    <tr>\n",
       "      <td>3</td>\n",
       "      <td>3</td>\n",
       "      <td>0.066397</td>\n",
       "      <td>0</td>\n",
       "      <td>0</td>\n",
       "      <td>464188.353140</td>\n",
       "      <td>16754.587069</td>\n",
       "      <td>409850.500944</td>\n",
       "      <td>7.0</td>\n",
       "      <td>-16540</td>\n",
       "      <td>292204</td>\n",
       "      <td>...</td>\n",
       "      <td>0</td>\n",
       "      <td>0</td>\n",
       "      <td>0</td>\n",
       "      <td>0</td>\n",
       "      <td>57</td>\n",
       "      <td>1.0</td>\n",
       "      <td>0.0</td>\n",
       "      <td>1.0</td>\n",
       "      <td>0.0</td>\n",
       "      <td>-204.0</td>\n",
       "    </tr>\n",
       "    <tr>\n",
       "      <td>4</td>\n",
       "      <td>5</td>\n",
       "      <td>0.044140</td>\n",
       "      <td>0</td>\n",
       "      <td>0</td>\n",
       "      <td>434196.988738</td>\n",
       "      <td>16165.009200</td>\n",
       "      <td>394698.985793</td>\n",
       "      <td>7.0</td>\n",
       "      <td>-17919</td>\n",
       "      <td>-11037</td>\n",
       "      <td>...</td>\n",
       "      <td>1</td>\n",
       "      <td>1</td>\n",
       "      <td>0</td>\n",
       "      <td>1</td>\n",
       "      <td>53</td>\n",
       "      <td>0.0</td>\n",
       "      <td>0.0</td>\n",
       "      <td>0.0</td>\n",
       "      <td>0.0</td>\n",
       "      <td>-1049.0</td>\n",
       "    </tr>\n",
       "  </tbody>\n",
       "</table>\n",
       "<p>5 rows × 64 columns</p>\n",
       "</div>"
      ],
      "text/plain": [
       "   申请编号     score  标签  贷款类型           信用额度          贷款年金           商品价格  \\\n",
       "0     0  0.409777   1     0  460190.889355  17463.042019  419951.511045   \n",
       "1     1  0.249499   0     0  424370.659603  15585.046388  384597.975692   \n",
       "2     2  0.170230   0     0  469330.587153  18837.558252  419951.511045   \n",
       "3     3  0.066397   0     0  464188.353140  16754.587069  409850.500944   \n",
       "4     5  0.044140   0     0  434196.988738  16165.009200  394698.985793   \n",
       "\n",
       "   陪同申请人  出生日期距申请日期天数  工作日期距申请日期天数  ...  地址是否一致标志3  地址是否一致标志4  地址是否一致标志5  \\\n",
       "0    7.0       -10107         -342  ...          0          0          0   \n",
       "1    7.0       -13980        -1110  ...          0          0          0   \n",
       "2    1.0       -13331        -2246  ...          1          0          0   \n",
       "3    7.0       -16540       292204  ...          0          0          0   \n",
       "4    7.0       -17919       -11037  ...          1          1          0   \n",
       "\n",
       "   地址是否一致标志6  单位类型  社交圈违约信息2_2  社交圈违约信息2_1  社交圈违约信息1_2  社交圈违约信息1_1  \\\n",
       "0          0     5         0.0         0.0         0.0         0.0   \n",
       "1          1     5         0.0         0.0         0.0         0.0   \n",
       "2          0     5         0.0         0.0         0.0         0.0   \n",
       "3          0    57         1.0         0.0         1.0         0.0   \n",
       "4          1    53         0.0         0.0         0.0         0.0   \n",
       "\n",
       "   最近一次换手机号码距申请日天数  \n",
       "0           -887.0  \n",
       "1           -271.0  \n",
       "2           -332.0  \n",
       "3           -204.0  \n",
       "4          -1049.0  \n",
       "\n",
       "[5 rows x 64 columns]"
      ]
     },
     "execution_count": 34,
     "metadata": {},
     "output_type": "execute_result"
    }
   ],
   "source": [
    "###################### 分群？\n",
    "\n",
    "### Merge pred\n",
    "d_score = pd.read_csv('./model/predict_train.csv', header=0, index_col=0)\n",
    "d_score.rename(columns={'0':'score'}, inplace=True)\n",
    "d_score.shape\n",
    "d_score.head()\n",
    "\n",
    "d12s = pd.merge(d_score, d12, how='left', on=uid)\n",
    "d12s.shape\n",
    "d12s.head()"
   ]
  },
  {
   "cell_type": "code",
   "execution_count": 68,
   "metadata": {},
   "outputs": [
    {
     "data": {
      "text/plain": [
       "(104367,)"
      ]
     },
     "execution_count": 68,
     "metadata": {},
     "output_type": "execute_result"
    },
    {
     "data": {
      "text/plain": [
       "(35633,)"
      ]
     },
     "execution_count": 68,
     "metadata": {},
     "output_type": "execute_result"
    }
   ],
   "source": [
    "########### 分群by['商品价格']<445709\n",
    "\n",
    "uids0 = d12s.loc[(d12s['商品价格']<445709) | (d12s['商品价格'].isna()==True), uid]\n",
    "uids0.shape\n",
    "uids0.to_csv('./tmp/train_uid0.csv')\n",
    "uids1 = d12s.loc[d12s['商品价格']>=445709, uid]\n",
    "uids1.shape\n",
    "uids1.to_csv('./tmp/train_uid1.csv')"
   ]
  },
  {
   "cell_type": "code",
   "execution_count": 64,
   "metadata": {},
   "outputs": [
    {
     "data": {
      "text/plain": [
       "count    139880.000000\n",
       "mean     429468.479262\n",
       "std       41142.193912\n",
       "min      374496.965591\n",
       "25%      396214.137308\n",
       "50%      419951.511045\n",
       "75%      445709.086803\n",
       "max      823991.915085\n",
       "Name: 商品价格, dtype: float64"
      ]
     },
     "execution_count": 64,
     "metadata": {},
     "output_type": "execute_result"
    },
    {
     "data": {
      "text/plain": [
       "120"
      ]
     },
     "execution_count": 64,
     "metadata": {},
     "output_type": "execute_result"
    }
   ],
   "source": [
    "f='商品价格'\n",
    "d12s[f].describe()\n",
    "d12s[f].isna().sum()"
   ]
  },
  {
   "cell_type": "code",
   "execution_count": 69,
   "metadata": {},
   "outputs": [
    {
     "data": {
      "text/plain": [
       "0.7393"
      ]
     },
     "execution_count": 69,
     "metadata": {},
     "output_type": "execute_result"
    },
    {
     "data": {
      "text/plain": [
       "(60549, 64)"
      ]
     },
     "execution_count": 69,
     "metadata": {},
     "output_type": "execute_result"
    },
    {
     "data": {
      "text/plain": [
       "0.7246"
      ]
     },
     "execution_count": 69,
     "metadata": {},
     "output_type": "execute_result"
    },
    {
     "data": {
      "text/plain": [
       "(79331, 64)"
      ]
     },
     "execution_count": 69,
     "metadata": {},
     "output_type": "execute_result"
    },
    {
     "data": {
      "text/plain": [
       "0.7518"
      ]
     },
     "execution_count": 69,
     "metadata": {},
     "output_type": "execute_result"
    }
   ],
   "source": [
    "ks_score(d12s[target], d12s['score'])\n",
    "\n",
    "f = '商品价格'\n",
    "for d in d12s.loc[d12s[f]<419951, :], d12s.loc[d12s[f]>419951, :]:\n",
    "# f = '信用额度'\n",
    "# for d in d12s.loc[d12s[f]<437110, :], d12s.loc[d12s[f]>506177, :]:\n",
    "# f = '贷款类型'\n",
    "# for d in d12s.loc[d12s[f]==0, :], d12s.loc[d12s[f]==1, :]:\n",
    "    d.shape\n",
    "    ks_score(d[target], d['score'])"
   ]
  },
  {
   "cell_type": "code",
   "execution_count": null,
   "metadata": {},
   "outputs": [],
   "source": [
    "############## D3\n",
    "\n",
    "d3= pd.read_csv('./data/train_History_Application.csv', header=0)\n",
    "d3.shape\n",
    "d3.head()\n",
    "\n",
    "d4= pd.read_csv('./data/train_History_Payment.csv', header=0)\n",
    "d4.shape\n",
    "d4.head()"
   ]
  },
  {
   "cell_type": "code",
   "execution_count": null,
   "metadata": {},
   "outputs": [],
   "source": [
    "####### D1 ~ D4 Exploration\n",
    "\n",
    "# D3\n",
    "d3_info = {}\n",
    "\n",
    "d3_info['desc'] = d3.drop([uid, uid_h], axis=1).describe().T\n",
    "d3_info['desc'].to_csv(f'./ana/0_cols_desc3.csv')\n",
    "\n",
    "# D4\n",
    "d4_info = {}\n",
    "\n",
    "d4_info['desc'] = d4.drop([uid, uid_h], axis=1).describe().T\n",
    "d4_info['desc'].to_csv(f'./ana/0_cols_desc4.csv')"
   ]
  },
  {
   "cell_type": "code",
   "execution_count": null,
   "metadata": {},
   "outputs": [],
   "source": [
    "d3['合同状态'].value_counts()"
   ]
  },
  {
   "cell_type": "code",
   "execution_count": null,
   "metadata": {},
   "outputs": [],
   "source": [
    "d4.loc[d4[uid]==173562, :].T.to_csv(f'./ana/9_t4_case1.csv')"
   ]
  },
  {
   "cell_type": "code",
   "execution_count": 117,
   "metadata": {},
   "outputs": [
    {
     "data": {
      "text/plain": [
       "' Load '"
      ]
     },
     "execution_count": 117,
     "metadata": {},
     "output_type": "execute_result"
    },
    {
     "data": {
      "text/plain": [
       "(140000, 802)"
      ]
     },
     "execution_count": 117,
     "metadata": {},
     "output_type": "execute_result"
    },
    {
     "data": {
      "text/plain": [
       "(161511, 82)"
      ]
     },
     "execution_count": 117,
     "metadata": {},
     "output_type": "execute_result"
    },
    {
     "data": {
      "text/plain": [
       "(140000, 1)"
      ]
     },
     "execution_count": 117,
     "metadata": {},
     "output_type": "execute_result"
    },
    {
     "data": {
      "text/plain": [
       "' Merge '"
      ]
     },
     "execution_count": 117,
     "metadata": {},
     "output_type": "execute_result"
    },
    {
     "data": {
      "text/plain": [
       "(140000, 884)"
      ]
     },
     "execution_count": 117,
     "metadata": {},
     "output_type": "execute_result"
    }
   ],
   "source": [
    "################  Load Features\n",
    "\n",
    "''' Load '''\n",
    "Xid = pd.read_csv('./tmp/train_d1234.csv', header=0, index_col=0)\n",
    "Xid.shape\n",
    "\n",
    "Xid1 = pd.read_csv('./tmp/d12_ori.csv', header=0, index_col=0)\n",
    "Xid1.shape\n",
    "\n",
    "Xid = pd.merge(Xid, Xid1, on=uid, how='left')\n",
    "\n",
    "yid = pd.read_csv('./data/train_label.csv', header=0, index_col=0)\n",
    "yid.shape\n",
    "\n",
    "''' Merge '''\n",
    "xy = pd.merge(Xid, yid, on=uid, how='inner')\n",
    "# xy.drop(uid, axis=1, inplace=True)\n",
    "xy.shape\n",
    "\n",
    "# ''' Split '''\n",
    "# # X, y\n",
    "# X = xy.copy()\n",
    "# y = X.pop(target)\n",
    "# X.shape\n",
    "# y.shape"
   ]
  },
  {
   "cell_type": "code",
   "execution_count": 3,
   "metadata": {},
   "outputs": [],
   "source": [
    "# For kfold\n",
    "n_folds = 5\n",
    "\n",
    "# RF\n",
    "param_fixed_rf = {\n",
    "    'n_jobs' : 1,\n",
    "    'oob_score' : True,\n",
    "    'random_state':123,\n",
    "    'verbose':0\n",
    "}\n",
    "\n",
    "# XGB\n",
    "param_fixed_xgb = {\n",
    "    'n_jobs' : 1,\n",
    "    'eval_metric': 'auc',\n",
    "    'seed' : 123,\n",
    "    'silent' : 1,\n",
    "    'verbose_eval':0\n",
    "}\n",
    "\n",
    "# LGB\n",
    "param_fixed_lgb = {\n",
    "    'n_jobs' : 1,\n",
    "    'metric' : 'auc',\n",
    "    'bagging_seed':123,\n",
    "    'feature_fraction_seed':123,\n",
    "    'verbose_eval' : 0\n",
    "}"
   ]
  },
  {
   "cell_type": "code",
   "execution_count": null,
   "metadata": {},
   "outputs": [],
   "source": [
    "############# boxcox\n",
    "\n",
    "# feat = '商品价格'\n",
    "# feat = '贷款申请前1年内征信查询次数'\n",
    "feat = '出生日期距申请日期天数'\n",
    "\n",
    "X[feat].describe()"
   ]
  },
  {
   "cell_type": "code",
   "execution_count": null,
   "metadata": {},
   "outputs": [],
   "source": [
    "''' ori '''\n",
    "sns.distplot(X[feat] + 1)\n",
    "plt.show()\n",
    "\n",
    "''' boxcox '''\n",
    "inp = X[feat].apply('abs') + 1\n",
    "l, opt_lmbda = spstats.boxcox(inp)\n",
    "opt_lmbda\n",
    "lmbda = 0\n",
    "if opt_lmbda > 0:\n",
    "    lmbda = opt_lmbda\n",
    "sns.distplot(spstats.boxcox(inp, lmbda=lmbda))\n",
    "plt.show()"
   ]
  },
  {
   "cell_type": "code",
   "execution_count": null,
   "metadata": {},
   "outputs": [],
   "source": [
    "############## Fill Null\n",
    "\n",
    "# Fill Null\n",
    "imp =Imputer(missing_values=np.NaN, strategy=\"mean\", axis=0)\n",
    "data = imp.fit_transform(data_ori)\n",
    "len(data)\n",
    "len(data[0])"
   ]
  },
  {
   "cell_type": "code",
   "execution_count": null,
   "metadata": {},
   "outputs": [],
   "source": [
    "############## X, y\n",
    "\n",
    "''' y '''\n",
    "y = data[:, 1]\n",
    "len(y)\n",
    "y[:10]\n",
    "\n",
    "''' X '''\n",
    "X = data[:, 2:]\n",
    "len(X)\n",
    "len(X[0])\n",
    "X[0][:10]\n",
    "\n",
    "pd.DataFrame(y).to_csv('./tmp/1_y.csv')\n",
    "pd.DataFrame(X).to_csv('./tmp/1_X.csv')"
   ]
  },
  {
   "cell_type": "code",
   "execution_count": null,
   "metadata": {},
   "outputs": [],
   "source": [
    "############## Check X, y\n",
    "\n",
    "X1 = pd.read_csv('./tmp/1_X.csv', header=0, index_col=0)\n",
    "X1.shape\n",
    "X1.head()\n",
    "\n",
    "y1 = pd.read_csv('./tmp/1_y.csv', header=0, index_col=0)\n",
    "y1.shape\n",
    "y1.head()\n",
    "\n",
    "''' y '''\n",
    "len(y)\n",
    "y2 = y1['0'].values\n",
    "len(y2)\n",
    "(y == y2).sum()\n",
    "\n",
    "''' X '''\n",
    "len(X)\n",
    "len(X[0])\n",
    "X2 = X1.values\n",
    "len(X2)\n",
    "len(X2[0])\n",
    "(X == X2).sum(axis=1)\n",
    "140000 * 329"
   ]
  },
  {
   "cell_type": "code",
   "execution_count": null,
   "metadata": {},
   "outputs": [],
   "source": [
    "n=0\n",
    "y[n]\n",
    "y2[n]"
   ]
  },
  {
   "cell_type": "code",
   "execution_count": null,
   "metadata": {},
   "outputs": [],
   "source": [
    "f = '信用额度'\n",
    "d1234[f].describe()\n",
    "lmbda[f]\n",
    "\n",
    "sns.distplot(d1234[f])"
   ]
  },
  {
   "cell_type": "code",
   "execution_count": null,
   "metadata": {},
   "outputs": [],
   "source": [
    "### BoxCox\n",
    "\n",
    "def get_boxcox(x):\n",
    "    inp = x.apply('abs') + 1\n",
    "    l, opt_lmbda = spstats.boxcox(inp)\n",
    "    opt_lmbda\n",
    "    lmbda = 0\n",
    "    if opt_lmbda > 0:\n",
    "        lmbda = opt_lmbda\n",
    "    ret = spstats.boxcox(inp, lmbda=lmbda)\n",
    "    return lmbda, ret\n",
    "\n",
    "# Features\n",
    "large_feats_drop = ('申请编号', '客户收入', '身份认证日期距申请日期天数')\n",
    "large_feats_max = set(d1234.max()[d1234.max()>100].index)\n",
    "large_feats_min = set(d1234.min()[d1234.min()<-100].index)\n",
    "len(large_feats_max)\n",
    "len(large_feats_min)\n",
    "large_feats = large_feats_max.union(large_feats_min).difference(large_feats_drop)\n",
    "len(large_feats)\n",
    "\n",
    "lmbda = {}\n",
    "for f in large_feats:\n",
    "    lmbda[f], d1234[f] = get_boxcox(d1234[f])\n",
    "    \n",
    "#     f\n",
    "#     sns.distplot(d1234[f])\n",
    "#     plt.show()\n",
    "#     sns.distplot(a)\n",
    "#     plt.show()"
   ]
  },
  {
   "cell_type": "code",
   "execution_count": null,
   "metadata": {},
   "outputs": [],
   "source": [
    "#### Polynomial\n",
    "\n",
    "# [年龄20/25/30，教育程度_1/4，性别，if工作时间<，收入类型_7]\n",
    "\n",
    "''' Feats  Poly '''\n",
    "feats = np.load('./tmp/0_feats_poly.npy', allow_pickle=True).item()\n",
    "len(feats)\n",
    "\n",
    "# Poly\n",
    "poly = PolynomialFeatures(degree=2, include_bias=False, interaction_only=False)\n",
    "feats_poly = pd.DataFrame(poly.fit_transform(d1234[feats]), columns=poly.get_feature_names()).iloc[:, len(feats):]\n",
    "feats_poly.shape\n",
    "\n",
    "''' BoxCox '''\n",
    "# BoxCox\n",
    "large_feats_max = set(feats_poly.max()[feats_poly.max()>100].index)\n",
    "large_feats_min = set(feats_poly.min()[feats_poly.min()<-100].index)\n",
    "len(large_feats_max)\n",
    "len(large_feats_min)\n",
    "large_feats = large_feats_max.union(large_feats_min).difference(large_feats_drop)\n",
    "len(large_feats)\n",
    "\n",
    "lmbda = {}\n",
    "for f in large_feats:\n",
    "    lmbda[f], feats_poly[f] = get_boxcox(feats_poly[f])\n",
    "\n",
    "''' Concat '''\n",
    "pd.concat([d1234, feats_poly], axis=1)"
   ]
  },
  {
   "cell_type": "code",
   "execution_count": 356,
   "metadata": {},
   "outputs": [
    {
     "data": {
      "text/plain": [
       "Index(['贷款年金mean_y', '贷款年金mean_x'], dtype='object')"
      ]
     },
     "execution_count": 356,
     "metadata": {},
     "output_type": "execute_result"
    }
   ],
   "source": [
    "str = '贷款年金mean'\n",
    "xy.columns[xy.columns.str.contains(str)].sort_values(ascending=False)"
   ]
  },
  {
   "cell_type": "code",
   "execution_count": 357,
   "metadata": {},
   "outputs": [
    {
     "name": "stdout",
     "output_type": "stream",
     "text": [
      "****** 贷款年金mean_y ******\n"
     ]
    },
    {
     "data": {
      "text/plain": [
       "' 是否有空值 '"
      ]
     },
     "execution_count": 357,
     "metadata": {},
     "output_type": "execute_result"
    },
    {
     "data": {
      "text/plain": [
       "0"
      ]
     },
     "execution_count": 357,
     "metadata": {},
     "output_type": "execute_result"
    },
    {
     "data": {
      "text/plain": [
       "<matplotlib.axes._subplots.AxesSubplot at 0x1a232d0850>"
      ]
     },
     "execution_count": 357,
     "metadata": {},
     "output_type": "execute_result"
    },
    {
     "data": {
      "text/plain": [
       "<matplotlib.axes._subplots.AxesSubplot at 0x1a232d0850>"
      ]
     },
     "execution_count": 357,
     "metadata": {},
     "output_type": "execute_result"
    },
    {
     "data": {
      "image/png": "[encoded data removed]",
      "text/plain": [
       "<Figure size 432x288 with 1 Axes>"
      ]
     },
     "metadata": {
      "needs_background": "light"
     },
     "output_type": "display_data"
    },
    {
     "data": {
      "text/plain": [
       "' 分布 '"
      ]
     },
     "execution_count": 357,
     "metadata": {},
     "output_type": "execute_result"
    },
    {
     "name": "stdout",
     "output_type": "stream",
     "text": [
      "target0\n"
     ]
    },
    {
     "data": {
      "text/plain": [
       "count    119000.000000\n",
       "mean       1050.395131\n",
       "std        2125.966698\n",
       "min           0.000000\n",
       "25%           0.000000\n",
       "50%           0.000000\n",
       "75%        1500.000000\n",
       "max       73589.000000\n",
       "Name: 贷款年金mean_y, dtype: float64"
      ]
     },
     "execution_count": 357,
     "metadata": {},
     "output_type": "execute_result"
    },
    {
     "name": "stdout",
     "output_type": "stream",
     "text": [
      "target1\n"
     ]
    },
    {
     "data": {
      "text/plain": [
       "count    21000.000000\n",
       "mean      1317.436313\n",
       "std       2097.564514\n",
       "min          0.000000\n",
       "25%          0.000000\n",
       "50%          0.000000\n",
       "75%       2374.259258\n",
       "max      29597.000000\n",
       "Name: 贷款年金mean_y, dtype: float64"
      ]
     },
     "execution_count": 357,
     "metadata": {},
     "output_type": "execute_result"
    },
    {
     "name": "stdout",
     "output_type": "stream",
     "text": [
      "****** 贷款年金mean_x ******\n"
     ]
    },
    {
     "data": {
      "text/plain": [
       "' 是否有空值 '"
      ]
     },
     "execution_count": 357,
     "metadata": {},
     "output_type": "execute_result"
    },
    {
     "data": {
      "text/plain": [
       "0"
      ]
     },
     "execution_count": 357,
     "metadata": {},
     "output_type": "execute_result"
    },
    {
     "data": {
      "text/plain": [
       "<matplotlib.axes._subplots.AxesSubplot at 0x1a287442d0>"
      ]
     },
     "execution_count": 357,
     "metadata": {},
     "output_type": "execute_result"
    },
    {
     "data": {
      "text/plain": [
       "<matplotlib.axes._subplots.AxesSubplot at 0x1a287442d0>"
      ]
     },
     "execution_count": 357,
     "metadata": {},
     "output_type": "execute_result"
    },
    {
     "data": {
      "image/png": "[encoded data removed]",
      "text/plain": [
       "<Figure size 432x288 with 1 Axes>"
      ]
     },
     "metadata": {
      "needs_background": "light"
     },
     "output_type": "display_data"
    },
    {
     "data": {
      "text/plain": [
       "' 分布 '"
      ]
     },
     "execution_count": 357,
     "metadata": {},
     "output_type": "execute_result"
    },
    {
     "name": "stdout",
     "output_type": "stream",
     "text": [
      "target0\n"
     ]
    },
    {
     "data": {
      "text/plain": [
       "count    119000.000000\n",
       "mean       2359.700763\n",
       "std        1574.409472\n",
       "min           0.000000\n",
       "25%        1412.097940\n",
       "50%        2145.994023\n",
       "75%        2975.235057\n",
       "max       51114.000000\n",
       "Name: 贷款年金mean_x, dtype: float64"
      ]
     },
     "execution_count": 357,
     "metadata": {},
     "output_type": "execute_result"
    },
    {
     "name": "stdout",
     "output_type": "stream",
     "text": [
      "target1\n"
     ]
    },
    {
     "data": {
      "text/plain": [
       "count    21000.000000\n",
       "mean      2182.489449\n",
       "std       1309.203912\n",
       "min          0.000000\n",
       "25%       1344.000000\n",
       "50%       2055.492528\n",
       "75%       2773.058764\n",
       "max      19420.000000\n",
       "Name: 贷款年金mean_x, dtype: float64"
      ]
     },
     "execution_count": 357,
     "metadata": {},
     "output_type": "execute_result"
    }
   ],
   "source": [
    "############## Top Features\n",
    "\n",
    "for f in xy.columns[xy.columns.str.contains(str)].sort_values(ascending=False):\n",
    "    print(f'****** {f} ******')\n",
    "    ''' 是否有空值 '''\n",
    "    ifna = xy[f].isna().sum()\n",
    "    ifna\n",
    "    if ifna:\n",
    "        xy.loc[xy[f].isna()==True, target].mean()\n",
    "    \n",
    "    for t in range(2):\n",
    "#         d = round(xy.loc[xy[target]==t, f] / 10000)\n",
    "        d = xy.loc[xy[target]==t, f]\n",
    "        sns.distplot(d[d.isna()==False], kde_kws={'label':f'target{t}'})\n",
    "    plt.show()\n",
    "    ''' 分布 '''\n",
    "    for t in range(2):\n",
    "        print(f'target{t}')\n",
    "#         d = round(xy.loc[xy[target]==t, f] / 10000)\n",
    "        d = xy.loc[xy[target]==t, f]\n",
    "        d.describe()"
   ]
  },
  {
   "cell_type": "code",
   "execution_count": 331,
   "metadata": {},
   "outputs": [
    {
     "data": {
      "text/html": [
       "<div>\n",
       "<style scoped>\n",
       "    .dataframe tbody tr th:only-of-type {\n",
       "        vertical-align: middle;\n",
       "    }\n",
       "\n",
       "    .dataframe tbody tr th {\n",
       "        vertical-align: top;\n",
       "    }\n",
       "\n",
       "    .dataframe thead th {\n",
       "        text-align: right;\n",
       "    }\n",
       "</style>\n",
       "<table border=\"1\" class=\"dataframe\">\n",
       "  <thead>\n",
       "    <tr style=\"text-align: right;\">\n",
       "      <th></th>\n",
       "      <th>x0 x1</th>\n",
       "      <th>x0 x2</th>\n",
       "      <th>x1 x2</th>\n",
       "      <th>x0 x1 x2</th>\n",
       "    </tr>\n",
       "  </thead>\n",
       "  <tbody>\n",
       "    <tr>\n",
       "      <td>0</td>\n",
       "      <td>0.0</td>\n",
       "      <td>-110.0</td>\n",
       "      <td>-0.0</td>\n",
       "      <td>-0.0</td>\n",
       "    </tr>\n",
       "    <tr>\n",
       "      <td>1</td>\n",
       "      <td>0.0</td>\n",
       "      <td>-0.0</td>\n",
       "      <td>-0.0</td>\n",
       "      <td>-0.0</td>\n",
       "    </tr>\n",
       "    <tr>\n",
       "      <td>2</td>\n",
       "      <td>0.0</td>\n",
       "      <td>-0.0</td>\n",
       "      <td>-0.0</td>\n",
       "      <td>-0.0</td>\n",
       "    </tr>\n",
       "    <tr>\n",
       "      <td>3</td>\n",
       "      <td>0.0</td>\n",
       "      <td>-0.0</td>\n",
       "      <td>-0.0</td>\n",
       "      <td>-0.0</td>\n",
       "    </tr>\n",
       "    <tr>\n",
       "      <td>4</td>\n",
       "      <td>0.0</td>\n",
       "      <td>-0.0</td>\n",
       "      <td>-0.0</td>\n",
       "      <td>-0.0</td>\n",
       "    </tr>\n",
       "  </tbody>\n",
       "</table>\n",
       "</div>"
      ],
      "text/plain": [
       "   x0 x1  x0 x2  x1 x2  x0 x1 x2\n",
       "0    0.0 -110.0   -0.0      -0.0\n",
       "1    0.0   -0.0   -0.0      -0.0\n",
       "2    0.0   -0.0   -0.0      -0.0\n",
       "3    0.0   -0.0   -0.0      -0.0\n",
       "4    0.0   -0.0   -0.0      -0.0"
      ]
     },
     "execution_count": 331,
     "metadata": {},
     "output_type": "execute_result"
    }
   ],
   "source": [
    "a = xy[[target, '贷款类型_x', '身份认证日期距申请日期月数_y']].head(100)\n",
    "poly = PolynomialFeatures(degree=3, include_bias=False, interaction_only=True)\n",
    "feats_poly = pd.DataFrame(poly.fit_transform(a), columns=poly.get_feature_names()).iloc[:, len(a.columns):]\n",
    "feats_poly.head()"
   ]
  },
  {
   "cell_type": "code",
   "execution_count": 318,
   "metadata": {},
   "outputs": [
    {
     "data": {
      "text/plain": [
       "0.132"
      ]
     },
     "execution_count": 318,
     "metadata": {},
     "output_type": "execute_result"
    },
    {
     "data": {
      "text/plain": [
       "0.204"
      ]
     },
     "execution_count": 318,
     "metadata": {},
     "output_type": "execute_result"
    }
   ],
   "source": [
    "f = '工作日期距申请日期天数_y'\n",
    "v = -2\n",
    "round(xy.loc[(xy[f]/365<=v) & (xy[f].isna()==False), target].mean() ,3)\n",
    "round(xy.loc[(xy[f]/365>v) & (xy[f]<0) & (xy[f].isna()==False), target].mean() ,3)"
   ]
  }
 ],
 "metadata": {
  "kernelspec": {
   "display_name": "Python 3",
   "language": "python",
   "name": "python3"
  },
  "language_info": {
   "codemirror_mode": {
    "name": "ipython",
    "version": 3
   },
   "file_extension": ".py",
   "mimetype": "text/x-python",
   "name": "python",
   "nbconvert_exporter": "python",
   "pygments_lexer": "ipython3",
   "version": "3.7.4"
  }
 },
 "nbformat": 4,
 "nbformat_minor": 2
}
