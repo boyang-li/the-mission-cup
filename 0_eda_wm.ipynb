{
 "cells": [
  {
   "cell_type": "code",
   "execution_count": 189,
   "metadata": {},
   "outputs": [],
   "source": [
    "%config ZMQInteractiveShell.ast_node_interactivity='all'\n",
    "%matplotlib inline\n",
    "import warnings;warnings.filterwarnings('ignore')\n",
    "import os\n",
    "import numpy as np\n",
    "import pandas as pd\n",
    "import matplotlib.pyplot as plt\n",
    "import seaborn as sns\n",
    "\n",
    "from scipy import stats as spstats\n",
    "from sklearn import metrics\n",
    "from sklearn.base import BaseEstimator, ClassifierMixin, TransformerMixin, clone\n",
    "from sklearn.preprocessing import Imputer, LabelEncoder\n",
    "from sklearn.model_selection import KFold, StratifiedKFold, RandomizedSearchCV\n",
    "from sklearn.externals import joblib\n",
    "\n",
    "from sklearn.ensemble import RandomForestClassifier\n",
    "from sklearn.linear_model import LogisticRegression\n",
    "from xgboost import XGBClassifier\n",
    "from lightgbm import LGBMClassifier"
   ]
  },
  {
   "cell_type": "code",
   "execution_count": 8,
   "metadata": {},
   "outputs": [],
   "source": [
    "target = '标签'\n",
    "uid = '申请编号'\n",
    "uid_h = '历史申请编号'"
   ]
  },
  {
   "cell_type": "code",
   "execution_count": 19,
   "metadata": {},
   "outputs": [
    {
     "data": {
      "text/plain": [
       "(647963, 32)"
      ]
     },
     "execution_count": 19,
     "metadata": {},
     "output_type": "execute_result"
    },
    {
     "data": {
      "text/html": [
       "<div>\n",
       "<style scoped>\n",
       "    .dataframe tbody tr th:only-of-type {\n",
       "        vertical-align: middle;\n",
       "    }\n",
       "\n",
       "    .dataframe tbody tr th {\n",
       "        vertical-align: top;\n",
       "    }\n",
       "\n",
       "    .dataframe thead th {\n",
       "        text-align: right;\n",
       "    }\n",
       "</style>\n",
       "<table border=\"1\" class=\"dataframe\">\n",
       "  <thead>\n",
       "    <tr style=\"text-align: right;\">\n",
       "      <th></th>\n",
       "      <th>历史申请编号</th>\n",
       "      <th>申请编号</th>\n",
       "      <th>贷款类型</th>\n",
       "      <th>贷款年金</th>\n",
       "      <th>申请额度</th>\n",
       "      <th>信用额度</th>\n",
       "      <th>首付金额</th>\n",
       "      <th>商品价格</th>\n",
       "      <th>申请周内日</th>\n",
       "      <th>申请时点</th>\n",
       "      <th>...</th>\n",
       "      <th>商品类别</th>\n",
       "      <th>组合类型</th>\n",
       "      <th>产品类型</th>\n",
       "      <th>获客渠道</th>\n",
       "      <th>销售区域</th>\n",
       "      <th>行业</th>\n",
       "      <th>贷款期数</th>\n",
       "      <th>收益级别</th>\n",
       "      <th>产品组合</th>\n",
       "      <th>首付时间</th>\n",
       "    </tr>\n",
       "  </thead>\n",
       "  <tbody>\n",
       "    <tr>\n",
       "      <td>0</td>\n",
       "      <td>1040733</td>\n",
       "      <td>173562</td>\n",
       "      <td>0</td>\n",
       "      <td>4444.0</td>\n",
       "      <td>106931</td>\n",
       "      <td>119633.0</td>\n",
       "      <td>NaN</td>\n",
       "      <td>106931.0</td>\n",
       "      <td>5</td>\n",
       "      <td>5</td>\n",
       "      <td>...</td>\n",
       "      <td>27</td>\n",
       "      <td>2</td>\n",
       "      <td>2</td>\n",
       "      <td>3</td>\n",
       "      <td>0</td>\n",
       "      <td>10</td>\n",
       "      <td>44.0</td>\n",
       "      <td>2</td>\n",
       "      <td>7.0</td>\n",
       "      <td>292204.0</td>\n",
       "    </tr>\n",
       "    <tr>\n",
       "      <td>1</td>\n",
       "      <td>450011</td>\n",
       "      <td>173562</td>\n",
       "      <td>0</td>\n",
       "      <td>3831.0</td>\n",
       "      <td>79211</td>\n",
       "      <td>90188.0</td>\n",
       "      <td>NaN</td>\n",
       "      <td>79211.0</td>\n",
       "      <td>7</td>\n",
       "      <td>4</td>\n",
       "      <td>...</td>\n",
       "      <td>27</td>\n",
       "      <td>2</td>\n",
       "      <td>2</td>\n",
       "      <td>0</td>\n",
       "      <td>4</td>\n",
       "      <td>10</td>\n",
       "      <td>44.0</td>\n",
       "      <td>3</td>\n",
       "      <td>7.0</td>\n",
       "      <td>292204.0</td>\n",
       "    </tr>\n",
       "    <tr>\n",
       "      <td>2</td>\n",
       "      <td>698695</td>\n",
       "      <td>173562</td>\n",
       "      <td>A</td>\n",
       "      <td>861.0</td>\n",
       "      <td>8327</td>\n",
       "      <td>4180.0</td>\n",
       "      <td>4367.0</td>\n",
       "      <td>8327.0</td>\n",
       "      <td>5</td>\n",
       "      <td>5</td>\n",
       "      <td>...</td>\n",
       "      <td>2</td>\n",
       "      <td>3</td>\n",
       "      <td>0</td>\n",
       "      <td>7</td>\n",
       "      <td>84</td>\n",
       "      <td>4</td>\n",
       "      <td>7.0</td>\n",
       "      <td>1</td>\n",
       "      <td>10.0</td>\n",
       "      <td>292204.0</td>\n",
       "    </tr>\n",
       "    <tr>\n",
       "      <td>3</td>\n",
       "      <td>924081</td>\n",
       "      <td>173562</td>\n",
       "      <td>A</td>\n",
       "      <td>1183.0</td>\n",
       "      <td>12568</td>\n",
       "      <td>12568.0</td>\n",
       "      <td>11.0</td>\n",
       "      <td>12568.0</td>\n",
       "      <td>7</td>\n",
       "      <td>4</td>\n",
       "      <td>...</td>\n",
       "      <td>7</td>\n",
       "      <td>3</td>\n",
       "      <td>0</td>\n",
       "      <td>7</td>\n",
       "      <td>83</td>\n",
       "      <td>5</td>\n",
       "      <td>14.0</td>\n",
       "      <td>3</td>\n",
       "      <td>12.0</td>\n",
       "      <td>292204.0</td>\n",
       "    </tr>\n",
       "    <tr>\n",
       "      <td>4</td>\n",
       "      <td>907875</td>\n",
       "      <td>173562</td>\n",
       "      <td>1</td>\n",
       "      <td>1990.0</td>\n",
       "      <td>11</td>\n",
       "      <td>39611.0</td>\n",
       "      <td>NaN</td>\n",
       "      <td>NaN</td>\n",
       "      <td>6</td>\n",
       "      <td>6</td>\n",
       "      <td>...</td>\n",
       "      <td>27</td>\n",
       "      <td>0</td>\n",
       "      <td>2</td>\n",
       "      <td>3</td>\n",
       "      <td>0</td>\n",
       "      <td>10</td>\n",
       "      <td>0.0</td>\n",
       "      <td>0</td>\n",
       "      <td>1.0</td>\n",
       "      <td>-560.0</td>\n",
       "    </tr>\n",
       "  </tbody>\n",
       "</table>\n",
       "<p>5 rows × 32 columns</p>\n",
       "</div>"
      ],
      "text/plain": [
       "    历史申请编号    申请编号 贷款类型    贷款年金    申请额度      信用额度    首付金额      商品价格  申请周内日  \\\n",
       "0  1040733  173562    0  4444.0  106931  119633.0     NaN  106931.0      5   \n",
       "1   450011  173562    0  3831.0   79211   90188.0     NaN   79211.0      7   \n",
       "2   698695  173562    A   861.0    8327    4180.0  4367.0    8327.0      5   \n",
       "3   924081  173562    A  1183.0   12568   12568.0    11.0   12568.0      7   \n",
       "4   907875  173562    1  1990.0      11   39611.0     NaN       NaN      6   \n",
       "\n",
       "   申请时点  ... 商品类别  组合类型  产品类型  获客渠道  销售区域  行业  贷款期数  收益级别  产品组合      首付时间  \n",
       "0     5  ...   27     2     2     3     0  10  44.0     2   7.0  292204.0  \n",
       "1     4  ...   27     2     2     0     4  10  44.0     3   7.0  292204.0  \n",
       "2     5  ...    2     3     0     7    84   4   7.0     1  10.0  292204.0  \n",
       "3     4  ...    7     3     0     7    83   5  14.0     3  12.0  292204.0  \n",
       "4     6  ...   27     0     2     3     0  10   0.0     0   1.0    -560.0  \n",
       "\n",
       "[5 rows x 32 columns]"
      ]
     },
     "execution_count": 19,
     "metadata": {},
     "output_type": "execute_result"
    },
    {
     "data": {
      "text/plain": [
       "(5257909, 8)"
      ]
     },
     "execution_count": 19,
     "metadata": {},
     "output_type": "execute_result"
    },
    {
     "data": {
      "text/html": [
       "<div>\n",
       "<style scoped>\n",
       "    .dataframe tbody tr th:only-of-type {\n",
       "        vertical-align: middle;\n",
       "    }\n",
       "\n",
       "    .dataframe tbody tr th {\n",
       "        vertical-align: top;\n",
       "    }\n",
       "\n",
       "    .dataframe thead th {\n",
       "        text-align: right;\n",
       "    }\n",
       "</style>\n",
       "<table border=\"1\" class=\"dataframe\">\n",
       "  <thead>\n",
       "    <tr style=\"text-align: right;\">\n",
       "      <th></th>\n",
       "      <th>历史申请编号</th>\n",
       "      <th>申请编号</th>\n",
       "      <th>分期付款日期</th>\n",
       "      <th>有支付行为的分期付款</th>\n",
       "      <th>分期付款应支付时间</th>\n",
       "      <th>分期付款实际支付时间</th>\n",
       "      <th>本期贷款金额</th>\n",
       "      <th>本期还款金额</th>\n",
       "    </tr>\n",
       "  </thead>\n",
       "  <tbody>\n",
       "    <tr>\n",
       "      <td>0</td>\n",
       "      <td>225186</td>\n",
       "      <td>81363</td>\n",
       "      <td>2</td>\n",
       "      <td>8</td>\n",
       "      <td>-934</td>\n",
       "      <td>-939.0</td>\n",
       "      <td>1233.0</td>\n",
       "      <td>1233.0</td>\n",
       "    </tr>\n",
       "    <tr>\n",
       "      <td>1</td>\n",
       "      <td>877876</td>\n",
       "      <td>81363</td>\n",
       "      <td>2</td>\n",
       "      <td>26</td>\n",
       "      <td>-426</td>\n",
       "      <td>-431.0</td>\n",
       "      <td>2000.0</td>\n",
       "      <td>2000.0</td>\n",
       "    </tr>\n",
       "    <tr>\n",
       "      <td>2</td>\n",
       "      <td>225186</td>\n",
       "      <td>81363</td>\n",
       "      <td>2</td>\n",
       "      <td>3</td>\n",
       "      <td>-1030</td>\n",
       "      <td>-1035.0</td>\n",
       "      <td>1233.0</td>\n",
       "      <td>1233.0</td>\n",
       "    </tr>\n",
       "    <tr>\n",
       "      <td>3</td>\n",
       "      <td>518289</td>\n",
       "      <td>81363</td>\n",
       "      <td>2</td>\n",
       "      <td>3</td>\n",
       "      <td>-182</td>\n",
       "      <td>-184.0</td>\n",
       "      <td>1308.0</td>\n",
       "      <td>1308.0</td>\n",
       "    </tr>\n",
       "    <tr>\n",
       "      <td>4</td>\n",
       "      <td>877876</td>\n",
       "      <td>81363</td>\n",
       "      <td>2</td>\n",
       "      <td>13</td>\n",
       "      <td>-690</td>\n",
       "      <td>-695.0</td>\n",
       "      <td>2000.0</td>\n",
       "      <td>2000.0</td>\n",
       "    </tr>\n",
       "  </tbody>\n",
       "</table>\n",
       "</div>"
      ],
      "text/plain": [
       "   历史申请编号   申请编号  分期付款日期  有支付行为的分期付款  分期付款应支付时间  分期付款实际支付时间  本期贷款金额  本期还款金额\n",
       "0  225186  81363       2           8       -934      -939.0  1233.0  1233.0\n",
       "1  877876  81363       2          26       -426      -431.0  2000.0  2000.0\n",
       "2  225186  81363       2           3      -1030     -1035.0  1233.0  1233.0\n",
       "3  518289  81363       2           3       -182      -184.0  1308.0  1308.0\n",
       "4  877876  81363       2          13       -690      -695.0  2000.0  2000.0"
      ]
     },
     "execution_count": 19,
     "metadata": {},
     "output_type": "execute_result"
    }
   ],
   "source": [
    "############## D3\n",
    "\n",
    "d3= pd.read_csv('./data/train_History_Application.csv', header=0)\n",
    "d3.shape\n",
    "d3.head()\n",
    "\n",
    "d4= pd.read_csv('./data/train_History_Payment.csv', header=0)\n",
    "d4.shape\n",
    "d4.head()"
   ]
  },
  {
   "cell_type": "code",
   "execution_count": 27,
   "metadata": {},
   "outputs": [],
   "source": [
    "####### D1 ~ D4 Exploration\n",
    "\n",
    "# D3\n",
    "d3_info = {}\n",
    "\n",
    "d3_info['desc'] = d3.drop([uid, uid_h], axis=1).describe().T\n",
    "d3_info['desc'].to_csv(f'./ana/0_cols_desc3.csv')\n",
    "\n",
    "# D4\n",
    "d4_info = {}\n",
    "\n",
    "d4_info['desc'] = d4.drop([uid, uid_h], axis=1).describe().T\n",
    "d4_info['desc'].to_csv(f'./ana/0_cols_desc4.csv')"
   ]
  },
  {
   "cell_type": "code",
   "execution_count": 43,
   "metadata": {},
   "outputs": [
    {
     "data": {
      "text/plain": [
       "0    402301\n",
       "1    119560\n",
       "2    115686\n",
       "3     10416\n",
       "Name: 合同状态, dtype: int64"
      ]
     },
     "execution_count": 43,
     "metadata": {},
     "output_type": "execute_result"
    }
   ],
   "source": [
    "d3['合同状态'].value_counts()"
   ]
  },
  {
   "cell_type": "code",
   "execution_count": 29,
   "metadata": {},
   "outputs": [],
   "source": [
    "d4.loc[d4[uid]==173562, :].T.to_csv(f'./ana/9_t4_case1.csv')"
   ]
  },
  {
   "cell_type": "code",
   "execution_count": 49,
   "metadata": {},
   "outputs": [
    {
     "data": {
      "text/plain": [
       "140000"
      ]
     },
     "execution_count": 49,
     "metadata": {},
     "output_type": "execute_result"
    },
    {
     "data": {
      "text/plain": [
       "(140000, 391)"
      ]
     },
     "execution_count": 49,
     "metadata": {},
     "output_type": "execute_result"
    }
   ],
   "source": [
    "################  Load Features\n",
    "\n",
    "X = pd.read_csv('./tmp/train_d12_d3_dum.csv', header=0, index_col=0)\n",
    "# pd.DataFrame(features.columns.values).to_csv('./ana/1_feature_cols.csv')\n",
    "X.shape\n",
    "\n",
    "y = pd.read_csv('./data/train_label.csv', header=0, index_col=0)\n",
    "len(y)\n",
    "\n",
    "# Merge\n",
    "xy = pd.merge(X, y, on=uid, how='inner')\n",
    "xy.drop(uid, axis=1, inplace=True)\n",
    "xy.shape\n",
    "\n",
    "# X, y\n",
    "X = xy.copy()\n",
    "X.shape\n",
    "y = X.pop(target)\n",
    "X.shape\n",
    "y.shape"
   ]
  },
  {
   "cell_type": "code",
   "execution_count": 72,
   "metadata": {},
   "outputs": [
    {
     "data": {
      "text/plain": [
       "count    390.000000\n",
       "mean       0.021778\n",
       "std        0.021535\n",
       "min        0.000004\n",
       "25%        0.004890\n",
       "50%        0.015055\n",
       "75%        0.031533\n",
       "max        0.131480\n",
       "Name: 标签, dtype: float64"
      ]
     },
     "execution_count": 72,
     "metadata": {},
     "output_type": "execute_result"
    },
    {
     "data": {
      "text/plain": [
       "233"
      ]
     },
     "execution_count": 72,
     "metadata": {},
     "output_type": "execute_result"
    }
   ],
   "source": [
    "############# correlations\n",
    "\n",
    "# correlations = xy.corr()\n",
    "\n",
    "# correlations.apply(abs).to_csv('./ana/0_correlations_abs.csv')\n",
    "# correlations.to_csv('./ana/0_correlations.csv')\n",
    "\n",
    "# Abs\n",
    "correlations_target_abs = correlations.loc[correlations.index != target, target].apply(abs).sort_values(ascending=False)\n",
    "correlations_target_abs.to_csv('./ana/0_correlations_target.csv')\n",
    "correlations_target_abs.describe()\n",
    "\n",
    "# fscore_corr = pd.DataFrame(correlations_target_abs)\n",
    "# fscore_corr.columns = ['corr']\n",
    "# fscore_corr.head()\n",
    "f = pd.DataFrame(correlations_target_abs.index, columns=['feature'])\n",
    "score_corr = pd.DataFrame(correlations_target_abs.values, columns=['corr'])\n",
    "fscore_corr = pd.concat([f, score_corr], axis=1).sort_values(by='corr', ascending=False).reset_index(drop=True)\n",
    "fscore_corr.head()\n",
    "\n",
    "\n",
    "# # >=0.01\n",
    "# features_top = {}\n",
    "# features_top['corr'] = correlations_target_abs[correlations_target_abs>=0.01]\n",
    "# features_top['corr'].count()"
   ]
  },
  {
   "cell_type": "code",
   "execution_count": 81,
   "metadata": {},
   "outputs": [],
   "source": [
    "# For kfold\n",
    "n_folds = 5\n",
    "\n",
    "# RF\n",
    "param_fixed_rf = {\n",
    "    'n_jobs' : 1,\n",
    "    'oob_score' : True,\n",
    "    'random_state':123,\n",
    "    'verbose':0\n",
    "}\n",
    "\n",
    "# XGB\n",
    "param_fixed_xgb = {\n",
    "    'n_jobs' : 1,\n",
    "    'eval_metric': 'auc',\n",
    "    'seed' : 123,\n",
    "    'silent' : 1,\n",
    "    'verbose_eval':0\n",
    "}\n",
    "\n",
    "# LGB\n",
    "param_fixed_lgb = {\n",
    "    'n_jobs' : 1,\n",
    "    'metric' : 'auc',\n",
    "    'bagging_seed':123,\n",
    "    'feature_fraction_seed':123,\n",
    "    'verbose_eval' : 0\n",
    "}"
   ]
  },
  {
   "cell_type": "code",
   "execution_count": 148,
   "metadata": {},
   "outputs": [
    {
     "data": {
      "text/html": [
       "<div>\n",
       "<style scoped>\n",
       "    .dataframe tbody tr th:only-of-type {\n",
       "        vertical-align: middle;\n",
       "    }\n",
       "\n",
       "    .dataframe tbody tr th {\n",
       "        vertical-align: top;\n",
       "    }\n",
       "\n",
       "    .dataframe thead th {\n",
       "        text-align: right;\n",
       "    }\n",
       "</style>\n",
       "<table border=\"1\" class=\"dataframe\">\n",
       "  <thead>\n",
       "    <tr style=\"text-align: right;\">\n",
       "      <th></th>\n",
       "      <th>feature</th>\n",
       "      <th>rf</th>\n",
       "    </tr>\n",
       "  </thead>\n",
       "  <tbody>\n",
       "    <tr>\n",
       "      <td>0</td>\n",
       "      <td>外部评分</td>\n",
       "      <td>0.074344</td>\n",
       "    </tr>\n",
       "    <tr>\n",
       "      <td>1</td>\n",
       "      <td>工作日期距申请日期天数</td>\n",
       "      <td>0.063480</td>\n",
       "    </tr>\n",
       "    <tr>\n",
       "      <td>2</td>\n",
       "      <td>出生日期距申请日期天数</td>\n",
       "      <td>0.040367</td>\n",
       "    </tr>\n",
       "    <tr>\n",
       "      <td>3</td>\n",
       "      <td>合同状态_2mean</td>\n",
       "      <td>0.026247</td>\n",
       "    </tr>\n",
       "    <tr>\n",
       "      <td>4</td>\n",
       "      <td>教育程度_1</td>\n",
       "      <td>0.025231</td>\n",
       "    </tr>\n",
       "  </tbody>\n",
       "</table>\n",
       "</div>"
      ],
      "text/plain": [
       "       feature        rf\n",
       "0         外部评分  0.074344\n",
       "1  工作日期距申请日期天数  0.063480\n",
       "2  出生日期距申请日期天数  0.040367\n",
       "3   合同状态_2mean  0.026247\n",
       "4       教育程度_1  0.025231"
      ]
     },
     "execution_count": 148,
     "metadata": {},
     "output_type": "execute_result"
    }
   ],
   "source": [
    "############# RF importance\n",
    "\n",
    "# RF\n",
    "# best_params_load = np.load('./model/base_rf.npy', allow_pickle=True).item()\n",
    "# model_params = {**best_params_load, **param_fixed_rf}\n",
    "# RF = RandomForestClassifier(**model_params)\n",
    "\n",
    "# # Train\n",
    "# RF.fit(X, y)\n",
    "\n",
    "# Importance\n",
    "f = pd.DataFrame(X.columns, columns=['feature'])\n",
    "score = pd.DataFrame(RF.feature_importances_, columns=['rf'])\n",
    "fscore_rf = pd.concat([f, score], axis=1).sort_values(by='rf', ascending=False).reset_index(drop=True)\n",
    "fscore_rf.head()"
   ]
  },
  {
   "cell_type": "code",
   "execution_count": 248,
   "metadata": {},
   "outputs": [
    {
     "data": {
      "text/plain": [
       "XGBClassifier(alpha=0.7777777777777777, base_score=0.5, booster='gbtree',\n",
       "              colsample_bylevel=0.7, colsample_bynode=1, colsample_bytree=0.6,\n",
       "              early_stopping_rounds=10, eta=0.03, eval_metric='auc', gamma=0,\n",
       "              lambda=0, learning_rate=0.1, max_delta_step=0, max_depth=7,\n",
       "              min_child_weight=7, missing=None, n_estimatores=200,\n",
       "              n_estimators=100, n_jobs=1, nthread=None,\n",
       "              objective='binary:logistic', random_state=0, reg_alpha=0,\n",
       "              reg_lambda=1, scale_pos_weight=1, seed=123, silent=1,\n",
       "              subsample=0.8, verbose_eval=0, verbosity=1)"
      ]
     },
     "execution_count": 248,
     "metadata": {},
     "output_type": "execute_result"
    },
    {
     "data": {
      "text/html": [
       "<div>\n",
       "<style scoped>\n",
       "    .dataframe tbody tr th:only-of-type {\n",
       "        vertical-align: middle;\n",
       "    }\n",
       "\n",
       "    .dataframe tbody tr th {\n",
       "        vertical-align: top;\n",
       "    }\n",
       "\n",
       "    .dataframe thead th {\n",
       "        text-align: right;\n",
       "    }\n",
       "</style>\n",
       "<table border=\"1\" class=\"dataframe\">\n",
       "  <thead>\n",
       "    <tr style=\"text-align: right;\">\n",
       "      <th></th>\n",
       "      <th>feature</th>\n",
       "      <th>xgb</th>\n",
       "    </tr>\n",
       "  </thead>\n",
       "  <tbody>\n",
       "    <tr>\n",
       "      <td>0</td>\n",
       "      <td>教育程度_1</td>\n",
       "      <td>0.017158</td>\n",
       "    </tr>\n",
       "    <tr>\n",
       "      <td>1</td>\n",
       "      <td>收入类型_7</td>\n",
       "      <td>0.011408</td>\n",
       "    </tr>\n",
       "    <tr>\n",
       "      <td>2</td>\n",
       "      <td>外部评分</td>\n",
       "      <td>0.010116</td>\n",
       "    </tr>\n",
       "    <tr>\n",
       "      <td>3</td>\n",
       "      <td>拒绝原因_4mean</td>\n",
       "      <td>0.009392</td>\n",
       "    </tr>\n",
       "    <tr>\n",
       "      <td>4</td>\n",
       "      <td>工作日期距申请日期天数</td>\n",
       "      <td>0.009314</td>\n",
       "    </tr>\n",
       "  </tbody>\n",
       "</table>\n",
       "</div>"
      ],
      "text/plain": [
       "       feature       xgb\n",
       "0       教育程度_1  0.017158\n",
       "1       收入类型_7  0.011408\n",
       "2         外部评分  0.010116\n",
       "3   拒绝原因_4mean  0.009392\n",
       "4  工作日期距申请日期天数  0.009314"
      ]
     },
     "execution_count": 248,
     "metadata": {},
     "output_type": "execute_result"
    }
   ],
   "source": [
    "############# XGB importance\n",
    "\n",
    "# XGB\n",
    "best_params_load = np.load('./model/base_xgb.npy', allow_pickle=True).item()\n",
    "model_params = {**best_params_load, **param_fixed_xgb}\n",
    "XGB = XGBClassifier(**model_params)\n",
    "\n",
    "# Train\n",
    "XGB.fit(X, y)\n",
    "\n",
    "# Importance\n",
    "f = pd.DataFrame(X.columns, columns=['feature'])\n",
    "score = pd.DataFrame(XGB.feature_importances_, columns=['xgb'])\n",
    "fscore_xgb = pd.concat([f, score], axis=1).sort_values(by='xgb', ascending=False).reset_index(drop=True)\n",
    "fscore_xgb.head()"
   ]
  },
  {
   "cell_type": "code",
   "execution_count": 150,
   "metadata": {},
   "outputs": [
    {
     "data": {
      "text/html": [
       "<div>\n",
       "<style scoped>\n",
       "    .dataframe tbody tr th:only-of-type {\n",
       "        vertical-align: middle;\n",
       "    }\n",
       "\n",
       "    .dataframe tbody tr th {\n",
       "        vertical-align: top;\n",
       "    }\n",
       "\n",
       "    .dataframe thead th {\n",
       "        text-align: right;\n",
       "    }\n",
       "</style>\n",
       "<table border=\"1\" class=\"dataframe\">\n",
       "  <thead>\n",
       "    <tr style=\"text-align: right;\">\n",
       "      <th></th>\n",
       "      <th>feature</th>\n",
       "      <th>lgb</th>\n",
       "    </tr>\n",
       "  </thead>\n",
       "  <tbody>\n",
       "    <tr>\n",
       "      <td>0</td>\n",
       "      <td>贷款年金</td>\n",
       "      <td>3632</td>\n",
       "    </tr>\n",
       "    <tr>\n",
       "      <td>1</td>\n",
       "      <td>出生日期距申请日期天数</td>\n",
       "      <td>3521</td>\n",
       "    </tr>\n",
       "    <tr>\n",
       "      <td>2</td>\n",
       "      <td>身份认证日期距申请日期天数</td>\n",
       "      <td>3426</td>\n",
       "    </tr>\n",
       "    <tr>\n",
       "      <td>3</td>\n",
       "      <td>信用额度</td>\n",
       "      <td>3233</td>\n",
       "    </tr>\n",
       "    <tr>\n",
       "      <td>4</td>\n",
       "      <td>最近一次换手机号码距申请日天数</td>\n",
       "      <td>3055</td>\n",
       "    </tr>\n",
       "  </tbody>\n",
       "</table>\n",
       "</div>"
      ],
      "text/plain": [
       "           feature   lgb\n",
       "0             贷款年金  3632\n",
       "1      出生日期距申请日期天数  3521\n",
       "2    身份认证日期距申请日期天数  3426\n",
       "3             信用额度  3233\n",
       "4  最近一次换手机号码距申请日天数  3055"
      ]
     },
     "execution_count": 150,
     "metadata": {},
     "output_type": "execute_result"
    }
   ],
   "source": [
    "############# LGB importance\n",
    "\n",
    "# # LGB\n",
    "# best_params_load = np.load('./model/base_lgb.npy', allow_pickle=True).item()\n",
    "# model_params = {**best_params_load, **param_fixed_lgb}\n",
    "# LGB = LGBMClassifier(**model_params)\n",
    "\n",
    "# # Train\n",
    "# LGB.fit(X, y)\n",
    "\n",
    "# Importance\n",
    "f = pd.DataFrame(X.columns, columns=['feature'])\n",
    "score = pd.DataFrame(LGB.feature_importances_, columns=['lgb'])\n",
    "fscore_lgb = pd.concat([f, score], axis=1).sort_values(by='lgb', ascending=False).reset_index(drop=True)\n",
    "fscore_lgb.head()"
   ]
  },
  {
   "cell_type": "code",
   "execution_count": 249,
   "metadata": {},
   "outputs": [
    {
     "data": {
      "text/plain": [
       "(390, 9)"
      ]
     },
     "execution_count": 249,
     "metadata": {},
     "output_type": "execute_result"
    },
    {
     "data": {
      "text/html": [
       "<div>\n",
       "<style scoped>\n",
       "    .dataframe tbody tr th:only-of-type {\n",
       "        vertical-align: middle;\n",
       "    }\n",
       "\n",
       "    .dataframe tbody tr th {\n",
       "        vertical-align: top;\n",
       "    }\n",
       "\n",
       "    .dataframe thead th {\n",
       "        text-align: right;\n",
       "    }\n",
       "</style>\n",
       "<table border=\"1\" class=\"dataframe\">\n",
       "  <thead>\n",
       "    <tr style=\"text-align: right;\">\n",
       "      <th></th>\n",
       "      <th>feature</th>\n",
       "      <th>corr</th>\n",
       "      <th>rf</th>\n",
       "      <th>xgb</th>\n",
       "      <th>lgb</th>\n",
       "      <th>corr_rank</th>\n",
       "      <th>rf_rank</th>\n",
       "      <th>xgb_rank</th>\n",
       "      <th>lgb_rank</th>\n",
       "    </tr>\n",
       "  </thead>\n",
       "  <tbody>\n",
       "    <tr>\n",
       "      <td>0</td>\n",
       "      <td>外部评分</td>\n",
       "      <td>0.131480</td>\n",
       "      <td>0.074344</td>\n",
       "      <td>0.010116</td>\n",
       "      <td>2423</td>\n",
       "      <td>1.0</td>\n",
       "      <td>1.0</td>\n",
       "      <td>3.0</td>\n",
       "      <td>9.0</td>\n",
       "    </tr>\n",
       "    <tr>\n",
       "      <td>1</td>\n",
       "      <td>出生日期距申请日期天数</td>\n",
       "      <td>0.103142</td>\n",
       "      <td>0.040367</td>\n",
       "      <td>0.006018</td>\n",
       "      <td>3521</td>\n",
       "      <td>2.0</td>\n",
       "      <td>3.0</td>\n",
       "      <td>18.0</td>\n",
       "      <td>2.0</td>\n",
       "    </tr>\n",
       "    <tr>\n",
       "      <td>2</td>\n",
       "      <td>合同状态_2mean</td>\n",
       "      <td>0.100053</td>\n",
       "      <td>0.026247</td>\n",
       "      <td>0.008828</td>\n",
       "      <td>509</td>\n",
       "      <td>3.0</td>\n",
       "      <td>4.0</td>\n",
       "      <td>6.0</td>\n",
       "      <td>67.0</td>\n",
       "    </tr>\n",
       "    <tr>\n",
       "      <td>3</td>\n",
       "      <td>拒绝原因_7mean</td>\n",
       "      <td>0.095755</td>\n",
       "      <td>0.021688</td>\n",
       "      <td>0.006935</td>\n",
       "      <td>473</td>\n",
       "      <td>4.0</td>\n",
       "      <td>6.0</td>\n",
       "      <td>13.0</td>\n",
       "      <td>75.0</td>\n",
       "    </tr>\n",
       "    <tr>\n",
       "      <td>4</td>\n",
       "      <td>工作日期距申请日期天数</td>\n",
       "      <td>0.093929</td>\n",
       "      <td>0.063480</td>\n",
       "      <td>0.009314</td>\n",
       "      <td>2941</td>\n",
       "      <td>5.0</td>\n",
       "      <td>2.0</td>\n",
       "      <td>5.0</td>\n",
       "      <td>7.0</td>\n",
       "    </tr>\n",
       "  </tbody>\n",
       "</table>\n",
       "</div>"
      ],
      "text/plain": [
       "       feature      corr        rf       xgb   lgb  corr_rank  rf_rank  \\\n",
       "0         外部评分  0.131480  0.074344  0.010116  2423        1.0      1.0   \n",
       "1  出生日期距申请日期天数  0.103142  0.040367  0.006018  3521        2.0      3.0   \n",
       "2   合同状态_2mean  0.100053  0.026247  0.008828   509        3.0      4.0   \n",
       "3   拒绝原因_7mean  0.095755  0.021688  0.006935   473        4.0      6.0   \n",
       "4  工作日期距申请日期天数  0.093929  0.063480  0.009314  2941        5.0      2.0   \n",
       "\n",
       "   xgb_rank  lgb_rank  \n",
       "0       3.0       9.0  \n",
       "1      18.0       2.0  \n",
       "2       6.0      67.0  \n",
       "3      13.0      75.0  \n",
       "4       5.0       7.0  "
      ]
     },
     "execution_count": 249,
     "metadata": {},
     "output_type": "execute_result"
    }
   ],
   "source": [
    "#### Merge important\n",
    "\n",
    "fscore = pd.merge(fscore_corr, fscore_rf, on='feature')\n",
    "fscore = pd.merge(fscore, fscore_xgb, on='feature')\n",
    "fscore = pd.merge(fscore, fscore_lgb, on='feature')\n",
    "# Add rank\n",
    "frank = fscore.rank(numeric_only=True, ascending=False)\n",
    "fscore = pd.merge(fscore, frank, left_index=True, right_index=True, suffixes=['', '_rank'])\n",
    "\n",
    "fscore.shape\n",
    "fscore.head()\n",
    "fscore.to_csv('./model/f_score.csv')"
   ]
  },
  {
   "cell_type": "code",
   "execution_count": 253,
   "metadata": {},
   "outputs": [
    {
     "data": {
      "text/html": [
       "<div>\n",
       "<style scoped>\n",
       "    .dataframe tbody tr th:only-of-type {\n",
       "        vertical-align: middle;\n",
       "    }\n",
       "\n",
       "    .dataframe tbody tr th {\n",
       "        vertical-align: top;\n",
       "    }\n",
       "\n",
       "    .dataframe thead th {\n",
       "        text-align: right;\n",
       "    }\n",
       "</style>\n",
       "<table border=\"1\" class=\"dataframe\">\n",
       "  <thead>\n",
       "    <tr style=\"text-align: right;\">\n",
       "      <th></th>\n",
       "      <th>corr</th>\n",
       "      <th>rf</th>\n",
       "      <th>xgb</th>\n",
       "      <th>lgb</th>\n",
       "      <th>rf_xgb</th>\n",
       "      <th>rf_lgb</th>\n",
       "      <th>xgb_lgb</th>\n",
       "    </tr>\n",
       "  </thead>\n",
       "  <tbody>\n",
       "    <tr>\n",
       "      <td>Intersection</td>\n",
       "      <td>1.0</td>\n",
       "      <td>0.66</td>\n",
       "      <td>0.53</td>\n",
       "      <td>0.38</td>\n",
       "      <td>0.5</td>\n",
       "      <td>0.67</td>\n",
       "      <td>0.3</td>\n",
       "    </tr>\n",
       "  </tbody>\n",
       "</table>\n",
       "</div>"
      ],
      "text/plain": [
       "              corr    rf   xgb   lgb  rf_xgb  rf_lgb  xgb_lgb\n",
       "Intersection   1.0  0.66  0.53  0.38     0.5    0.67      0.3"
      ]
     },
     "execution_count": 253,
     "metadata": {},
     "output_type": "execute_result"
    }
   ],
   "source": [
    "#### Intersection\n",
    "\n",
    "n = 100\n",
    "\n",
    "top_f = {}\n",
    "inter_cnt = {}\n",
    "for k in 'corr', 'rf', 'xgb', 'lgb':\n",
    "    top_f[k] = set(fscore.loc[fscore[f'{k}_rank']<=n, 'feature'])\n",
    "    inter_cnt[k] = round(len(top_f['corr'].intersection(top_f[k]))/n, 2)\n",
    "    \n",
    "inter_cnt['rf_xgb'] = round(len(top_f['rf'].intersection(top_f['xgb']))/n, 2)\n",
    "inter_cnt['rf_lgb'] = round(len(top_f['rf'].intersection(top_f['lgb']))/n, 2)\n",
    "inter_cnt['xgb_lgb'] = round(len(top_f['xgb'].intersection(top_f['lgb']))/n, 2)\n",
    "\n",
    "pd.DataFrame(inter_cnt, index=['Intersection'])"
   ]
  },
  {
   "cell_type": "code",
   "execution_count": 245,
   "metadata": {},
   "outputs": [
    {
     "data": {
      "text/plain": [
       "count    140000.000000\n",
       "mean     -12740.506536\n",
       "std        3487.673896\n",
       "min      -20173.000000\n",
       "25%      -15657.000000\n",
       "50%      -12481.000000\n",
       "75%       -9820.000000\n",
       "max       -6570.000000\n",
       "Name: 出生日期距申请日期天数, dtype: float64"
      ]
     },
     "execution_count": 245,
     "metadata": {},
     "output_type": "execute_result"
    }
   ],
   "source": [
    "############# boxcox\n",
    "\n",
    "# feat = '商品价格'\n",
    "# feat = '贷款申请前1年内征信查询次数'\n",
    "feat = '出生日期距申请日期天数'\n",
    "\n",
    "X[feat].describe()"
   ]
  },
  {
   "cell_type": "code",
   "execution_count": 246,
   "metadata": {},
   "outputs": [
    {
     "data": {
      "text/plain": [
       "' ori '"
      ]
     },
     "execution_count": 246,
     "metadata": {},
     "output_type": "execute_result"
    },
    {
     "data": {
      "text/plain": [
       "<matplotlib.axes._subplots.AxesSubplot at 0x1a220a2e90>"
      ]
     },
     "execution_count": 246,
     "metadata": {},
     "output_type": "execute_result"
    },
    {
     "data": {
      "image/png": "[encoded data removed]",
      "text/plain": [
       "<Figure size 432x288 with 1 Axes>"
      ]
     },
     "metadata": {
      "needs_background": "light"
     },
     "output_type": "display_data"
    },
    {
     "data": {
      "text/plain": [
       "' boxcox '"
      ]
     },
     "execution_count": 246,
     "metadata": {},
     "output_type": "execute_result"
    },
    {
     "data": {
      "text/plain": [
       "0.5118304262609339"
      ]
     },
     "execution_count": 246,
     "metadata": {},
     "output_type": "execute_result"
    },
    {
     "data": {
      "text/plain": [
       "<matplotlib.axes._subplots.AxesSubplot at 0x1a22211150>"
      ]
     },
     "execution_count": 246,
     "metadata": {},
     "output_type": "execute_result"
    },
    {
     "data": {
      "image/png": "[encoded data removed]",
      "text/plain": [
       "<Figure size 432x288 with 1 Axes>"
      ]
     },
     "metadata": {
      "needs_background": "light"
     },
     "output_type": "display_data"
    }
   ],
   "source": [
    "''' ori '''\n",
    "sns.distplot(X[feat] + 1)\n",
    "plt.show()\n",
    "\n",
    "''' boxcox '''\n",
    "inp = X[feat].apply('abs') + 1\n",
    "l, opt_lmbda = spstats.boxcox(inp)\n",
    "opt_lmbda\n",
    "lmbda = 0\n",
    "if opt_lmbda > 0:\n",
    "    lmbda = opt_lmbda\n",
    "sns.distplot(spstats.boxcox(inp, lmbda=lmbda))\n",
    "plt.show()"
   ]
  },
  {
   "cell_type": "code",
   "execution_count": null,
   "metadata": {},
   "outputs": [],
   "source": [
    "############## Fill Null\n",
    "\n",
    "# Fill Null\n",
    "imp =Imputer(missing_values=np.NaN, strategy=\"mean\", axis=0)\n",
    "data = imp.fit_transform(data_ori)\n",
    "len(data)\n",
    "len(data[0])"
   ]
  },
  {
   "cell_type": "code",
   "execution_count": null,
   "metadata": {},
   "outputs": [],
   "source": [
    "############## X, y\n",
    "\n",
    "''' y '''\n",
    "y = data[:, 1]\n",
    "len(y)\n",
    "y[:10]\n",
    "\n",
    "''' X '''\n",
    "X = data[:, 2:]\n",
    "len(X)\n",
    "len(X[0])\n",
    "X[0][:10]\n",
    "\n",
    "pd.DataFrame(y).to_csv('./tmp/1_y.csv')\n",
    "pd.DataFrame(X).to_csv('./tmp/1_X.csv')"
   ]
  },
  {
   "cell_type": "code",
   "execution_count": null,
   "metadata": {},
   "outputs": [],
   "source": [
    "############## Check X, y\n",
    "\n",
    "X1 = pd.read_csv('./tmp/1_X.csv', header=0, index_col=0)\n",
    "X1.shape\n",
    "X1.head()\n",
    "\n",
    "y1 = pd.read_csv('./tmp/1_y.csv', header=0, index_col=0)\n",
    "y1.shape\n",
    "y1.head()\n",
    "\n",
    "''' y '''\n",
    "len(y)\n",
    "y2 = y1['0'].values\n",
    "len(y2)\n",
    "(y == y2).sum()\n",
    "\n",
    "''' X '''\n",
    "len(X)\n",
    "len(X[0])\n",
    "X2 = X1.values\n",
    "len(X2)\n",
    "len(X2[0])\n",
    "(X == X2).sum(axis=1)\n",
    "140000 * 329"
   ]
  },
  {
   "cell_type": "code",
   "execution_count": null,
   "metadata": {},
   "outputs": [],
   "source": [
    "n=0\n",
    "y[n]\n",
    "y2[n]"
   ]
  }
 ],
 "metadata": {
  "kernelspec": {
   "display_name": "Python 3",
   "language": "python",
   "name": "python3"
  },
  "language_info": {
   "codemirror_mode": {
    "name": "ipython",
    "version": 3
   },
   "file_extension": ".py",
   "mimetype": "text/x-python",
   "name": "python",
   "nbconvert_exporter": "python",
   "pygments_lexer": "ipython3",
   "version": "3.7.4"
  }
 },
 "nbformat": 4,
 "nbformat_minor": 2
}
